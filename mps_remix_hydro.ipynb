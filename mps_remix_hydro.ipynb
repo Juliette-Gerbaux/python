{
 "cells": [
  {
   "cell_type": "markdown",
   "metadata": {},
   "source": [
    "## Imports"
   ]
  },
  {
   "cell_type": "code",
   "execution_count": 1,
   "metadata": {},
   "outputs": [],
   "source": [
    "import xpress as xp\n",
    "import numpy as np\n",
    "import matplotlib.pyplot as plt\n",
    "import pandas as pd\n",
    "import seaborn as sns"
   ]
  },
  {
   "cell_type": "code",
   "execution_count": 2,
   "metadata": {},
   "outputs": [],
   "source": [
    "%load_ext line_profiler"
   ]
  },
  {
   "cell_type": "code",
   "execution_count": 3,
   "metadata": {},
   "outputs": [],
   "source": [
    "%matplotlib widget"
   ]
  },
  {
   "cell_type": "code",
   "execution_count": 4,
   "metadata": {},
   "outputs": [],
   "source": [
    "xp.controls.outputlog = 1\n",
    "xp.controls.threads = 1\n",
    "xp.controls.scaling = 0\n",
    "xp.controls.presolve = 0\n",
    "xp.controls.feastol = 1.e-7\n",
    "xp.controls.optimalitytol = 1.e-7\n",
    "xp.setOutputEnabled(True)"
   ]
  },
  {
   "cell_type": "code",
   "execution_count": 5,
   "metadata": {},
   "outputs": [],
   "source": [
    "def retrieve_problem(year,week,output_path,itr=1):\n",
    "    model = xp.problem()\n",
    "    model.read(output_path+f\"/problem-{year}-{week}--optim-nb-{itr}.mps\")\n",
    "    return(model)"
   ]
  },
  {
   "cell_type": "markdown",
   "metadata": {},
   "source": [
    "## Accurate shave peaks"
   ]
  },
  {
   "cell_type": "code",
   "execution_count": 6,
   "metadata": {},
   "outputs": [],
   "source": [
    "study_path = \"D:/Users/gerbauxjul/Documents/6-Etudes Antares/4-mingen/failed_remix_hydro\""
   ]
  },
  {
   "cell_type": "code",
   "execution_count": 45,
   "metadata": {},
   "outputs": [],
   "source": [
    "output_path_initial = study_path+\"/output/20250115-1810eco-9_2_log_version_accurate\""
   ]
  },
  {
   "cell_type": "code",
   "execution_count": 46,
   "metadata": {},
   "outputs": [
    {
     "name": "stdout",
     "output_type": "stream",
     "text": [
      "Reading Problem Pb Solve\n",
      "Problem Statistics\n",
      "         505 (      1 spare) rows\n",
      "         840 (      0 spare) structural columns\n",
      "        1847 (    504 spare) non-zero elements\n",
      "Global Statistics\n",
      "           0 entities        0 sets        0 set members\n"
     ]
    },
    {
     "name": "stdout",
     "output_type": "stream",
     "text": [
      "\n",
      "Reading Problem Pb Solve\n",
      "Problem Statistics\n",
      "         505 (      1 spare) rows\n",
      "         840 (      0 spare) structural columns\n",
      "        1847 (    504 spare) non-zero elements\n",
      "Global Statistics\n",
      "           0 entities        0 sets        0 set members\n",
      "\n",
      "Reading Problem Pb Solve\n",
      "Problem Statistics\n",
      "         505 (      1 spare) rows\n",
      "         840 (      0 spare) structural columns\n",
      "        1847 (    504 spare) non-zero elements\n",
      "Global Statistics\n",
      "           0 entities        0 sets        0 set members\n",
      "\n",
      "Reading Problem Pb Solve\n",
      "Problem Statistics\n",
      "         505 (      1 spare) rows\n",
      "         840 (      0 spare) structural columns\n",
      "        1847 (    504 spare) non-zero elements\n",
      "Global Statistics\n",
      "           0 entities        0 sets        0 set members\n",
      "\n",
      "Reading Problem Pb Solve\n",
      "Problem Statistics\n",
      "         505 (      1 spare) rows\n",
      "         840 (      0 spare) structural columns\n",
      "        1847 (    504 spare) non-zero elements\n",
      "Global Statistics\n",
      "           0 entities        0 sets        0 set members\n",
      "\n",
      "Reading Problem Pb Solve\n",
      "Problem Statistics\n",
      "         505 (      1 spare) rows\n",
      "         840 (      0 spare) structural columns\n",
      "        1847 (    504 spare) non-zero elements\n",
      "Global Statistics\n",
      "           0 entities        0 sets        0 set members\n",
      "\n",
      "Reading Problem Pb Solve\n",
      "Problem Statistics\n",
      "         505 (      1 spare) rows\n",
      "         840 (      0 spare) structural columns\n",
      "        1847 (    504 spare) non-zero elements\n",
      "Global Statistics\n",
      "           0 entities        0 sets        0 set members\n",
      "\n",
      "Reading Problem Pb Solve\n",
      "Problem Statistics\n",
      "         505 (      1 spare) rows\n",
      "         840 (      0 spare) structural columns\n",
      "        1847 (    504 spare) non-zero elements\n",
      "Global Statistics\n",
      "           0 entities        0 sets        0 set members\n",
      "\n",
      "Reading Problem Pb Solve\n",
      "Problem Statistics\n",
      "         505 (      1 spare) rows\n",
      "         840 (      0 spare) structural columns\n",
      "        1847 (    504 spare) non-zero elements\n",
      "Global Statistics\n",
      "           0 entities        0 sets        0 set members\n",
      "\n",
      "Reading Problem Pb Solve\n",
      "Problem Statistics\n",
      "         505 (      1 spare) rows\n",
      "         840 (      0 spare) structural columns\n",
      "        1847 (    504 spare) non-zero elements\n",
      "Global Statistics\n",
      "           0 entities        0 sets        0 set members\n",
      "\n",
      "Reading Problem Pb Solve\n",
      "Problem Statistics\n",
      "         505 (      1 spare) rows\n",
      "         840 (      0 spare) structural columns\n",
      "        1847 (    504 spare) non-zero elements\n",
      "Global Statistics\n",
      "           0 entities        0 sets        0 set members\n",
      "\n",
      "Reading Problem Pb Solve\n",
      "Problem Statistics\n",
      "         505 (      1 spare) rows\n",
      "         840 (      0 spare) structural columns\n",
      "        1847 (    504 spare) non-zero elements\n",
      "Global Statistics\n",
      "           0 entities        0 sets        0 set members\n",
      "\n",
      "Reading Problem Pb Solve\n",
      "Problem Statistics\n",
      "         505 (      1 spare) rows\n",
      "         840 (      0 spare) structural columns\n",
      "        1847 (    504 spare) non-zero elements\n",
      "Global Statistics\n",
      "           0 entities        0 sets        0 set members\n",
      "\n",
      "Reading Problem Pb Solve\n",
      "Problem Statistics\n",
      "         505 (      1 spare) rows\n",
      "         840 (      0 spare) structural columns\n",
      "        1847 (    504 spare) non-zero elements\n",
      "Global Statistics\n",
      "           0 entities        0 sets        0 set members\n",
      "\n",
      "Reading Problem Pb Solve\n",
      "Problem Statistics\n",
      "         505 (      1 spare) rows\n",
      "         840 (      0 spare) structural columns\n",
      "        1847 (    504 spare) non-zero elements\n",
      "Global Statistics\n",
      "           0 entities        0 sets        0 set members\n",
      "\n",
      "Reading Problem Pb Solve\n",
      "Problem Statistics\n",
      "         505 (      1 spare) rows\n",
      "         840 (      0 spare) structural columns\n",
      "        1847 (    504 spare) non-zero elements\n",
      "Global Statistics\n",
      "           0 entities        0 sets        0 set members\n",
      "\n",
      "Reading Problem Pb Solve\n",
      "Problem Statistics\n",
      "         505 (      1 spare) rows\n",
      "         840 (      0 spare) structural columns\n",
      "        1847 (    504 spare) non-zero elements\n",
      "Global Statistics\n",
      "           0 entities        0 sets        0 set members\n",
      "\n",
      "Reading Problem Pb Solve\n",
      "Problem Statistics\n",
      "         505 (      1 spare) rows\n",
      "         840 (      0 spare) structural columns\n",
      "        1847 (    504 spare) non-zero elements\n",
      "Global Statistics\n",
      "           0 entities        0 sets        0 set members\n",
      "\n",
      "Reading Problem Pb Solve\n",
      "Problem Statistics\n",
      "         505 (      1 spare) rows\n",
      "         840 (      0 spare) structural columns\n",
      "        1847 (    504 spare) non-zero elements\n",
      "Global Statistics\n",
      "           0 entities        0 sets        0 set members\n",
      "\n",
      "Reading Problem Pb Solve\n",
      "Problem Statistics\n",
      "         505 (      1 spare) rows\n",
      "         840 (      0 spare) structural columns\n",
      "        1847 (    504 spare) non-zero elements\n",
      "Global Statistics\n",
      "           0 entities        0 sets        0 set members\n",
      "\n",
      "Reading Problem Pb Solve\n",
      "Problem Statistics\n",
      "         505 (      1 spare) rows\n",
      "         840 (      0 spare) structural columns\n",
      "        1847 (    504 spare) non-zero elements\n",
      "Global Statistics\n",
      "           0 entities        0 sets        0 set members\n",
      "\n",
      "Reading Problem Pb Solve\n",
      "Problem Statistics\n",
      "         505 (      1 spare) rows\n",
      "         840 (      0 spare) structural columns\n",
      "        1847 (    504 spare) non-zero elements\n",
      "Global Statistics\n",
      "           0 entities        0 sets        0 set members\n",
      "\n",
      "Reading Problem Pb Solve\n",
      "Problem Statistics\n",
      "         505 (      1 spare) rows\n",
      "         840 (      0 spare) structural columns\n",
      "        1847 (    504 spare) non-zero elements\n",
      "Global Statistics\n",
      "           0 entities        0 sets        0 set members\n",
      "\n",
      "Reading Problem Pb Solve\n",
      "Problem Statistics\n",
      "         505 (      1 spare) rows\n",
      "         840 (      0 spare) structural columns\n",
      "        1847 (    504 spare) non-zero elements\n",
      "Global Statistics\n",
      "           0 entities        0 sets        0 set members\n",
      "\n",
      "Reading Problem Pb Solve\n",
      "Problem Statistics\n",
      "         505 (      1 spare) rows\n",
      "         840 (      0 spare) structural columns\n",
      "        1847 (    504 spare) non-zero elements\n",
      "Global Statistics\n",
      "           0 entities        0 sets        0 set members\n",
      "\n",
      "Reading Problem Pb Solve\n",
      "Problem Statistics\n",
      "         505 (      1 spare) rows\n",
      "         840 (      0 spare) structural columns\n",
      "        1847 (    504 spare) non-zero elements\n",
      "Global Statistics\n",
      "           0 entities        0 sets        0 set members\n",
      "\n",
      "Reading Problem Pb Solve\n",
      "Problem Statistics\n",
      "         505 (      1 spare) rows\n",
      "         840 (      0 spare) structural columns\n",
      "        1847 (    504 spare) non-zero elements\n",
      "Global Statistics\n",
      "           0 entities        0 sets        0 set members\n",
      "\n",
      "Reading Problem Pb Solve\n",
      "Problem Statistics\n",
      "         505 (      1 spare) rows\n",
      "         840 (      0 spare) structural columns\n",
      "        1847 (    504 spare) non-zero elements\n",
      "Global Statistics\n",
      "           0 entities        0 sets        0 set members\n",
      "\n",
      "Reading Problem Pb Solve\n",
      "Problem Statistics\n",
      "         505 (      1 spare) rows\n",
      "         840 (      0 spare) structural columns\n",
      "        1847 (    504 spare) non-zero elements\n",
      "Global Statistics\n",
      "           0 entities        0 sets        0 set members\n",
      "\n",
      "Reading Problem Pb Solve\n",
      "Problem Statistics\n",
      "         505 (      1 spare) rows\n",
      "         840 (      0 spare) structural columns\n",
      "        1847 (    504 spare) non-zero elements\n",
      "Global Statistics\n",
      "           0 entities        0 sets        0 set members\n",
      "\n"
     ]
    }
   ],
   "source": [
    "initial_level_optim = []\n",
    "for week in range(1,31):\n",
    "    m_initial = retrieve_problem(1,week,output_path_initial,itr=2)\n",
    "    cons = m_initial.getConstraint()\n",
    "    b = []\n",
    "    m_initial.getrhs(b, 0, m_initial.attributes.rows - 1)\n",
    "    idx_area_level=[i for i in range(len(cons)) if \"AreaHydroLevel\" in cons[i].name]\n",
    "    initial_level_optim.append(b[idx_area_level[0]]-b[idx_area_level[1]])"
   ]
  },
  {
   "cell_type": "code",
   "execution_count": 47,
   "metadata": {},
   "outputs": [
    {
     "data": {
      "text/plain": [
       "[0.0,\n",
       " 32315.747141729997,\n",
       " 65587.197934064,\n",
       " 91124.063804124,\n",
       " 139163.748595372,\n",
       " 53496.332640207,\n",
       " 32115.900672195,\n",
       " 1318.098543604,\n",
       " 46023.554792603,\n",
       " 50249.772552993,\n",
       " 8652.622193083002,\n",
       " 48230.65656744,\n",
       " 54586.439238754996,\n",
       " 32774.000000001,\n",
       " 167376.13098568,\n",
       " 311554.39250052796,\n",
       " 477652.916305385,\n",
       " 637270.54457701,\n",
       " 554666.616682941,\n",
       " 412934.800620313,\n",
       " 258075.038359179,\n",
       " 85575.599854308,\n",
       " 65681.527368251,\n",
       " 190739.100540397,\n",
       " 287611.25430472597,\n",
       " 422471.818909912,\n",
       " 559293.973540887,\n",
       " 480987.67725902697,\n",
       " 274176.16907234397,\n",
       " 208777.819729228]"
      ]
     },
     "execution_count": 47,
     "metadata": {},
     "output_type": "execute_result"
    }
   ],
   "source": [
    "initial_level_optim"
   ]
  },
  {
   "cell_type": "code",
   "execution_count": 48,
   "metadata": {},
   "outputs": [
    {
     "name": "stdout",
     "output_type": "stream",
     "text": [
      "Reading Problem Pb Solve\n",
      "Problem Statistics\n",
      "         505 (      1 spare) rows\n",
      "         840 (      0 spare) structural columns\n",
      "        1847 (    504 spare) non-zero elements\n",
      "Global Statistics\n",
      "           0 entities        0 sets        0 set members\n",
      "\n"
     ]
    }
   ],
   "source": [
    "m_initial = retrieve_problem(1,2,output_path_initial,itr=1)"
   ]
  },
  {
   "cell_type": "code",
   "execution_count": 49,
   "metadata": {},
   "outputs": [],
   "source": [
    "m_initial.write(\"remix_hydro_itr2.lp\",\"l\")"
   ]
  },
  {
   "cell_type": "code",
   "execution_count": 50,
   "metadata": {},
   "outputs": [
    {
     "data": {
      "text/plain": [
       "32315.747141729997"
      ]
     },
     "execution_count": 50,
     "metadata": {},
     "output_type": "execute_result"
    }
   ],
   "source": [
    "33460.830475063-1145.083333333"
   ]
  },
  {
   "cell_type": "code",
   "execution_count": 39,
   "metadata": {},
   "outputs": [
    {
     "name": "stdout",
     "output_type": "stream",
     "text": [
      "FICO Xpress v8.14.8, Hyper, solve started 17:25:48, Jan 15, 2025\n",
      "Heap usage: 574KB (peak 574KB, 638KB system)\n",
      "Minimizing LP Pb Solve using 1 thread and up to 31GB memory, with these control settings:\n",
      "SCALING = 0\n",
      "PRESOLVE = 0\n",
      "OUTPUTLOG = 1\n",
      "THREADS = 1\n",
      "FEASTOL = 1.e-7\n",
      "OPTIMALITYTOL = 1.e-7\n",
      "Original problem has:\n",
      "       505 rows          840 cols         1847 elements\n",
      "\n",
      "Coefficient range                    original                 solved        \n",
      "  Coefficients   [min,max] : [ 1.00e+00,  1.00e+00] / [ 1.00e+00,  1.00e+00]\n",
      "  RHS and bounds [min,max] : [ 2.46e+02,  1.00e+07] / [ 2.46e+02,  1.00e+07]\n",
      "  Objective      [min,max] : [ 5.00e-04,  2.00e+04] / [ 5.00e-04,  2.00e+04]\n",
      "\n",
      "Crash basis containing 113 structural columns created\n",
      " \n",
      "   Its         Obj Value      S   Ninf  Nneg   Sum Dual Inf  Time\n",
      "     0       -660.940917      D    291     0        .000000     0\n",
      "   242       406107589.6      D      1     0        .000000     0\n",
      "Problem is infeasible\n"
     ]
    }
   ],
   "source": [
    "m_initial.solve()"
   ]
  },
  {
   "cell_type": "code",
   "execution_count": 173,
   "metadata": {},
   "outputs": [
    {
     "data": {
      "text/plain": [
       "48688493.54279115"
      ]
     },
     "execution_count": 173,
     "metadata": {},
     "output_type": "execute_result"
    }
   ],
   "source": [
    "m_initial.getObjVal()"
   ]
  },
  {
   "cell_type": "code",
   "execution_count": 174,
   "metadata": {},
   "outputs": [],
   "source": [
    "vars = m_initial.getVariable()\n",
    "names_ref = [v.name for v in vars]"
   ]
  },
  {
   "cell_type": "code",
   "execution_count": 175,
   "metadata": {},
   "outputs": [],
   "source": [
    "def create_dataframe_variables(m,names):\n",
    "    idx = [i for i in range(len(names))]\n",
    "    vars = m.getVariable()\n",
    "    df_vars = pd.DataFrame([vars[i] for i in idx], columns=[\"var\"])\n",
    "    df_vars[\"names\"] = [names[i] for i in idx]\n",
    "    df_vars[\"split\"] = df_vars[\"names\"].apply(lambda x:x.strip().split(\"::\"))\n",
    "    df_vars[\"name_var\"] = df_vars[\"split\"].apply(lambda x:x[0])\n",
    "    df_vars[\"antares_object\"] = df_vars[\"split\"].apply(lambda x:x[1].split(\"<\")[0])\n",
    "    df_vars[\"name_antares_object\"] = df_vars[\"split\"].apply(lambda x:x[1].split(\"<\")[1].split(\">\")[0])\n",
    "    df_vars[\"subobject\"] = df_vars[\"split\"].apply(lambda x:x[2] if len(x)>=4 else \"None\")\n",
    "    df_vars[\"time\"] = df_vars[\"split\"].apply(lambda x:int(x[-1].split(\"<\")[1].split(\">\")[0]))\n",
    "# coltype = []\n",
    "# m.getcoltype(coltype, 0, m.attributes.cols - 1)\n",
    "# df_vars['coltype'] = coltype\n",
    "    # bounds = []\n",
    "    # m.getlb(bounds, 0, m.attributes.cols - 1)\n",
    "    # df_vars['lb'] = [bounds[i] for i in idx]\n",
    "    # bounds = []\n",
    "    # m.getub(bounds, 0, m.attributes.cols - 1)\n",
    "    # df_vars['ub'] = [bounds[i] for i in idx]\n",
    "    # df_vars = df_vars.assign(sol=[m.getSolution(i) for i in idx])\n",
    "    # objcoef = []\n",
    "    # m.getobj(objcoef,0,m.attributes.cols-1)\n",
    "    # df_vars= df_vars.assign(coeff=[objcoef[i] for i in range(m.attributes.cols)])\n",
    "    # df_vars = df_vars.assign(sol=[m.getSolution(i) for i in range(m.attributes.cols)])\n",
    "    return df_vars"
   ]
  },
  {
   "cell_type": "code",
   "execution_count": 176,
   "metadata": {},
   "outputs": [],
   "source": [
    "df_vars_itr1 = create_dataframe_variables(m_initial,names_ref)"
   ]
  },
  {
   "cell_type": "code",
   "execution_count": 177,
   "metadata": {},
   "outputs": [
    {
     "data": {
      "text/plain": [
       "array(['PositiveUnsuppliedEnergy', 'NegativeUnsuppliedEnergy', 'HydProd',\n",
       "       'HydroLevel', 'Overflow'], dtype=object)"
      ]
     },
     "execution_count": 177,
     "metadata": {},
     "output_type": "execute_result"
    }
   ],
   "source": [
    "df_vars_itr1[\"name_var\"].unique()"
   ]
  },
  {
   "cell_type": "code",
   "execution_count": 178,
   "metadata": {},
   "outputs": [
    {
     "data": {
      "text/html": [
       "<div>\n",
       "<style scoped>\n",
       "    .dataframe tbody tr th:only-of-type {\n",
       "        vertical-align: middle;\n",
       "    }\n",
       "\n",
       "    .dataframe tbody tr th {\n",
       "        vertical-align: top;\n",
       "    }\n",
       "\n",
       "    .dataframe thead th {\n",
       "        text-align: right;\n",
       "    }\n",
       "</style>\n",
       "<table border=\"1\" class=\"dataframe\">\n",
       "  <thead>\n",
       "    <tr style=\"text-align: right;\">\n",
       "      <th></th>\n",
       "      <th>var</th>\n",
       "      <th>names</th>\n",
       "      <th>split</th>\n",
       "      <th>name_var</th>\n",
       "      <th>antares_object</th>\n",
       "      <th>name_antares_object</th>\n",
       "      <th>subobject</th>\n",
       "      <th>time</th>\n",
       "    </tr>\n",
       "  </thead>\n",
       "  <tbody>\n",
       "    <tr>\n",
       "      <th>3</th>\n",
       "      <td>HydroLevel::area&lt;a-5&gt;::hour&lt;0&gt;</td>\n",
       "      <td>HydroLevel::area&lt;a-5&gt;::hour&lt;0&gt;</td>\n",
       "      <td>[HydroLevel, area&lt;a-5&gt;, hour&lt;0&gt;]</td>\n",
       "      <td>HydroLevel</td>\n",
       "      <td>area</td>\n",
       "      <td>a-5</td>\n",
       "      <td>None</td>\n",
       "      <td>0</td>\n",
       "    </tr>\n",
       "    <tr>\n",
       "      <th>8</th>\n",
       "      <td>HydroLevel::area&lt;a-5&gt;::hour&lt;1&gt;</td>\n",
       "      <td>HydroLevel::area&lt;a-5&gt;::hour&lt;1&gt;</td>\n",
       "      <td>[HydroLevel, area&lt;a-5&gt;, hour&lt;1&gt;]</td>\n",
       "      <td>HydroLevel</td>\n",
       "      <td>area</td>\n",
       "      <td>a-5</td>\n",
       "      <td>None</td>\n",
       "      <td>1</td>\n",
       "    </tr>\n",
       "    <tr>\n",
       "      <th>13</th>\n",
       "      <td>HydroLevel::area&lt;a-5&gt;::hour&lt;2&gt;</td>\n",
       "      <td>HydroLevel::area&lt;a-5&gt;::hour&lt;2&gt;</td>\n",
       "      <td>[HydroLevel, area&lt;a-5&gt;, hour&lt;2&gt;]</td>\n",
       "      <td>HydroLevel</td>\n",
       "      <td>area</td>\n",
       "      <td>a-5</td>\n",
       "      <td>None</td>\n",
       "      <td>2</td>\n",
       "    </tr>\n",
       "    <tr>\n",
       "      <th>18</th>\n",
       "      <td>HydroLevel::area&lt;a-5&gt;::hour&lt;3&gt;</td>\n",
       "      <td>HydroLevel::area&lt;a-5&gt;::hour&lt;3&gt;</td>\n",
       "      <td>[HydroLevel, area&lt;a-5&gt;, hour&lt;3&gt;]</td>\n",
       "      <td>HydroLevel</td>\n",
       "      <td>area</td>\n",
       "      <td>a-5</td>\n",
       "      <td>None</td>\n",
       "      <td>3</td>\n",
       "    </tr>\n",
       "    <tr>\n",
       "      <th>23</th>\n",
       "      <td>HydroLevel::area&lt;a-5&gt;::hour&lt;4&gt;</td>\n",
       "      <td>HydroLevel::area&lt;a-5&gt;::hour&lt;4&gt;</td>\n",
       "      <td>[HydroLevel, area&lt;a-5&gt;, hour&lt;4&gt;]</td>\n",
       "      <td>HydroLevel</td>\n",
       "      <td>area</td>\n",
       "      <td>a-5</td>\n",
       "      <td>None</td>\n",
       "      <td>4</td>\n",
       "    </tr>\n",
       "    <tr>\n",
       "      <th>...</th>\n",
       "      <td>...</td>\n",
       "      <td>...</td>\n",
       "      <td>...</td>\n",
       "      <td>...</td>\n",
       "      <td>...</td>\n",
       "      <td>...</td>\n",
       "      <td>...</td>\n",
       "      <td>...</td>\n",
       "    </tr>\n",
       "    <tr>\n",
       "      <th>818</th>\n",
       "      <td>HydroLevel::area&lt;a-5&gt;::hour&lt;163&gt;</td>\n",
       "      <td>HydroLevel::area&lt;a-5&gt;::hour&lt;163&gt;</td>\n",
       "      <td>[HydroLevel, area&lt;a-5&gt;, hour&lt;163&gt;]</td>\n",
       "      <td>HydroLevel</td>\n",
       "      <td>area</td>\n",
       "      <td>a-5</td>\n",
       "      <td>None</td>\n",
       "      <td>163</td>\n",
       "    </tr>\n",
       "    <tr>\n",
       "      <th>823</th>\n",
       "      <td>HydroLevel::area&lt;a-5&gt;::hour&lt;164&gt;</td>\n",
       "      <td>HydroLevel::area&lt;a-5&gt;::hour&lt;164&gt;</td>\n",
       "      <td>[HydroLevel, area&lt;a-5&gt;, hour&lt;164&gt;]</td>\n",
       "      <td>HydroLevel</td>\n",
       "      <td>area</td>\n",
       "      <td>a-5</td>\n",
       "      <td>None</td>\n",
       "      <td>164</td>\n",
       "    </tr>\n",
       "    <tr>\n",
       "      <th>828</th>\n",
       "      <td>HydroLevel::area&lt;a-5&gt;::hour&lt;165&gt;</td>\n",
       "      <td>HydroLevel::area&lt;a-5&gt;::hour&lt;165&gt;</td>\n",
       "      <td>[HydroLevel, area&lt;a-5&gt;, hour&lt;165&gt;]</td>\n",
       "      <td>HydroLevel</td>\n",
       "      <td>area</td>\n",
       "      <td>a-5</td>\n",
       "      <td>None</td>\n",
       "      <td>165</td>\n",
       "    </tr>\n",
       "    <tr>\n",
       "      <th>833</th>\n",
       "      <td>HydroLevel::area&lt;a-5&gt;::hour&lt;166&gt;</td>\n",
       "      <td>HydroLevel::area&lt;a-5&gt;::hour&lt;166&gt;</td>\n",
       "      <td>[HydroLevel, area&lt;a-5&gt;, hour&lt;166&gt;]</td>\n",
       "      <td>HydroLevel</td>\n",
       "      <td>area</td>\n",
       "      <td>a-5</td>\n",
       "      <td>None</td>\n",
       "      <td>166</td>\n",
       "    </tr>\n",
       "    <tr>\n",
       "      <th>838</th>\n",
       "      <td>HydroLevel::area&lt;a-5&gt;::hour&lt;167&gt;</td>\n",
       "      <td>HydroLevel::area&lt;a-5&gt;::hour&lt;167&gt;</td>\n",
       "      <td>[HydroLevel, area&lt;a-5&gt;, hour&lt;167&gt;]</td>\n",
       "      <td>HydroLevel</td>\n",
       "      <td>area</td>\n",
       "      <td>a-5</td>\n",
       "      <td>None</td>\n",
       "      <td>167</td>\n",
       "    </tr>\n",
       "  </tbody>\n",
       "</table>\n",
       "<p>168 rows × 8 columns</p>\n",
       "</div>"
      ],
      "text/plain": [
       "                                                  var  \\\n",
       "3    HydroLevel::area<a-5>::hour<0>                     \n",
       "8    HydroLevel::area<a-5>::hour<1>                     \n",
       "13   HydroLevel::area<a-5>::hour<2>                     \n",
       "18   HydroLevel::area<a-5>::hour<3>                     \n",
       "23   HydroLevel::area<a-5>::hour<4>                     \n",
       "..                                                ...   \n",
       "818  HydroLevel::area<a-5>::hour<163>                   \n",
       "823  HydroLevel::area<a-5>::hour<164>                   \n",
       "828  HydroLevel::area<a-5>::hour<165>                   \n",
       "833  HydroLevel::area<a-5>::hour<166>                   \n",
       "838  HydroLevel::area<a-5>::hour<167>                   \n",
       "\n",
       "                                                names  \\\n",
       "3    HydroLevel::area<a-5>::hour<0>                     \n",
       "8    HydroLevel::area<a-5>::hour<1>                     \n",
       "13   HydroLevel::area<a-5>::hour<2>                     \n",
       "18   HydroLevel::area<a-5>::hour<3>                     \n",
       "23   HydroLevel::area<a-5>::hour<4>                     \n",
       "..                                                ...   \n",
       "818  HydroLevel::area<a-5>::hour<163>                   \n",
       "823  HydroLevel::area<a-5>::hour<164>                   \n",
       "828  HydroLevel::area<a-5>::hour<165>                   \n",
       "833  HydroLevel::area<a-5>::hour<166>                   \n",
       "838  HydroLevel::area<a-5>::hour<167>                   \n",
       "\n",
       "                                  split    name_var antares_object  \\\n",
       "3      [HydroLevel, area<a-5>, hour<0>]  HydroLevel           area   \n",
       "8      [HydroLevel, area<a-5>, hour<1>]  HydroLevel           area   \n",
       "13     [HydroLevel, area<a-5>, hour<2>]  HydroLevel           area   \n",
       "18     [HydroLevel, area<a-5>, hour<3>]  HydroLevel           area   \n",
       "23     [HydroLevel, area<a-5>, hour<4>]  HydroLevel           area   \n",
       "..                                  ...         ...            ...   \n",
       "818  [HydroLevel, area<a-5>, hour<163>]  HydroLevel           area   \n",
       "823  [HydroLevel, area<a-5>, hour<164>]  HydroLevel           area   \n",
       "828  [HydroLevel, area<a-5>, hour<165>]  HydroLevel           area   \n",
       "833  [HydroLevel, area<a-5>, hour<166>]  HydroLevel           area   \n",
       "838  [HydroLevel, area<a-5>, hour<167>]  HydroLevel           area   \n",
       "\n",
       "    name_antares_object subobject  time  \n",
       "3                   a-5      None     0  \n",
       "8                   a-5      None     1  \n",
       "13                  a-5      None     2  \n",
       "18                  a-5      None     3  \n",
       "23                  a-5      None     4  \n",
       "..                  ...       ...   ...  \n",
       "818                 a-5      None   163  \n",
       "823                 a-5      None   164  \n",
       "828                 a-5      None   165  \n",
       "833                 a-5      None   166  \n",
       "838                 a-5      None   167  \n",
       "\n",
       "[168 rows x 8 columns]"
      ]
     },
     "execution_count": 178,
     "metadata": {},
     "output_type": "execute_result"
    }
   ],
   "source": [
    "df_vars_itr1[df_vars_itr1[\"name_var\"]=='HydroLevel']"
   ]
  },
  {
   "cell_type": "code",
   "execution_count": 179,
   "metadata": {},
   "outputs": [],
   "source": [
    "sol_prod = np.array([m_initial.getSolution(i) for i in df_vars_itr1[df_vars_itr1[\"name_var\"]=='HydProd'].index])\n",
    "sol_ovfl = np.array([m_initial.getSolution(i) for i in df_vars_itr1[df_vars_itr1[\"name_var\"]=='Overflow'].index])"
   ]
  },
  {
   "cell_type": "code",
   "execution_count": 180,
   "metadata": {},
   "outputs": [],
   "source": [
    "sol_level = np.array([m_initial.getSolution(i) for i in df_vars_itr1[df_vars_itr1[\"name_var\"]=='HydroLevel'].index])"
   ]
  },
  {
   "cell_type": "code",
   "execution_count": 181,
   "metadata": {},
   "outputs": [
    {
     "name": "stdout",
     "output_type": "stream",
     "text": [
      "8652.622193083002\n"
     ]
    }
   ],
   "source": [
    "initial_level = 10103.705526416-1451.083333333\n",
    "print(initial_level)"
   ]
  },
  {
   "cell_type": "code",
   "execution_count": 20,
   "metadata": {},
   "outputs": [],
   "source": [
    "cons = m_initial.getConstraint()"
   ]
  },
  {
   "cell_type": "code",
   "execution_count": 21,
   "metadata": {},
   "outputs": [],
   "source": [
    "b = []\n",
    "m_initial.getrhs(b, 0, m_initial.attributes.rows - 1)"
   ]
  },
  {
   "cell_type": "code",
   "execution_count": 22,
   "metadata": {},
   "outputs": [
    {
     "name": "stdout",
     "output_type": "stream",
     "text": [
      "168\n"
     ]
    }
   ],
   "source": [
    "idx_area_level=[i for i in range(len(cons)) if \"AreaHydroLevel\" in cons[i].name]\n",
    "print(len(idx_area_level))"
   ]
  },
  {
   "cell_type": "code",
   "execution_count": 23,
   "metadata": {},
   "outputs": [],
   "source": [
    "# inflow = np.array([1451]*168)\n",
    "inflow = [b[i] for i in idx_area_level]"
   ]
  },
  {
   "cell_type": "code",
   "execution_count": 186,
   "metadata": {},
   "outputs": [],
   "source": [
    "recompute_level = np.cumsum(inflow)-np.cumsum(sol_prod)-np.cumsum(sol_ovfl) #+ initial_level"
   ]
  },
  {
   "cell_type": "code",
   "execution_count": 187,
   "metadata": {},
   "outputs": [
    {
     "data": {
      "text/plain": [
       "4.94765117764473e-10"
      ]
     },
     "execution_count": 187,
     "metadata": {},
     "output_type": "execute_result"
    }
   ],
   "source": [
    "np.max(np.abs(recompute_level-sol_level))"
   ]
  },
  {
   "cell_type": "code",
   "execution_count": 188,
   "metadata": {},
   "outputs": [
    {
     "data": {
      "text/plain": [
       "array([3900.,  605.,  194.,    0.,    0., 3532., 1898.,    0.,    0.,\n",
       "          0.,    0.,  102.,    0.,    0.,    0.,  840.,    0., 1063.,\n",
       "       3660.,    0.,    0.,    0.,    0.,    0.,    0.,    0.,    0.,\n",
       "          0.,    0.,    0.,    0.,    0.,    0.,    0.,    0.,    0.,\n",
       "        737.,  195., 2075.,    0.,    0.,    0.,    0.,    0.,  868.,\n",
       "          0.,    0.,    0.,    0.,    0.,    0.,  640.,    0.,    0.,\n",
       "          0.,    0.,    0.,    0.,    0.,    0.,    0.,    0.,    0.,\n",
       "          0.,    0.,    0.,    0.,    0.,    0.,    0., 2271., 4785.,\n",
       "          0.,    0.,   18.,    0.,    0., 2692.,    0.,    0.,    0.,\n",
       "          0.,    0.,    0., 1785.,    0.,    0.,    0.,    0.,    0.,\n",
       "        435., 5075.,    0.,    0.,    0.,    0.,    0.,    0.,    0.,\n",
       "          0.,    0.,    0., 1332., 1271.,    0.,    0.,  421.,    0.,\n",
       "          0.,    0.,    0.,    0., 7287.,    0.,    0.,    0.,   71.,\n",
       "          0.,  123.,    0.,    0., 1447.,  413.,    0.,    0.,  799.,\n",
       "       6407., 1773., 2452., 5972., 6162., 1908., 3310.,    0.,    0.,\n",
       "          0.,    0., 3668., 3371., 1784., 3971.,    0., 3853., 3118.,\n",
       "       3241., 1773.,    0.,    0.,    0.,    0.,    0., 1628., 3488.,\n",
       "          0.,  854.,    0.,    0.,    0.,    0.,    0.,    0.,    0.,\n",
       "          0.,    0., 3366., 1795.,    0.,    0.])"
      ]
     },
     "execution_count": 188,
     "metadata": {},
     "output_type": "execute_result"
    }
   ],
   "source": [
    "sol_prod"
   ]
  },
  {
   "cell_type": "code",
   "execution_count": 189,
   "metadata": {},
   "outputs": [
    {
     "data": {
      "text/plain": [
       "array([   0.        , 1451.08333333, 1451.08333333,    0.        ,\n",
       "       1451.08333333,    0.        ,    0.        ,    0.        ,\n",
       "          0.        , 1451.08333333,    0.        ,    0.        ,\n",
       "          0.        ,    0.        ,    0.        ,    0.        ,\n",
       "          0.        ,    0.        ,    0.        ,    0.        ,\n",
       "       1451.08333333,    0.        ,    0.        , 1451.08333333,\n",
       "          0.        ,    0.        ,    0.        , 1451.125     ,\n",
       "          0.        ,    0.        ,    0.        ,    0.        ,\n",
       "          0.        ,    0.        ,    0.        ,    0.        ,\n",
       "       1451.125     , 1451.125     , 1451.125     ,    0.        ,\n",
       "          0.        , 1451.125     , 1451.125     , 1451.125     ,\n",
       "       1451.125     , 1451.125     , 1451.125     , 1451.125     ,\n",
       "       1451.08333333, 1451.08333333, 1451.08333333, 1451.08333333,\n",
       "       1451.08333333, 1451.08333333,    0.        , 1451.08333333,\n",
       "       1451.08333333, 1451.08333333,    0.        , 1451.08333333,\n",
       "       1451.08333333, 1451.08333333, 1451.08333333, 1451.08333333,\n",
       "       1451.08333333, 1451.08333333, 1451.08333333, 1451.08333333,\n",
       "       1451.08333333, 1451.08333333, 1451.08333333,    0.        ,\n",
       "       1451.125     , 1451.125     , 1451.125     , 1451.125     ,\n",
       "       1451.125     , 1451.125     , 1451.125     , 1451.125     ,\n",
       "       1451.125     , 1451.125     , 1451.125     ,    0.        ,\n",
       "       1451.125     ,    0.        , 1451.125     , 1451.125     ,\n",
       "       1451.125     , 1451.125     ,    0.        , 1451.125     ,\n",
       "       1451.125     , 1451.125     ,    0.        , 1451.125     ,\n",
       "          0.        ,    0.        ,    0.        ,    0.        ,\n",
       "          0.        ,    0.        ,    0.        ,    0.        ,\n",
       "          0.        ,    0.        ,    0.        ,    0.        ,\n",
       "          0.        ,    0.        ,    0.        ,    0.        ,\n",
       "          0.        ,    0.        , 1451.08333333,    0.        ,\n",
       "          0.        ,    0.        ,    0.        ,    0.        ,\n",
       "          0.        ,    0.        ,    0.        ,    0.        ,\n",
       "          0.        ,    0.        ,    0.        ,    0.        ,\n",
       "          0.        ,    0.        ,    0.        ,    0.        ,\n",
       "          0.        ,    0.        ,    0.        ,    0.        ,\n",
       "          0.        ,    0.        , 1451.125     ,    0.        ,\n",
       "          0.        ,    0.        , 1451.125     ,    0.        ,\n",
       "          0.        ,    0.        , 1261.50729232,    0.        ,\n",
       "          0.        ,    0.        ,    0.        ,    0.        ,\n",
       "          0.        ,    0.        ,    0.        ,    0.        ,\n",
       "          0.        ,    0.        ,    0.        ,    0.        ,\n",
       "          0.        ,    0.        ,    0.        ,    0.        ,\n",
       "          0.        ,    0.        ,    0.        ,    0.        ])"
      ]
     },
     "execution_count": 189,
     "metadata": {},
     "output_type": "execute_result"
    }
   ],
   "source": [
    "sol_ovfl"
   ]
  },
  {
   "cell_type": "code",
   "execution_count": 190,
   "metadata": {},
   "outputs": [
    {
     "data": {
      "text/plain": [
       "array([ 6203.70552642,  5598.70552642,  5404.70552642,  6855.78885975,\n",
       "        6855.78885975,  4774.87219308,  4327.95552642,  5779.03885975,\n",
       "        7230.12219308,  7230.12219308,  8681.20552641, 10030.28885975,\n",
       "       11481.37219308, 12932.45552641, 14383.53885975, 14994.62219308,\n",
       "       16445.70552641, 16833.78885975, 14624.87219308, 16075.95552641,\n",
       "       16075.95552641, 17527.03885974, 18978.12219308, 18978.12219308,\n",
       "       20429.24719308, 21880.37219308, 23331.49719308, 23331.49719308,\n",
       "       24782.62219308, 26233.74719308, 27684.87219308, 29135.99719308,\n",
       "       30587.12219308, 32038.24719308, 33489.37219308, 34940.49719308,\n",
       "       34203.49719308, 34008.49719308, 31933.49719308, 33384.62219308,\n",
       "       34835.74719308, 34835.74719308, 34835.74719308, 34835.74719308,\n",
       "       33967.74719308, 33967.74719308, 33967.74719308, 33967.74719308,\n",
       "       33967.74719308, 33967.74719308, 33967.74719308, 33327.74719308,\n",
       "       33327.74719308, 33327.74719308, 34778.83052641, 34778.83052641,\n",
       "       34778.83052641, 34778.83052641, 36229.91385974, 36229.91385974,\n",
       "       36229.91385974, 36229.91385974, 36229.91385974, 36229.91385974,\n",
       "       36229.91385974, 36229.91385974, 36229.91385974, 36229.91385974,\n",
       "       36229.91385974, 36229.91385974, 33958.91385974, 30624.99719308,\n",
       "       30624.99719308, 30624.99719308, 30606.99719308, 30606.99719308,\n",
       "       30606.99719308, 27914.99719308, 27914.99719308, 27914.99719308,\n",
       "       27914.99719308, 27914.99719308, 27914.99719308, 29366.12219308,\n",
       "       27581.12219308, 29032.24719308, 29032.24719308, 29032.24719308,\n",
       "       29032.24719308, 29032.24719308, 30048.37219308, 24973.37219308,\n",
       "       24973.37219308, 24973.37219308, 26424.49719308, 26424.49719308,\n",
       "       27875.58052641, 29326.66385974, 30777.74719308, 32228.83052641,\n",
       "       33679.91385974, 35130.99719307, 35250.08052641, 35430.16385974,\n",
       "       36881.24719307, 38332.33052641, 39362.41385974, 40813.49719307,\n",
       "       42264.58052641, 43715.66385974, 45166.74719307, 46617.8305264 ,\n",
       "       40781.91385974, 42232.99719307, 42232.99719307, 43684.0805264 ,\n",
       "       45064.16385974, 46515.24719307, 47843.3305264 , 49294.41385974,\n",
       "       50745.53885974, 50749.66385974, 51787.78885974, 53238.91385974,\n",
       "       54690.03885974, 55342.16385974, 50386.28885974, 50064.41385974,\n",
       "       49063.53885974, 44542.66385974, 39831.78885974, 39374.91385974,\n",
       "       37516.03885974, 38967.16385974, 40418.28885974, 41869.41385974,\n",
       "       43320.53885974, 41103.66385974, 37732.66385974, 37399.78885974,\n",
       "       34879.91385974, 36331.03885974, 32478.03885974, 30811.16385974,\n",
       "       29021.24719307, 28699.3305264 , 28888.90656741, 30339.98990075,\n",
       "       31791.07323408, 33242.15656741, 34693.23990075, 34516.32323408,\n",
       "       32479.40656741, 33930.48990075, 34527.57323408, 35978.65656741,\n",
       "       37429.73990074, 38880.82323408, 40331.90656741, 41782.98990074,\n",
       "       43234.07323408, 44685.15656741, 46136.23990074, 47587.32323408,\n",
       "       45672.40656741, 45328.48990074, 46779.57323407, 48230.65656741])"
      ]
     },
     "execution_count": 190,
     "metadata": {},
     "output_type": "execute_result"
    }
   ],
   "source": [
    "sol_level"
   ]
  },
  {
   "cell_type": "code",
   "execution_count": 191,
   "metadata": {},
   "outputs": [
    {
     "data": {
      "text/plain": [
       "array([], dtype=float64)"
      ]
     },
     "execution_count": 191,
     "metadata": {},
     "output_type": "execute_result"
    }
   ],
   "source": [
    "recompute_level[recompute_level<=0]"
   ]
  },
  {
   "cell_type": "code",
   "execution_count": 192,
   "metadata": {},
   "outputs": [
    {
     "data": {
      "text/plain": [
       "array([], dtype=float64)"
      ]
     },
     "execution_count": 192,
     "metadata": {},
     "output_type": "execute_result"
    }
   ],
   "source": [
    "recompute_level[recompute_level>=1e7]"
   ]
  },
  {
   "cell_type": "code",
   "execution_count": 193,
   "metadata": {},
   "outputs": [
    {
     "data": {
      "application/vnd.jupyter.widget-view+json": {
       "model_id": "3c3bf6a5a7ea4bb2a26deb96b6d43b70",
       "version_major": 2,
       "version_minor": 0
      },
      "image/png": "[encoded data removed]",
      "text/html": [
       "\n",
       "            <div style=\"display: inline-block;\">\n",
       "                <div class=\"jupyter-widgets widget-label\" style=\"text-align: center;\">\n",
       "                    Figure\n",
       "                </div>\n",
       "                <img src='data:image/png;base64,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' width=640.0/>\n",
       "            </div>\n",
       "        "
      ],
      "text/plain": [
       "Canvas(toolbar=Toolbar(toolitems=[('Home', 'Reset original view', 'home', 'home'), ('Back', 'Back to previous …"
      ]
     },
     "metadata": {},
     "output_type": "display_data"
    }
   ],
   "source": [
    "plt.figure()\n",
    "plt.plot(sol_level)\n",
    "# plt.plot([1e7]*168)\n",
    "plt.show()"
   ]
  },
  {
   "cell_type": "code",
   "execution_count": 194,
   "metadata": {},
   "outputs": [
    {
     "data": {
      "text/plain": [
       "array([], dtype=float64)"
      ]
     },
     "execution_count": 194,
     "metadata": {},
     "output_type": "execute_result"
    }
   ],
   "source": [
    "sol_level[sol_level<0]"
   ]
  },
  {
   "cell_type": "code",
   "execution_count": 195,
   "metadata": {},
   "outputs": [
    {
     "data": {
      "text/plain": [
       "array([], dtype=float64)"
      ]
     },
     "execution_count": 195,
     "metadata": {},
     "output_type": "execute_result"
    }
   ],
   "source": [
    "sol_level[sol_level>1e7]"
   ]
  },
  {
   "cell_type": "code",
   "execution_count": 196,
   "metadata": {},
   "outputs": [],
   "source": [
    "with open(output_path_initial+\"/optimal-values-1-11--optim-nb-2.txt\",\"r\") as file : \n",
    "    optimal_values = file.readlines()"
   ]
  },
  {
   "cell_type": "code",
   "execution_count": 197,
   "metadata": {},
   "outputs": [],
   "source": [
    "df_optimal = pd.DataFrame([l.strip().split(\"\\t\") for l in optimal_values],columns=[\"Name\",\"Value\"])\n",
    "df_optimal[\"Value\"] = df_optimal[\"Value\"].apply(lambda x:float(x))\n",
    "df_optimal[\"Var\"] = df_optimal[\"Name\"].apply(lambda x:x.split(\"::\")[0])\n",
    "df_optimal[\"Hour\"] = df_optimal[\"Name\"].apply(lambda x:int(x.split(\"::hour<\")[1][:-1]))\n"
   ]
  },
  {
   "cell_type": "code",
   "execution_count": 198,
   "metadata": {},
   "outputs": [
    {
     "data": {
      "text/html": [
       "<div>\n",
       "<style scoped>\n",
       "    .dataframe tbody tr th:only-of-type {\n",
       "        vertical-align: middle;\n",
       "    }\n",
       "\n",
       "    .dataframe tbody tr th {\n",
       "        vertical-align: top;\n",
       "    }\n",
       "\n",
       "    .dataframe thead th {\n",
       "        text-align: right;\n",
       "    }\n",
       "</style>\n",
       "<table border=\"1\" class=\"dataframe\">\n",
       "  <thead>\n",
       "    <tr style=\"text-align: right;\">\n",
       "      <th></th>\n",
       "      <th>Name</th>\n",
       "      <th>Value</th>\n",
       "      <th>Var</th>\n",
       "      <th>Hour</th>\n",
       "    </tr>\n",
       "  </thead>\n",
       "  <tbody>\n",
       "    <tr>\n",
       "      <th>0</th>\n",
       "      <td>PositiveUnsuppliedEnergy::area&lt;a-5&gt;::hour&lt;1680&gt;</td>\n",
       "      <td>0.000000</td>\n",
       "      <td>PositiveUnsuppliedEnergy</td>\n",
       "      <td>1680</td>\n",
       "    </tr>\n",
       "    <tr>\n",
       "      <th>1</th>\n",
       "      <td>NegativeUnsuppliedEnergy::area&lt;a-5&gt;::hour&lt;1680&gt;</td>\n",
       "      <td>0.000000</td>\n",
       "      <td>NegativeUnsuppliedEnergy</td>\n",
       "      <td>1680</td>\n",
       "    </tr>\n",
       "    <tr>\n",
       "      <th>2</th>\n",
       "      <td>HydProd::area&lt;a-5&gt;::hour&lt;1680&gt;</td>\n",
       "      <td>3900.000000</td>\n",
       "      <td>HydProd</td>\n",
       "      <td>1680</td>\n",
       "    </tr>\n",
       "    <tr>\n",
       "      <th>3</th>\n",
       "      <td>HydroLevel::area&lt;a-5&gt;::hour&lt;1680&gt;</td>\n",
       "      <td>4752.622193</td>\n",
       "      <td>HydroLevel</td>\n",
       "      <td>1680</td>\n",
       "    </tr>\n",
       "    <tr>\n",
       "      <th>4</th>\n",
       "      <td>Overflow::area&lt;a-5&gt;::hour&lt;1680&gt;</td>\n",
       "      <td>1451.083333</td>\n",
       "      <td>Overflow</td>\n",
       "      <td>1680</td>\n",
       "    </tr>\n",
       "    <tr>\n",
       "      <th>...</th>\n",
       "      <td>...</td>\n",
       "      <td>...</td>\n",
       "      <td>...</td>\n",
       "      <td>...</td>\n",
       "    </tr>\n",
       "    <tr>\n",
       "      <th>835</th>\n",
       "      <td>PositiveUnsuppliedEnergy::area&lt;a-5&gt;::hour&lt;1847&gt;</td>\n",
       "      <td>0.000000</td>\n",
       "      <td>PositiveUnsuppliedEnergy</td>\n",
       "      <td>1847</td>\n",
       "    </tr>\n",
       "    <tr>\n",
       "      <th>836</th>\n",
       "      <td>NegativeUnsuppliedEnergy::area&lt;a-5&gt;::hour&lt;1847&gt;</td>\n",
       "      <td>8947.000000</td>\n",
       "      <td>NegativeUnsuppliedEnergy</td>\n",
       "      <td>1847</td>\n",
       "    </tr>\n",
       "    <tr>\n",
       "      <th>837</th>\n",
       "      <td>HydProd::area&lt;a-5&gt;::hour&lt;1847&gt;</td>\n",
       "      <td>0.000000</td>\n",
       "      <td>HydProd</td>\n",
       "      <td>1847</td>\n",
       "    </tr>\n",
       "    <tr>\n",
       "      <th>838</th>\n",
       "      <td>HydroLevel::area&lt;a-5&gt;::hour&lt;1847&gt;</td>\n",
       "      <td>48230.656567</td>\n",
       "      <td>HydroLevel</td>\n",
       "      <td>1847</td>\n",
       "    </tr>\n",
       "    <tr>\n",
       "      <th>839</th>\n",
       "      <td>Overflow::area&lt;a-5&gt;::hour&lt;1847&gt;</td>\n",
       "      <td>1451.083333</td>\n",
       "      <td>Overflow</td>\n",
       "      <td>1847</td>\n",
       "    </tr>\n",
       "  </tbody>\n",
       "</table>\n",
       "<p>840 rows × 4 columns</p>\n",
       "</div>"
      ],
      "text/plain": [
       "                                                Name         Value  \\\n",
       "0    PositiveUnsuppliedEnergy::area<a-5>::hour<1680>      0.000000   \n",
       "1    NegativeUnsuppliedEnergy::area<a-5>::hour<1680>      0.000000   \n",
       "2                     HydProd::area<a-5>::hour<1680>   3900.000000   \n",
       "3                  HydroLevel::area<a-5>::hour<1680>   4752.622193   \n",
       "4                    Overflow::area<a-5>::hour<1680>   1451.083333   \n",
       "..                                               ...           ...   \n",
       "835  PositiveUnsuppliedEnergy::area<a-5>::hour<1847>      0.000000   \n",
       "836  NegativeUnsuppliedEnergy::area<a-5>::hour<1847>   8947.000000   \n",
       "837                   HydProd::area<a-5>::hour<1847>      0.000000   \n",
       "838                HydroLevel::area<a-5>::hour<1847>  48230.656567   \n",
       "839                  Overflow::area<a-5>::hour<1847>   1451.083333   \n",
       "\n",
       "                          Var  Hour  \n",
       "0    PositiveUnsuppliedEnergy  1680  \n",
       "1    NegativeUnsuppliedEnergy  1680  \n",
       "2                     HydProd  1680  \n",
       "3                  HydroLevel  1680  \n",
       "4                    Overflow  1680  \n",
       "..                        ...   ...  \n",
       "835  PositiveUnsuppliedEnergy  1847  \n",
       "836  NegativeUnsuppliedEnergy  1847  \n",
       "837                   HydProd  1847  \n",
       "838                HydroLevel  1847  \n",
       "839                  Overflow  1847  \n",
       "\n",
       "[840 rows x 4 columns]"
      ]
     },
     "execution_count": 198,
     "metadata": {},
     "output_type": "execute_result"
    }
   ],
   "source": [
    "df_optimal"
   ]
  },
  {
   "cell_type": "code",
   "execution_count": 199,
   "metadata": {},
   "outputs": [],
   "source": [
    "optimal_level = df_optimal.loc[df_optimal.Var==\"HydroLevel\",\"Value\"].values"
   ]
  },
  {
   "cell_type": "code",
   "execution_count": 200,
   "metadata": {},
   "outputs": [
    {
     "data": {
      "text/plain": [
       "array([], dtype=float64)"
      ]
     },
     "execution_count": 200,
     "metadata": {},
     "output_type": "execute_result"
    }
   ],
   "source": [
    "optimal_level[optimal_level<0]"
   ]
  },
  {
   "cell_type": "code",
   "execution_count": 201,
   "metadata": {},
   "outputs": [
    {
     "data": {
      "text/plain": [
       "array([], dtype=float64)"
      ]
     },
     "execution_count": 201,
     "metadata": {},
     "output_type": "execute_result"
    }
   ],
   "source": [
    "optimal_level[optimal_level>1e7]"
   ]
  },
  {
   "cell_type": "code",
   "execution_count": 203,
   "metadata": {},
   "outputs": [],
   "source": [
    "imports = np.loadtxt(output_path_initial+\"/ts-generator/hydro/mc-/a-5/storage.txt\")"
   ]
  },
  {
   "cell_type": "code",
   "execution_count": 202,
   "metadata": {},
   "outputs": [
    {
     "data": {
      "text/plain": [
       "416.6666666666667"
      ]
     },
     "execution_count": 202,
     "metadata": {},
     "output_type": "execute_result"
    }
   ],
   "source": [
    "10000/24"
   ]
  },
  {
   "cell_type": "code",
   "execution_count": 206,
   "metadata": {},
   "outputs": [],
   "source": [
    "# inflow = np.array([10000/24]*168)\n",
    "# inflow = [b[i] for i in idx_area_level]\n",
    "inflow = np.array([b[i] for i in idx_area_level])"
   ]
  },
  {
   "cell_type": "code",
   "execution_count": 214,
   "metadata": {},
   "outputs": [
    {
     "data": {
      "text/plain": [
       "array([1451., 1451., 1451., 1451., 1451., 1451.])"
      ]
     },
     "execution_count": 214,
     "metadata": {},
     "output_type": "execute_result"
    }
   ],
   "source": [
    "np.round(np.round(np.array([b[i] for i in idx_area_level[24::24]])*24)/24)"
   ]
  },
  {
   "cell_type": "code",
   "execution_count": 164,
   "metadata": {},
   "outputs": [],
   "source": [
    "recompute_level = np.cumsum(inflow)-np.cumsum(df_optimal.loc[df_optimal.Var==\"HydProd\",\"Value\"].values)-np.cumsum(df_optimal.loc[df_optimal.Var==\"Overflow\",\"Value\"].values) + initial_level"
   ]
  },
  {
   "cell_type": "code",
   "execution_count": 165,
   "metadata": {},
   "outputs": [
    {
     "data": {
      "text/plain": [
       "16.999998266364855"
      ]
     },
     "execution_count": 165,
     "metadata": {},
     "output_type": "execute_result"
    }
   ],
   "source": [
    "np.max(np.abs(recompute_level-optimal_level))"
   ]
  },
  {
   "cell_type": "code",
   "execution_count": 166,
   "metadata": {},
   "outputs": [
    {
     "data": {
      "text/plain": [
       "array([-3.87499937, -3.99999937, -4.12499937, -4.24999937, -4.37499937,\n",
       "       -4.49999937, -4.62499937, -4.74999937, -4.87499937, -5.33333257,\n",
       "       -5.41666587, -5.49999917, -5.58333247])"
      ]
     },
     "execution_count": 166,
     "metadata": {},
     "output_type": "execute_result"
    }
   ],
   "source": [
    "recompute_level[recompute_level<=0]"
   ]
  },
  {
   "cell_type": "code",
   "execution_count": 167,
   "metadata": {},
   "outputs": [
    {
     "data": {
      "text/plain": [
       "array([], dtype=float64)"
      ]
     },
     "execution_count": 167,
     "metadata": {},
     "output_type": "execute_result"
    }
   ],
   "source": [
    "recompute_level[recompute_level>=1e7]"
   ]
  },
  {
   "cell_type": "code",
   "execution_count": null,
   "metadata": {},
   "outputs": [],
   "source": []
  }
 ],
 "metadata": {
  "kernelspec": {
   "display_name": ".venv",
   "language": "python",
   "name": "python3"
  },
  "language_info": {
   "codemirror_mode": {
    "name": "ipython",
    "version": 3
   },
   "file_extension": ".py",
   "mimetype": "text/x-python",
   "name": "python",
   "nbconvert_exporter": "python",
   "pygments_lexer": "ipython3",
   "version": "3.9.0"
  }
 },
 "nbformat": 4,
 "nbformat_minor": 2
}
