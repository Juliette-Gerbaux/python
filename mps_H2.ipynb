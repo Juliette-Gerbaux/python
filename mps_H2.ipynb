{
 "cells": [
  {
   "cell_type": "markdown",
   "metadata": {},
   "source": [
    "## Imports"
   ]
  },
  {
   "cell_type": "code",
   "execution_count": 2,
   "metadata": {},
   "outputs": [],
   "source": [
    "import xpress as xp\n",
    "import numpy as np\n",
    "import matplotlib.pyplot as plt\n",
    "import pandas as pd\n",
    "import seaborn as sns"
   ]
  },
  {
   "cell_type": "code",
   "execution_count": 3,
   "metadata": {},
   "outputs": [],
   "source": [
    "%load_ext line_profiler"
   ]
  },
  {
   "cell_type": "code",
   "execution_count": 4,
   "metadata": {},
   "outputs": [],
   "source": [
    "%matplotlib widget"
   ]
  },
  {
   "cell_type": "code",
   "execution_count": 5,
   "metadata": {},
   "outputs": [],
   "source": [
    "xp.controls.outputlog = 1\n",
    "xp.controls.threads = 1\n",
    "xp.controls.scaling = 0\n",
    "xp.controls.presolve = 0\n",
    "xp.controls.feastol = 1.e-7\n",
    "xp.controls.optimalitytol = 1.e-7\n",
    "xp.setOutputEnabled(True)"
   ]
  },
  {
   "cell_type": "code",
   "execution_count": 6,
   "metadata": {},
   "outputs": [],
   "source": [
    "def retrieve_problem(year,week,output_path,itr=1):\n",
    "    model = xp.problem()\n",
    "    model.read(output_path+f\"/problem-{year}-{week}--optim-nb-{itr}.mps\")\n",
    "    return(model)"
   ]
  },
  {
   "cell_type": "markdown",
   "metadata": {},
   "source": [
    "## Comparaison initial/separate"
   ]
  },
  {
   "cell_type": "code",
   "execution_count": 6,
   "metadata": {},
   "outputs": [],
   "source": [
    "# study_path = \"D:/Users/gerbauxjul/Documents/6-Etudes Antares/bug_milp\"\n",
    "study_path = \"Z:/JulietteG/6-Etutes_Antares/H2_france/BP23_A_saME_Xeq_2031_mps/output\""
   ]
  },
  {
   "cell_type": "code",
   "execution_count": 7,
   "metadata": {},
   "outputs": [],
   "source": [
    "output_path_initial = study_path+\"/20241128-1728eco-initial_simulation\"\n",
    "output_path_separate = study_path+\"/20241128-1732eco-separate_fr_eu\""
   ]
  },
  {
   "cell_type": "code",
   "execution_count": null,
   "metadata": {},
   "outputs": [
    {
     "name": "stdout",
     "output_type": "stream",
     "text": [
      "Reading Problem Pb Solve\n",
      "Problem Statistics\n",
      "       95295 (      1 spare) rows\n",
      "      227304 (      0 spare) structural columns\n",
      "      500472 ( 171360 spare) non-zero elements\n",
      "Global Statistics\n",
      "           0 entities        0 sets        0 set members\n"
     ]
    }
   ],
   "source": [
    "m_initial = retrieve_problem(77,1,output_path_initial,itr=1)\n",
    "m_separate = retrieve_problem(77,1,output_path_separate,itr=1)"
   ]
  },
  {
   "cell_type": "code",
   "execution_count": null,
   "metadata": {},
   "outputs": [],
   "source": [
    "m_initial.write(\"problem_initial.lp\",\"l\")\n",
    "m_separate.write(\"problem_separate.lp\",\"l\")"
   ]
  },
  {
   "cell_type": "markdown",
   "metadata": {},
   "source": [
    "## Upper bound avec Xpansion"
   ]
  },
  {
   "cell_type": "code",
   "execution_count": 7,
   "metadata": {},
   "outputs": [],
   "source": [
    "# study_path = \"D:/Users/gerbauxjul/Documents/6-Etudes Antares/bug_milp\"\n",
    "study_path = \"Z:/JulietteG/6-Etutes_Antares/H2_france/BP23_A_ref/output\""
   ]
  },
  {
   "cell_type": "code",
   "execution_count": 1,
   "metadata": {},
   "outputs": [
    {
     "ename": "NameError",
     "evalue": "name 'study_path' is not defined",
     "output_type": "error",
     "traceback": [
      "\u001b[1;31m---------------------------------------------------------------------------\u001b[0m",
      "\u001b[1;31mNameError\u001b[0m                                 Traceback (most recent call last)",
      "Cell \u001b[1;32mIn[1], line 1\u001b[0m\n\u001b[1;32m----> 1\u001b[0m output_path_initial \u001b[38;5;241m=\u001b[39m \u001b[43mstudy_path\u001b[49m\u001b[38;5;241m+\u001b[39m\u001b[38;5;124m\"\u001b[39m\u001b[38;5;124m/20250108-1706eco-mps_xpansion\u001b[39m\u001b[38;5;124m\"\u001b[39m\n",
      "\u001b[1;31mNameError\u001b[0m: name 'study_path' is not defined"
     ]
    }
   ],
   "source": [
    "output_path_initial = study_path+\"/20250108-1706eco-mps_xpansion\""
   ]
  },
  {
   "cell_type": "code",
   "execution_count": 8,
   "metadata": {},
   "outputs": [
    {
     "ename": "",
     "evalue": "",
     "output_type": "error",
     "traceback": [
      "\u001b[1;31mThe Kernel crashed while executing code in the current cell or a previous cell. \n",
      "\u001b[1;31mPlease review the code in the cell(s) to identify a possible cause of the failure. \n",
      "\u001b[1;31mClick <a href='https://aka.ms/vscodeJupyterKernelCrash'>here</a> for more info. \n",
      "\u001b[1;31mView Jupyter <a href='command:jupyter.viewOutput'>log</a> for further details."
     ]
    }
   ],
   "source": [
    "m_initial = retrieve_problem(67,1,output_path_initial,itr=1)"
   ]
  },
  {
   "cell_type": "code",
   "execution_count": 9,
   "metadata": {},
   "outputs": [],
   "source": [
    "m_initial.write(\"problem_upper_bound.lp\",\"l\")"
   ]
  },
  {
   "cell_type": "code",
   "execution_count": 10,
   "metadata": {},
   "outputs": [
    {
     "name": "stdout",
     "output_type": "stream",
     "text": [
      "FICO Xpress v8.14.8, Hyper, solve started 11:20:40, Jan 9, 2025\n",
      "Heap usage: 83MB (peak 83MB, 19MB system)\n",
      "Minimizing LP Pb Solve using 1 thread and up to 31GB memory, with these control settings:\n",
      "SCALING = 0\n",
      "PRESOLVE = 0\n",
      "OUTPUTLOG = 1\n",
      "THREADS = 1\n",
      "FEASTOL = 1.e-7\n",
      "OPTIMALITYTOL = 1.e-7\n",
      "Original problem has:\n",
      "     95976 rows       228749 cols       505445 elements\n",
      "\n",
      "Coefficient range                    original                 solved        \n",
      "  Coefficients   [min,max] : [ 8.00e-02,  1.92e+00] / [ 8.00e-02,  1.92e+00]\n",
      "  RHS and bounds [min,max] : [ 3.00e-09,  2.65e+06] / [ 3.00e-09,  2.65e+06]\n",
      "  Objective      [min,max] : [ 5.00e-04,  1.61e+04] / [ 5.00e-04,  1.61e+04]\n",
      "\n",
      "Crash basis containing 4428 structural columns created\n",
      " \n",
      "   Its         Obj Value      S   Ninf  Nneg   Sum Dual Inf  Time\n",
      "     0      -1503047668.      D      1  5208       2.880797     0\n",
      " 38461      -1187910132.      D  24390     0        .000000     2\n",
      " 52286      -1069086773.      D  17812     0        .000000     4\n",
      " 60272      -1023956383.      D  13886     0        .000000     5\n",
      " 68789      -1018362538.      D   9411     0        .000000     6\n",
      " 78632      -1018291350.      P      0     0        .000000     7\n",
      "Optimal solution found\n",
      "Dual solved problem\n",
      "  78632 simplex iterations in 6.97 seconds at time 7\n",
      "\n",
      "Final objective                       : -1.018291350098895e+09\n",
      "  Max primal violation      (abs/rel) : 3.400e-08 / 3.400e-08\n",
      "  Max dual violation        (abs/rel) : 2.500e-08 / 2.500e-08\n",
      "  Max complementarity viol. (abs/rel) :       0.0 /       0.0\n"
     ]
    }
   ],
   "source": [
    "m_initial.solve()"
   ]
  },
  {
   "cell_type": "code",
   "execution_count": 11,
   "metadata": {},
   "outputs": [
    {
     "data": {
      "text/plain": [
       "-1018291350.0988952"
      ]
     },
     "execution_count": 11,
     "metadata": {},
     "output_type": "execute_result"
    }
   ],
   "source": [
    "m_initial.getObjVal() #-1.0182913501#-1.0182913501e+09"
   ]
  },
  {
   "cell_type": "code",
   "execution_count": 12,
   "metadata": {},
   "outputs": [],
   "source": [
    "vars = m_initial.getVariable()\n",
    "names_ref = [v.name for v in vars]"
   ]
  },
  {
   "cell_type": "code",
   "execution_count": 15,
   "metadata": {},
   "outputs": [],
   "source": [
    "def create_dataframe_variables(m,names):\n",
    "    idx = [i for i in range(len(names))]\n",
    "    vars = m.getVariable()\n",
    "    df_vars = pd.DataFrame([vars[i] for i in idx], columns=[\"var\"])\n",
    "    df_vars[\"names\"] = [names[i] for i in idx]\n",
    "    df_vars[\"split\"] = df_vars[\"names\"].apply(lambda x:x.strip().split(\"::\"))\n",
    "    df_vars[\"name_var\"] = df_vars[\"split\"].apply(lambda x:x[0])\n",
    "    df_vars[\"antares_object\"] = df_vars[\"split\"].apply(lambda x:x[1].split(\"<\")[0])\n",
    "    df_vars[\"name_antares_object\"] = df_vars[\"split\"].apply(lambda x:x[1].split(\"<\")[1].split(\">\")[0])\n",
    "    df_vars[\"subobject\"] = df_vars[\"split\"].apply(lambda x:x[2] if len(x)>=4 else \"None\")\n",
    "    df_vars[\"time\"] = df_vars[\"split\"].apply(lambda x:int(x[-1].split(\"<\")[1].split(\">\")[0]))\n",
    "# coltype = []\n",
    "# m.getcoltype(coltype, 0, m.attributes.cols - 1)\n",
    "# df_vars['coltype'] = coltype\n",
    "    # bounds = []\n",
    "    # m.getlb(bounds, 0, m.attributes.cols - 1)\n",
    "    # df_vars['lb'] = [bounds[i] for i in idx]\n",
    "    # bounds = []\n",
    "    # m.getub(bounds, 0, m.attributes.cols - 1)\n",
    "    # df_vars['ub'] = [bounds[i] for i in idx]\n",
    "    # df_vars = df_vars.assign(sol=[m.getSolution(i) for i in idx])\n",
    "    # objcoef = []\n",
    "    # m.getobj(objcoef,0,m.attributes.cols-1)\n",
    "    # df_vars= df_vars.assign(coeff=[objcoef[i] for i in range(m.attributes.cols)])\n",
    "    # df_vars = df_vars.assign(sol=[m.getSolution(i) for i in range(m.attributes.cols)])\n",
    "    return df_vars"
   ]
  },
  {
   "cell_type": "code",
   "execution_count": 14,
   "metadata": {},
   "outputs": [],
   "source": [
    "df_vars_itr1 = create_dataframe_variables(m_initial,names_ref)"
   ]
  },
  {
   "cell_type": "code",
   "execution_count": 15,
   "metadata": {},
   "outputs": [
    {
     "data": {
      "text/plain": [
       "array(['NTCDirect', 'IntercoDirectCost', 'IntercoIndirectCost',\n",
       "       'DispatchableProduction', 'PositiveUnsuppliedEnergy',\n",
       "       'NegativeUnsuppliedEnergy', 'HydProd', 'Pumping', 'HydroLevel',\n",
       "       'Overflow', 'FinalStorage', 'LayerStorage'], dtype=object)"
      ]
     },
     "execution_count": 15,
     "metadata": {},
     "output_type": "execute_result"
    }
   ],
   "source": [
    "df_vars_itr1[\"name_var\"].unique()"
   ]
  },
  {
   "cell_type": "code",
   "execution_count": 16,
   "metadata": {},
   "outputs": [
    {
     "data": {
      "text/html": [
       "<div>\n",
       "<style scoped>\n",
       "    .dataframe tbody tr th:only-of-type {\n",
       "        vertical-align: middle;\n",
       "    }\n",
       "\n",
       "    .dataframe tbody tr th {\n",
       "        vertical-align: top;\n",
       "    }\n",
       "\n",
       "    .dataframe thead th {\n",
       "        text-align: right;\n",
       "    }\n",
       "</style>\n",
       "<table border=\"1\" class=\"dataframe\">\n",
       "  <thead>\n",
       "    <tr style=\"text-align: right;\">\n",
       "      <th></th>\n",
       "      <th>var</th>\n",
       "      <th>names</th>\n",
       "      <th>split</th>\n",
       "      <th>name_var</th>\n",
       "      <th>antares_object</th>\n",
       "      <th>name_antares_object</th>\n",
       "      <th>subobject</th>\n",
       "      <th>time</th>\n",
       "    </tr>\n",
       "  </thead>\n",
       "  <tbody>\n",
       "    <tr>\n",
       "      <th>228649</th>\n",
       "      <td>LayerStorage::area&lt;v_me_h2_long&gt;::Layer&lt;0&gt;::ho...</td>\n",
       "      <td>LayerStorage::area&lt;v_me_h2_long&gt;::Layer&lt;0&gt;::ho...</td>\n",
       "      <td>[LayerStorage, area&lt;v_me_h2_long&gt;, Layer&lt;0&gt;, h...</td>\n",
       "      <td>LayerStorage</td>\n",
       "      <td>area</td>\n",
       "      <td>v_me_h2_long</td>\n",
       "      <td>Layer&lt;0&gt;</td>\n",
       "      <td>167</td>\n",
       "    </tr>\n",
       "    <tr>\n",
       "      <th>228650</th>\n",
       "      <td>LayerStorage::area&lt;v_me_h2_long&gt;::Layer&lt;1&gt;::ho...</td>\n",
       "      <td>LayerStorage::area&lt;v_me_h2_long&gt;::Layer&lt;1&gt;::ho...</td>\n",
       "      <td>[LayerStorage, area&lt;v_me_h2_long&gt;, Layer&lt;1&gt;, h...</td>\n",
       "      <td>LayerStorage</td>\n",
       "      <td>area</td>\n",
       "      <td>v_me_h2_long</td>\n",
       "      <td>Layer&lt;1&gt;</td>\n",
       "      <td>167</td>\n",
       "    </tr>\n",
       "    <tr>\n",
       "      <th>228651</th>\n",
       "      <td>LayerStorage::area&lt;v_me_h2_long&gt;::Layer&lt;2&gt;::ho...</td>\n",
       "      <td>LayerStorage::area&lt;v_me_h2_long&gt;::Layer&lt;2&gt;::ho...</td>\n",
       "      <td>[LayerStorage, area&lt;v_me_h2_long&gt;, Layer&lt;2&gt;, h...</td>\n",
       "      <td>LayerStorage</td>\n",
       "      <td>area</td>\n",
       "      <td>v_me_h2_long</td>\n",
       "      <td>Layer&lt;2&gt;</td>\n",
       "      <td>167</td>\n",
       "    </tr>\n",
       "    <tr>\n",
       "      <th>228652</th>\n",
       "      <td>LayerStorage::area&lt;v_me_h2_long&gt;::Layer&lt;3&gt;::ho...</td>\n",
       "      <td>LayerStorage::area&lt;v_me_h2_long&gt;::Layer&lt;3&gt;::ho...</td>\n",
       "      <td>[LayerStorage, area&lt;v_me_h2_long&gt;, Layer&lt;3&gt;, h...</td>\n",
       "      <td>LayerStorage</td>\n",
       "      <td>area</td>\n",
       "      <td>v_me_h2_long</td>\n",
       "      <td>Layer&lt;3&gt;</td>\n",
       "      <td>167</td>\n",
       "    </tr>\n",
       "    <tr>\n",
       "      <th>228653</th>\n",
       "      <td>LayerStorage::area&lt;v_me_h2_long&gt;::Layer&lt;4&gt;::ho...</td>\n",
       "      <td>LayerStorage::area&lt;v_me_h2_long&gt;::Layer&lt;4&gt;::ho...</td>\n",
       "      <td>[LayerStorage, area&lt;v_me_h2_long&gt;, Layer&lt;4&gt;, h...</td>\n",
       "      <td>LayerStorage</td>\n",
       "      <td>area</td>\n",
       "      <td>v_me_h2_long</td>\n",
       "      <td>Layer&lt;4&gt;</td>\n",
       "      <td>167</td>\n",
       "    </tr>\n",
       "    <tr>\n",
       "      <th>...</th>\n",
       "      <td>...</td>\n",
       "      <td>...</td>\n",
       "      <td>...</td>\n",
       "      <td>...</td>\n",
       "      <td>...</td>\n",
       "      <td>...</td>\n",
       "      <td>...</td>\n",
       "      <td>...</td>\n",
       "    </tr>\n",
       "    <tr>\n",
       "      <th>228744</th>\n",
       "      <td>LayerStorage::area&lt;v_me_h2_long&gt;::Layer&lt;95&gt;::h...</td>\n",
       "      <td>LayerStorage::area&lt;v_me_h2_long&gt;::Layer&lt;95&gt;::h...</td>\n",
       "      <td>[LayerStorage, area&lt;v_me_h2_long&gt;, Layer&lt;95&gt;, ...</td>\n",
       "      <td>LayerStorage</td>\n",
       "      <td>area</td>\n",
       "      <td>v_me_h2_long</td>\n",
       "      <td>Layer&lt;95&gt;</td>\n",
       "      <td>167</td>\n",
       "    </tr>\n",
       "    <tr>\n",
       "      <th>228745</th>\n",
       "      <td>LayerStorage::area&lt;v_me_h2_long&gt;::Layer&lt;96&gt;::h...</td>\n",
       "      <td>LayerStorage::area&lt;v_me_h2_long&gt;::Layer&lt;96&gt;::h...</td>\n",
       "      <td>[LayerStorage, area&lt;v_me_h2_long&gt;, Layer&lt;96&gt;, ...</td>\n",
       "      <td>LayerStorage</td>\n",
       "      <td>area</td>\n",
       "      <td>v_me_h2_long</td>\n",
       "      <td>Layer&lt;96&gt;</td>\n",
       "      <td>167</td>\n",
       "    </tr>\n",
       "    <tr>\n",
       "      <th>228746</th>\n",
       "      <td>LayerStorage::area&lt;v_me_h2_long&gt;::Layer&lt;97&gt;::h...</td>\n",
       "      <td>LayerStorage::area&lt;v_me_h2_long&gt;::Layer&lt;97&gt;::h...</td>\n",
       "      <td>[LayerStorage, area&lt;v_me_h2_long&gt;, Layer&lt;97&gt;, ...</td>\n",
       "      <td>LayerStorage</td>\n",
       "      <td>area</td>\n",
       "      <td>v_me_h2_long</td>\n",
       "      <td>Layer&lt;97&gt;</td>\n",
       "      <td>167</td>\n",
       "    </tr>\n",
       "    <tr>\n",
       "      <th>228747</th>\n",
       "      <td>LayerStorage::area&lt;v_me_h2_long&gt;::Layer&lt;98&gt;::h...</td>\n",
       "      <td>LayerStorage::area&lt;v_me_h2_long&gt;::Layer&lt;98&gt;::h...</td>\n",
       "      <td>[LayerStorage, area&lt;v_me_h2_long&gt;, Layer&lt;98&gt;, ...</td>\n",
       "      <td>LayerStorage</td>\n",
       "      <td>area</td>\n",
       "      <td>v_me_h2_long</td>\n",
       "      <td>Layer&lt;98&gt;</td>\n",
       "      <td>167</td>\n",
       "    </tr>\n",
       "    <tr>\n",
       "      <th>228748</th>\n",
       "      <td>LayerStorage::area&lt;v_me_h2_long&gt;::Layer&lt;99&gt;::h...</td>\n",
       "      <td>LayerStorage::area&lt;v_me_h2_long&gt;::Layer&lt;99&gt;::h...</td>\n",
       "      <td>[LayerStorage, area&lt;v_me_h2_long&gt;, Layer&lt;99&gt;, ...</td>\n",
       "      <td>LayerStorage</td>\n",
       "      <td>area</td>\n",
       "      <td>v_me_h2_long</td>\n",
       "      <td>Layer&lt;99&gt;</td>\n",
       "      <td>167</td>\n",
       "    </tr>\n",
       "  </tbody>\n",
       "</table>\n",
       "<p>100 rows × 8 columns</p>\n",
       "</div>"
      ],
      "text/plain": [
       "                                                      var  \\\n",
       "228649  LayerStorage::area<v_me_h2_long>::Layer<0>::ho...   \n",
       "228650  LayerStorage::area<v_me_h2_long>::Layer<1>::ho...   \n",
       "228651  LayerStorage::area<v_me_h2_long>::Layer<2>::ho...   \n",
       "228652  LayerStorage::area<v_me_h2_long>::Layer<3>::ho...   \n",
       "228653  LayerStorage::area<v_me_h2_long>::Layer<4>::ho...   \n",
       "...                                                   ...   \n",
       "228744  LayerStorage::area<v_me_h2_long>::Layer<95>::h...   \n",
       "228745  LayerStorage::area<v_me_h2_long>::Layer<96>::h...   \n",
       "228746  LayerStorage::area<v_me_h2_long>::Layer<97>::h...   \n",
       "228747  LayerStorage::area<v_me_h2_long>::Layer<98>::h...   \n",
       "228748  LayerStorage::area<v_me_h2_long>::Layer<99>::h...   \n",
       "\n",
       "                                                    names  \\\n",
       "228649  LayerStorage::area<v_me_h2_long>::Layer<0>::ho...   \n",
       "228650  LayerStorage::area<v_me_h2_long>::Layer<1>::ho...   \n",
       "228651  LayerStorage::area<v_me_h2_long>::Layer<2>::ho...   \n",
       "228652  LayerStorage::area<v_me_h2_long>::Layer<3>::ho...   \n",
       "228653  LayerStorage::area<v_me_h2_long>::Layer<4>::ho...   \n",
       "...                                                   ...   \n",
       "228744  LayerStorage::area<v_me_h2_long>::Layer<95>::h...   \n",
       "228745  LayerStorage::area<v_me_h2_long>::Layer<96>::h...   \n",
       "228746  LayerStorage::area<v_me_h2_long>::Layer<97>::h...   \n",
       "228747  LayerStorage::area<v_me_h2_long>::Layer<98>::h...   \n",
       "228748  LayerStorage::area<v_me_h2_long>::Layer<99>::h...   \n",
       "\n",
       "                                                    split      name_var  \\\n",
       "228649  [LayerStorage, area<v_me_h2_long>, Layer<0>, h...  LayerStorage   \n",
       "228650  [LayerStorage, area<v_me_h2_long>, Layer<1>, h...  LayerStorage   \n",
       "228651  [LayerStorage, area<v_me_h2_long>, Layer<2>, h...  LayerStorage   \n",
       "228652  [LayerStorage, area<v_me_h2_long>, Layer<3>, h...  LayerStorage   \n",
       "228653  [LayerStorage, area<v_me_h2_long>, Layer<4>, h...  LayerStorage   \n",
       "...                                                   ...           ...   \n",
       "228744  [LayerStorage, area<v_me_h2_long>, Layer<95>, ...  LayerStorage   \n",
       "228745  [LayerStorage, area<v_me_h2_long>, Layer<96>, ...  LayerStorage   \n",
       "228746  [LayerStorage, area<v_me_h2_long>, Layer<97>, ...  LayerStorage   \n",
       "228747  [LayerStorage, area<v_me_h2_long>, Layer<98>, ...  LayerStorage   \n",
       "228748  [LayerStorage, area<v_me_h2_long>, Layer<99>, ...  LayerStorage   \n",
       "\n",
       "       antares_object name_antares_object  subobject  time  \n",
       "228649           area        v_me_h2_long   Layer<0>   167  \n",
       "228650           area        v_me_h2_long   Layer<1>   167  \n",
       "228651           area        v_me_h2_long   Layer<2>   167  \n",
       "228652           area        v_me_h2_long   Layer<3>   167  \n",
       "228653           area        v_me_h2_long   Layer<4>   167  \n",
       "...               ...                 ...        ...   ...  \n",
       "228744           area        v_me_h2_long  Layer<95>   167  \n",
       "228745           area        v_me_h2_long  Layer<96>   167  \n",
       "228746           area        v_me_h2_long  Layer<97>   167  \n",
       "228747           area        v_me_h2_long  Layer<98>   167  \n",
       "228748           area        v_me_h2_long  Layer<99>   167  \n",
       "\n",
       "[100 rows x 8 columns]"
      ]
     },
     "execution_count": 16,
     "metadata": {},
     "output_type": "execute_result"
    }
   ],
   "source": [
    "df_vars_itr1[df_vars_itr1[\"name_var\"]=='LayerStorage']"
   ]
  },
  {
   "cell_type": "code",
   "execution_count": 17,
   "metadata": {},
   "outputs": [],
   "source": [
    "sol_layer = [m_initial.getSolution(i) for i in df_vars_itr1[df_vars_itr1[\"name_var\"]=='LayerStorage'].index]"
   ]
  },
  {
   "cell_type": "code",
   "execution_count": 18,
   "metadata": {},
   "outputs": [
    {
     "name": "stdout",
     "output_type": "stream",
     "text": [
      "100\n"
     ]
    }
   ],
   "source": [
    "objcoef = []\n",
    "m_initial.getobj(objcoef,228649,228748)\n",
    "print(len(objcoef))"
   ]
  },
  {
   "cell_type": "code",
   "execution_count": 19,
   "metadata": {},
   "outputs": [
    {
     "name": "stdout",
     "output_type": "stream",
     "text": [
      "-1831550909.6311038\n"
     ]
    }
   ],
   "source": [
    "cost_bellman = sum([sol_layer[i]*objcoef[i] for i in range(100)])\n",
    "print(cost_bellman)"
   ]
  },
  {
   "cell_type": "code",
   "execution_count": 20,
   "metadata": {},
   "outputs": [
    {
     "data": {
      "text/plain": [
       "813259559.5322086"
      ]
     },
     "execution_count": 20,
     "metadata": {},
     "output_type": "execute_result"
    }
   ],
   "source": [
    "m_initial.getObjVal() - cost_bellman"
   ]
  },
  {
   "cell_type": "code",
   "execution_count": 8,
   "metadata": {},
   "outputs": [],
   "source": [
    "output_path_initial = study_path+\"/20250109-1742eco-mps_xpansion\""
   ]
  },
  {
   "cell_type": "code",
   "execution_count": 9,
   "metadata": {},
   "outputs": [
    {
     "name": "stdout",
     "output_type": "stream",
     "text": [
      "Reading Problem Pb Solve\n",
      "Problem Statistics\n",
      "       95976 (      1 spare) rows\n",
      "      228749 (      0 spare) structural columns\n",
      "      505445 ( 172468 spare) non-zero elements\n",
      "Global Statistics\n",
      "           0 entities        0 sets        0 set members\n"
     ]
    }
   ],
   "source": [
    "m_initial = retrieve_problem(67,1,output_path_initial,itr=1)"
   ]
  },
  {
   "cell_type": "code",
   "execution_count": 10,
   "metadata": {},
   "outputs": [],
   "source": [
    "m_initial.write(\"problem_upper_bound_bis.lp\",\"l\")"
   ]
  },
  {
   "cell_type": "code",
   "execution_count": 11,
   "metadata": {},
   "outputs": [
    {
     "name": "stdout",
     "output_type": "stream",
     "text": [
      "FICO Xpress v8.14.8, Hyper, solve started 15:24:55, Jan 10, 2025\n",
      "Heap usage: 83MB (peak 83MB, 19MB system)\n",
      "Minimizing LP Pb Solve using 1 thread and up to 31GB memory, with these control settings:\n",
      "SCALING = 0\n",
      "PRESOLVE = 0\n",
      "OUTPUTLOG = 1\n",
      "THREADS = 1\n",
      "FEASTOL = 1.e-7\n",
      "OPTIMALITYTOL = 1.e-7\n",
      "Original problem has:\n",
      "     95976 rows       228749 cols       505445 elements\n",
      "\n",
      "Coefficient range                    original                 solved        \n",
      "  Coefficients   [min,max] : [ 8.00e-02,  1.92e+00] / [ 8.00e-02,  1.92e+00]\n",
      "  RHS and bounds [min,max] : [ 3.00e-09,  2.65e+06] / [ 3.00e-09,  2.65e+06]\n",
      "  Objective      [min,max] : [ 5.00e-04,  1.61e+04] / [ 5.00e-04,  1.61e+04]\n",
      "\n",
      "Crash basis containing 4428 structural columns created\n",
      " \n",
      "   Its         Obj Value      S   Ninf  Nneg   Sum Dual Inf  Time\n",
      "     0      -1495728318.      D      1  5208       2.880797     0\n",
      " 38461      -1180609259.      D  24390     0        .000000     3\n",
      " 52286      -1061793958.      D  17812     0        .000000     6\n",
      " 60266      -1016712424.      D  13785     0        .000000     7\n",
      " 68673      -1011067834.      D   9667     0        .000000     9\n",
      " 78658      -1010985876.      P      0     0        .000000    11\n",
      "Optimal solution found\n",
      "Dual solved problem\n",
      "  78658 simplex iterations in 10.55 seconds at time 11\n",
      "\n",
      "Final objective                       : -1.010985876253482e+09\n",
      "  Max primal violation      (abs/rel) : 3.400e-08 / 3.400e-08\n",
      "  Max dual violation        (abs/rel) : 2.500e-08 / 2.500e-08\n",
      "  Max complementarity viol. (abs/rel) :       0.0 /       0.0\n"
     ]
    }
   ],
   "source": [
    "m_initial.solve()"
   ]
  },
  {
   "cell_type": "code",
   "execution_count": 12,
   "metadata": {},
   "outputs": [
    {
     "data": {
      "text/plain": [
       "-1010985876.2534821"
      ]
     },
     "execution_count": 12,
     "metadata": {},
     "output_type": "execute_result"
    }
   ],
   "source": [
    "m_initial.getObjVal() #-1.0109858763e+09"
   ]
  },
  {
   "cell_type": "code",
   "execution_count": 13,
   "metadata": {},
   "outputs": [],
   "source": [
    "vars = m_initial.getVariable()\n",
    "names_ref = [v.name for v in vars]"
   ]
  },
  {
   "cell_type": "code",
   "execution_count": 16,
   "metadata": {},
   "outputs": [],
   "source": [
    "df_vars_itr1 = create_dataframe_variables(m_initial,names_ref)"
   ]
  },
  {
   "cell_type": "code",
   "execution_count": 17,
   "metadata": {},
   "outputs": [
    {
     "data": {
      "text/plain": [
       "array(['NTCDirect', 'IntercoDirectCost', 'IntercoIndirectCost',\n",
       "       'DispatchableProduction', 'PositiveUnsuppliedEnergy',\n",
       "       'NegativeUnsuppliedEnergy', 'HydProd', 'Pumping', 'HydroLevel',\n",
       "       'Overflow', 'FinalStorage', 'LayerStorage'], dtype=object)"
      ]
     },
     "execution_count": 17,
     "metadata": {},
     "output_type": "execute_result"
    }
   ],
   "source": [
    "df_vars_itr1[\"name_var\"].unique()"
   ]
  },
  {
   "cell_type": "code",
   "execution_count": 18,
   "metadata": {},
   "outputs": [
    {
     "data": {
      "text/html": [
       "<div>\n",
       "<style scoped>\n",
       "    .dataframe tbody tr th:only-of-type {\n",
       "        vertical-align: middle;\n",
       "    }\n",
       "\n",
       "    .dataframe tbody tr th {\n",
       "        vertical-align: top;\n",
       "    }\n",
       "\n",
       "    .dataframe thead th {\n",
       "        text-align: right;\n",
       "    }\n",
       "</style>\n",
       "<table border=\"1\" class=\"dataframe\">\n",
       "  <thead>\n",
       "    <tr style=\"text-align: right;\">\n",
       "      <th></th>\n",
       "      <th>var</th>\n",
       "      <th>names</th>\n",
       "      <th>split</th>\n",
       "      <th>name_var</th>\n",
       "      <th>antares_object</th>\n",
       "      <th>name_antares_object</th>\n",
       "      <th>subobject</th>\n",
       "      <th>time</th>\n",
       "    </tr>\n",
       "  </thead>\n",
       "  <tbody>\n",
       "    <tr>\n",
       "      <th>228649</th>\n",
       "      <td>LayerStorage::area&lt;v_me_h2_long&gt;::Layer&lt;0&gt;::ho...</td>\n",
       "      <td>LayerStorage::area&lt;v_me_h2_long&gt;::Layer&lt;0&gt;::ho...</td>\n",
       "      <td>[LayerStorage, area&lt;v_me_h2_long&gt;, Layer&lt;0&gt;, h...</td>\n",
       "      <td>LayerStorage</td>\n",
       "      <td>area</td>\n",
       "      <td>v_me_h2_long</td>\n",
       "      <td>Layer&lt;0&gt;</td>\n",
       "      <td>167</td>\n",
       "    </tr>\n",
       "    <tr>\n",
       "      <th>228650</th>\n",
       "      <td>LayerStorage::area&lt;v_me_h2_long&gt;::Layer&lt;1&gt;::ho...</td>\n",
       "      <td>LayerStorage::area&lt;v_me_h2_long&gt;::Layer&lt;1&gt;::ho...</td>\n",
       "      <td>[LayerStorage, area&lt;v_me_h2_long&gt;, Layer&lt;1&gt;, h...</td>\n",
       "      <td>LayerStorage</td>\n",
       "      <td>area</td>\n",
       "      <td>v_me_h2_long</td>\n",
       "      <td>Layer&lt;1&gt;</td>\n",
       "      <td>167</td>\n",
       "    </tr>\n",
       "    <tr>\n",
       "      <th>228651</th>\n",
       "      <td>LayerStorage::area&lt;v_me_h2_long&gt;::Layer&lt;2&gt;::ho...</td>\n",
       "      <td>LayerStorage::area&lt;v_me_h2_long&gt;::Layer&lt;2&gt;::ho...</td>\n",
       "      <td>[LayerStorage, area&lt;v_me_h2_long&gt;, Layer&lt;2&gt;, h...</td>\n",
       "      <td>LayerStorage</td>\n",
       "      <td>area</td>\n",
       "      <td>v_me_h2_long</td>\n",
       "      <td>Layer&lt;2&gt;</td>\n",
       "      <td>167</td>\n",
       "    </tr>\n",
       "    <tr>\n",
       "      <th>228652</th>\n",
       "      <td>LayerStorage::area&lt;v_me_h2_long&gt;::Layer&lt;3&gt;::ho...</td>\n",
       "      <td>LayerStorage::area&lt;v_me_h2_long&gt;::Layer&lt;3&gt;::ho...</td>\n",
       "      <td>[LayerStorage, area&lt;v_me_h2_long&gt;, Layer&lt;3&gt;, h...</td>\n",
       "      <td>LayerStorage</td>\n",
       "      <td>area</td>\n",
       "      <td>v_me_h2_long</td>\n",
       "      <td>Layer&lt;3&gt;</td>\n",
       "      <td>167</td>\n",
       "    </tr>\n",
       "    <tr>\n",
       "      <th>228653</th>\n",
       "      <td>LayerStorage::area&lt;v_me_h2_long&gt;::Layer&lt;4&gt;::ho...</td>\n",
       "      <td>LayerStorage::area&lt;v_me_h2_long&gt;::Layer&lt;4&gt;::ho...</td>\n",
       "      <td>[LayerStorage, area&lt;v_me_h2_long&gt;, Layer&lt;4&gt;, h...</td>\n",
       "      <td>LayerStorage</td>\n",
       "      <td>area</td>\n",
       "      <td>v_me_h2_long</td>\n",
       "      <td>Layer&lt;4&gt;</td>\n",
       "      <td>167</td>\n",
       "    </tr>\n",
       "    <tr>\n",
       "      <th>...</th>\n",
       "      <td>...</td>\n",
       "      <td>...</td>\n",
       "      <td>...</td>\n",
       "      <td>...</td>\n",
       "      <td>...</td>\n",
       "      <td>...</td>\n",
       "      <td>...</td>\n",
       "      <td>...</td>\n",
       "    </tr>\n",
       "    <tr>\n",
       "      <th>228744</th>\n",
       "      <td>LayerStorage::area&lt;v_me_h2_long&gt;::Layer&lt;95&gt;::h...</td>\n",
       "      <td>LayerStorage::area&lt;v_me_h2_long&gt;::Layer&lt;95&gt;::h...</td>\n",
       "      <td>[LayerStorage, area&lt;v_me_h2_long&gt;, Layer&lt;95&gt;, ...</td>\n",
       "      <td>LayerStorage</td>\n",
       "      <td>area</td>\n",
       "      <td>v_me_h2_long</td>\n",
       "      <td>Layer&lt;95&gt;</td>\n",
       "      <td>167</td>\n",
       "    </tr>\n",
       "    <tr>\n",
       "      <th>228745</th>\n",
       "      <td>LayerStorage::area&lt;v_me_h2_long&gt;::Layer&lt;96&gt;::h...</td>\n",
       "      <td>LayerStorage::area&lt;v_me_h2_long&gt;::Layer&lt;96&gt;::h...</td>\n",
       "      <td>[LayerStorage, area&lt;v_me_h2_long&gt;, Layer&lt;96&gt;, ...</td>\n",
       "      <td>LayerStorage</td>\n",
       "      <td>area</td>\n",
       "      <td>v_me_h2_long</td>\n",
       "      <td>Layer&lt;96&gt;</td>\n",
       "      <td>167</td>\n",
       "    </tr>\n",
       "    <tr>\n",
       "      <th>228746</th>\n",
       "      <td>LayerStorage::area&lt;v_me_h2_long&gt;::Layer&lt;97&gt;::h...</td>\n",
       "      <td>LayerStorage::area&lt;v_me_h2_long&gt;::Layer&lt;97&gt;::h...</td>\n",
       "      <td>[LayerStorage, area&lt;v_me_h2_long&gt;, Layer&lt;97&gt;, ...</td>\n",
       "      <td>LayerStorage</td>\n",
       "      <td>area</td>\n",
       "      <td>v_me_h2_long</td>\n",
       "      <td>Layer&lt;97&gt;</td>\n",
       "      <td>167</td>\n",
       "    </tr>\n",
       "    <tr>\n",
       "      <th>228747</th>\n",
       "      <td>LayerStorage::area&lt;v_me_h2_long&gt;::Layer&lt;98&gt;::h...</td>\n",
       "      <td>LayerStorage::area&lt;v_me_h2_long&gt;::Layer&lt;98&gt;::h...</td>\n",
       "      <td>[LayerStorage, area&lt;v_me_h2_long&gt;, Layer&lt;98&gt;, ...</td>\n",
       "      <td>LayerStorage</td>\n",
       "      <td>area</td>\n",
       "      <td>v_me_h2_long</td>\n",
       "      <td>Layer&lt;98&gt;</td>\n",
       "      <td>167</td>\n",
       "    </tr>\n",
       "    <tr>\n",
       "      <th>228748</th>\n",
       "      <td>LayerStorage::area&lt;v_me_h2_long&gt;::Layer&lt;99&gt;::h...</td>\n",
       "      <td>LayerStorage::area&lt;v_me_h2_long&gt;::Layer&lt;99&gt;::h...</td>\n",
       "      <td>[LayerStorage, area&lt;v_me_h2_long&gt;, Layer&lt;99&gt;, ...</td>\n",
       "      <td>LayerStorage</td>\n",
       "      <td>area</td>\n",
       "      <td>v_me_h2_long</td>\n",
       "      <td>Layer&lt;99&gt;</td>\n",
       "      <td>167</td>\n",
       "    </tr>\n",
       "  </tbody>\n",
       "</table>\n",
       "<p>100 rows × 8 columns</p>\n",
       "</div>"
      ],
      "text/plain": [
       "                                                      var  \\\n",
       "228649  LayerStorage::area<v_me_h2_long>::Layer<0>::ho...   \n",
       "228650  LayerStorage::area<v_me_h2_long>::Layer<1>::ho...   \n",
       "228651  LayerStorage::area<v_me_h2_long>::Layer<2>::ho...   \n",
       "228652  LayerStorage::area<v_me_h2_long>::Layer<3>::ho...   \n",
       "228653  LayerStorage::area<v_me_h2_long>::Layer<4>::ho...   \n",
       "...                                                   ...   \n",
       "228744  LayerStorage::area<v_me_h2_long>::Layer<95>::h...   \n",
       "228745  LayerStorage::area<v_me_h2_long>::Layer<96>::h...   \n",
       "228746  LayerStorage::area<v_me_h2_long>::Layer<97>::h...   \n",
       "228747  LayerStorage::area<v_me_h2_long>::Layer<98>::h...   \n",
       "228748  LayerStorage::area<v_me_h2_long>::Layer<99>::h...   \n",
       "\n",
       "                                                    names  \\\n",
       "228649  LayerStorage::area<v_me_h2_long>::Layer<0>::ho...   \n",
       "228650  LayerStorage::area<v_me_h2_long>::Layer<1>::ho...   \n",
       "228651  LayerStorage::area<v_me_h2_long>::Layer<2>::ho...   \n",
       "228652  LayerStorage::area<v_me_h2_long>::Layer<3>::ho...   \n",
       "228653  LayerStorage::area<v_me_h2_long>::Layer<4>::ho...   \n",
       "...                                                   ...   \n",
       "228744  LayerStorage::area<v_me_h2_long>::Layer<95>::h...   \n",
       "228745  LayerStorage::area<v_me_h2_long>::Layer<96>::h...   \n",
       "228746  LayerStorage::area<v_me_h2_long>::Layer<97>::h...   \n",
       "228747  LayerStorage::area<v_me_h2_long>::Layer<98>::h...   \n",
       "228748  LayerStorage::area<v_me_h2_long>::Layer<99>::h...   \n",
       "\n",
       "                                                    split      name_var  \\\n",
       "228649  [LayerStorage, area<v_me_h2_long>, Layer<0>, h...  LayerStorage   \n",
       "228650  [LayerStorage, area<v_me_h2_long>, Layer<1>, h...  LayerStorage   \n",
       "228651  [LayerStorage, area<v_me_h2_long>, Layer<2>, h...  LayerStorage   \n",
       "228652  [LayerStorage, area<v_me_h2_long>, Layer<3>, h...  LayerStorage   \n",
       "228653  [LayerStorage, area<v_me_h2_long>, Layer<4>, h...  LayerStorage   \n",
       "...                                                   ...           ...   \n",
       "228744  [LayerStorage, area<v_me_h2_long>, Layer<95>, ...  LayerStorage   \n",
       "228745  [LayerStorage, area<v_me_h2_long>, Layer<96>, ...  LayerStorage   \n",
       "228746  [LayerStorage, area<v_me_h2_long>, Layer<97>, ...  LayerStorage   \n",
       "228747  [LayerStorage, area<v_me_h2_long>, Layer<98>, ...  LayerStorage   \n",
       "228748  [LayerStorage, area<v_me_h2_long>, Layer<99>, ...  LayerStorage   \n",
       "\n",
       "       antares_object name_antares_object  subobject  time  \n",
       "228649           area        v_me_h2_long   Layer<0>   167  \n",
       "228650           area        v_me_h2_long   Layer<1>   167  \n",
       "228651           area        v_me_h2_long   Layer<2>   167  \n",
       "228652           area        v_me_h2_long   Layer<3>   167  \n",
       "228653           area        v_me_h2_long   Layer<4>   167  \n",
       "...               ...                 ...        ...   ...  \n",
       "228744           area        v_me_h2_long  Layer<95>   167  \n",
       "228745           area        v_me_h2_long  Layer<96>   167  \n",
       "228746           area        v_me_h2_long  Layer<97>   167  \n",
       "228747           area        v_me_h2_long  Layer<98>   167  \n",
       "228748           area        v_me_h2_long  Layer<99>   167  \n",
       "\n",
       "[100 rows x 8 columns]"
      ]
     },
     "execution_count": 18,
     "metadata": {},
     "output_type": "execute_result"
    }
   ],
   "source": [
    "df_vars_itr1[df_vars_itr1[\"name_var\"]=='LayerStorage']"
   ]
  },
  {
   "cell_type": "code",
   "execution_count": 19,
   "metadata": {},
   "outputs": [],
   "source": [
    "sol_layer = [m_initial.getSolution(i) for i in df_vars_itr1[df_vars_itr1[\"name_var\"]=='LayerStorage'].index]"
   ]
  },
  {
   "cell_type": "code",
   "execution_count": 20,
   "metadata": {},
   "outputs": [
    {
     "name": "stdout",
     "output_type": "stream",
     "text": [
      "100\n"
     ]
    }
   ],
   "source": [
    "objcoef = []\n",
    "m_initial.getobj(objcoef,228649,228748)\n",
    "print(len(objcoef))"
   ]
  },
  {
   "cell_type": "code",
   "execution_count": 21,
   "metadata": {},
   "outputs": [
    {
     "name": "stdout",
     "output_type": "stream",
     "text": [
      "58.253847028412274\n"
     ]
    }
   ],
   "source": [
    "final_level = sum([sol_layer[i] for i in range(100)])\n",
    "print(final_level/363000*100)"
   ]
  },
  {
   "cell_type": "code",
   "execution_count": 22,
   "metadata": {},
   "outputs": [
    {
     "name": "stdout",
     "output_type": "stream",
     "text": [
      "-1824245435.7856967\n",
      "0.12290259252417596\n"
     ]
    }
   ],
   "source": [
    "cost_bellman = sum([sol_layer[i]*objcoef[i] for i in range(100)])\n",
    "print(cost_bellman) #1822006143\n",
    "print((cost_bellman+1822006143)/-1822006143*100)"
   ]
  },
  {
   "cell_type": "code",
   "execution_count": 23,
   "metadata": {},
   "outputs": [
    {
     "data": {
      "text/plain": [
       "813259559.5322146"
      ]
     },
     "execution_count": 23,
     "metadata": {},
     "output_type": "execute_result"
    }
   ],
   "source": [
    "m_initial.getObjVal() - cost_bellman"
   ]
  },
  {
   "cell_type": "code",
   "execution_count": 1,
   "metadata": {},
   "outputs": [
    {
     "ename": "NameError",
     "evalue": "name 'm_initial' is not defined",
     "output_type": "error",
     "traceback": [
      "\u001b[1;31m---------------------------------------------------------------------------\u001b[0m",
      "\u001b[1;31mNameError\u001b[0m                                 Traceback (most recent call last)",
      "Cell \u001b[1;32mIn[1], line 1\u001b[0m\n\u001b[1;32m----> 1\u001b[0m (\u001b[43mm_initial\u001b[49m\u001b[38;5;241m.\u001b[39mgetObjVal() \u001b[38;5;241m-\u001b[39m cost_bellman\u001b[38;5;241m-\u001b[39m\u001b[38;5;241m813258218\u001b[39m)\u001b[38;5;241m/\u001b[39m\u001b[38;5;241m813258218\u001b[39m\u001b[38;5;241m*\u001b[39m\u001b[38;5;241m100\u001b[39m \u001b[38;5;66;03m#813258218\u001b[39;00m\n",
      "\u001b[1;31mNameError\u001b[0m: name 'm_initial' is not defined"
     ]
    }
   ],
   "source": [
    "(m_initial.getObjVal() - cost_bellman-813258218)/813258218*100 #813258218"
   ]
  },
  {
   "cell_type": "code",
   "execution_count": null,
   "metadata": {},
   "outputs": [],
   "source": []
  }
 ],
 "metadata": {
  "kernelspec": {
   "display_name": ".venv",
   "language": "python",
   "name": "python3"
  },
  "language_info": {
   "codemirror_mode": {
    "name": "ipython",
    "version": 3
   },
   "file_extension": ".py",
   "mimetype": "text/x-python",
   "name": "python",
   "nbconvert_exporter": "python",
   "pygments_lexer": "ipython3",
   "version": "3.9.0"
  }
 },
 "nbformat": 4,
 "nbformat_minor": 2
}
