{
 "cells": [
  {
   "cell_type": "code",
   "execution_count": 1,
   "metadata": {},
   "outputs": [],
   "source": [
    "import xpress as xp\n",
    "import numpy as np\n",
    "import matplotlib.pyplot as plt\n",
    "import pandas as pd\n",
    "from pyreadr import read_r\n",
    "from scipy.interpolate import interp1d\n",
    "from param_watervalues import Reservoir\n",
    "from time import time"
   ]
  },
  {
   "cell_type": "code",
   "execution_count": 2,
   "metadata": {},
   "outputs": [],
   "source": [
    "%load_ext line_profiler"
   ]
  },
  {
   "cell_type": "code",
   "execution_count": 3,
   "metadata": {},
   "outputs": [],
   "source": [
    "%matplotlib widget"
   ]
  },
  {
   "cell_type": "code",
   "execution_count": 4,
   "metadata": {},
   "outputs": [],
   "source": [
    "xp.controls.outputlog = -1"
   ]
  },
  {
   "cell_type": "code",
   "execution_count": 5,
   "metadata": {},
   "outputs": [],
   "source": [
    "study_path = \"D:/Users/gerbauxjul/Documents/6-Etudes Antares/ERAA_scandinavie\"\n",
    "output_path = study_path+\"/user/fast_fi00\""
   ]
  },
  {
   "cell_type": "code",
   "execution_count": 6,
   "metadata": {},
   "outputs": [],
   "source": [
    "def retrieve_problem(year,week,output_path,itr=1):\n",
    "    model = xp.problem()\n",
    "    model.read(output_path+f\"/problem-{year}-{week}--optim-nb-{itr}.mps\")\n",
    "    return(model)"
   ]
  },
  {
   "cell_type": "code",
   "execution_count": 7,
   "metadata": {},
   "outputs": [],
   "source": [
    "S = 52\n",
    "NTrain = 1\n",
    "H = 168"
   ]
  },
  {
   "cell_type": "code",
   "execution_count": 100,
   "metadata": {},
   "outputs": [],
   "source": [
    "def create_weekly_problem(k,s,pen_low,pen_high,output_path,reservoir):\n",
    "    model = retrieve_problem(k+1,s+1,output_path)\n",
    "    model.controls.xslp_log = -1\n",
    "\n",
    "    # STATE\n",
    "    x_s = xp.var(\"x_s\",lb = 0, ub = reservoir.capacity)\n",
    "    model.addVariable (x_s)          # State at the begining of the current week\n",
    "\n",
    "    x_s_1 = xp.var(\"x_s_1\",lb = 0, ub = reservoir.capacity)\n",
    "    model.addVariable (x_s_1) # State at the begining of the following week\n",
    "\n",
    "    q = [xp.var(f\"q_{i}\",lb = float('-inf'), ub =  float('inf')) for i in range(H+1)]\n",
    "    model.addVariable (q)               # Level of stock at each hour\n",
    "\n",
    "    # CONTROLS\n",
    "    # Battery (<0 : pompage)\n",
    "    r = [xp.var(f\"r_{i}\",lb = -reservoir.P_pump[7*s]*reservoir.efficiency, ub =  reservoir.P_turb[7*s]) for i in range(H)]\n",
    "\n",
    "    model.addVariable (r)           # Charge and discharge control for the battery: r<0 means charge \n",
    "    R = xp.var()\n",
    "    model.addVariable(R)                         \n",
    "\n",
    "    z = xp.var(\"z\",lb = float('-inf'), ub =  float('inf'))\n",
    "\n",
    "    model.addVariable (z) # Auxiliar variable to introduce the piecewise representation of the future cost\n",
    "    y = xp.var(\"y\")\n",
    "\n",
    "    model.addVariable (y)    # Penality for violating guide curves\n",
    "\n",
    "\n",
    "    # Battery dynamics\n",
    "    model.addConstraint(q[0] == x_s)                           # State of the current week equal to the initial stock of the reservoir for the week\n",
    "    model.addConstraint(q[H] == x_s_1)                          # State of the following week equal to the resulting level of stock for begining of the following week\n",
    "\n",
    "    for h in range(H):\n",
    "        model.addConstraint(q[h+1] == q[h] - r[h] + reservoir.inflow[s,k])               # Stock evolution equation\n",
    "    model.addConstraint(R == xp.Sum([r[h] for h in range(H)]))\n",
    "    \n",
    "    model.addConstraint(y >=  -pen_low* (x_s_1 - reservoir.Xmin[s]))\n",
    "    model.addConstraint(y >=  pen_high* (x_s_1 - reservoir.Xmax[s]))\n",
    "\n",
    "    cst = model.getConstraint()\n",
    "    binding_id = [i for i in range(len(cst)) if \"WeeklyWaterAmount\" in cst[i].name]\n",
    "\n",
    "    model.chgmcoef(binding_id,[R],[-1])\n",
    "    model.chgrhs(binding_id,[0])\n",
    "\n",
    "    model.chgobj([y,z], [1,1])\n",
    "    return([model,z,x_s,x_s_1])\n",
    "    "
   ]
  },
  {
   "cell_type": "code",
   "execution_count": 101,
   "metadata": {},
   "outputs": [],
   "source": [
    "def modify_weekly_problem(model,z,x_s,x_s_1,V,x0,s):\n",
    "    # Future cost: piecewise representation of the future cost\n",
    "    if s <= S-2:\n",
    "        idx = s+1\n",
    "    else :\n",
    "        idx = s+1\n",
    "    for i in range(len(V)):\n",
    "        model.addConstraint(z >= V[i][idx, 0] * x_s_1 + V[i][idx, 1])\n",
    "\n",
    "    cst_initial_level = x_s == x0\n",
    "    model.addConstraint(cst_initial_level)\n",
    "    model.lpoptimize()\n",
    "\n",
    "    beta = model.getObjVal()\n",
    "    lamb = model.getDual(cst_initial_level)\n",
    "    xf = model.getSolution(x_s_1)\n",
    "    return(beta,lamb,xf,model.attributes.SIMPLEXITER)"
   ]
  },
  {
   "cell_type": "code",
   "execution_count": 102,
   "metadata": {},
   "outputs": [],
   "source": [
    "pen_low = 10000\n",
    "pen_high = 0"
   ]
  },
  {
   "cell_type": "code",
   "execution_count": 103,
   "metadata": {},
   "outputs": [],
   "source": [
    "reservoir = Reservoir(5530000,1,study_path,\"fi00\",\"reservoir\")"
   ]
  },
  {
   "cell_type": "code",
   "execution_count": null,
   "metadata": {},
   "outputs": [],
   "source": [
    "def SDDP(reservoir:Reservoir, output_path, pen_low, pen_high, N):\n",
    "    V = [np.zeros((S+1,2))]\n",
    "    \n",
    "    list_models = []\n",
    "    for s in range(S):\n",
    "        m = create_weekly_problem(k=0,s=s,pen_low=pen_low,pen_high=pen_high,output_path=output_path,reservoir=reservoir)\n",
    "        list_models.append(m)\n",
    "    for j in range(N):\n",
    "        x0 = reservoir.initial_level\n",
    "        Vj = np.zeros((S+1,2))\n",
    "        for s in range(S):\n",
    "            print(s,end=\"\\r\")\n",
    "            m = list_models[s]\n",
    "            beta,lamb,xf,itr = modify_weekly_problem(model=m[0],z=m[1],x_s=m[2],x_s_1=m[3],V=V,x0=x0,s=s)\n",
    "            Vj[s,0] = lamb\n",
    "            Vj[s,1] = beta - lamb*x0\n",
    "            x0 = xf\n",
    "        V.append(Vj)\n",
    "    return (V)"
   ]
  },
  {
   "cell_type": "code",
   "execution_count": 132,
   "metadata": {},
   "outputs": [
    {
     "name": "stdout",
     "output_type": "stream",
     "text": [
      "3\r"
     ]
    },
    {
     "ename": "KeyboardInterrupt",
     "evalue": "",
     "output_type": "error",
     "traceback": [
      "\u001b[1;31m---------------------------------------------------------------------------\u001b[0m",
      "\u001b[1;31mKeyboardInterrupt\u001b[0m                         Traceback (most recent call last)",
      "\u001b[1;32md:\\Users\\gerbauxjul\\Documents\\4-Code\\Python\\sddp.ipynb Cell 13\u001b[0m line \u001b[0;36m1\n\u001b[1;32m----> <a href='vscode-notebook-cell:/d%3A/Users/gerbauxjul/Documents/4-Code/Python/sddp.ipynb#Y136sZmlsZQ%3D%3D?line=0'>1</a>\u001b[0m vb \u001b[39m=\u001b[39m SDDP(reservoir, study_path\u001b[39m+\u001b[39;49m\u001b[39m\"\u001b[39;49m\u001b[39m/user/fast_fi00\u001b[39;49m\u001b[39m\"\u001b[39;49m, pen_low, pen_high, \u001b[39m10\u001b[39;49m)\n",
      "\u001b[1;32md:\\Users\\gerbauxjul\\Documents\\4-Code\\Python\\sddp.ipynb Cell 13\u001b[0m line \u001b[0;36m1\n\u001b[0;32m     <a href='vscode-notebook-cell:/d%3A/Users/gerbauxjul/Documents/4-Code/Python/sddp.ipynb#Y136sZmlsZQ%3D%3D?line=11'>12</a>\u001b[0m \u001b[39mprint\u001b[39m(s,end\u001b[39m=\u001b[39m\u001b[39m\"\u001b[39m\u001b[39m\\r\u001b[39;00m\u001b[39m\"\u001b[39m)\n\u001b[0;32m     <a href='vscode-notebook-cell:/d%3A/Users/gerbauxjul/Documents/4-Code/Python/sddp.ipynb#Y136sZmlsZQ%3D%3D?line=12'>13</a>\u001b[0m m \u001b[39m=\u001b[39m list_models[s]\n\u001b[1;32m---> <a href='vscode-notebook-cell:/d%3A/Users/gerbauxjul/Documents/4-Code/Python/sddp.ipynb#Y136sZmlsZQ%3D%3D?line=13'>14</a>\u001b[0m beta,lamb,xf,itr \u001b[39m=\u001b[39m modify_weekly_problem(model\u001b[39m=\u001b[39;49mm[\u001b[39m0\u001b[39;49m],z\u001b[39m=\u001b[39;49mm[\u001b[39m1\u001b[39;49m],x_s\u001b[39m=\u001b[39;49mm[\u001b[39m2\u001b[39;49m],x_s_1\u001b[39m=\u001b[39;49mm[\u001b[39m3\u001b[39;49m],V\u001b[39m=\u001b[39;49mV,x0\u001b[39m=\u001b[39;49mx0,s\u001b[39m=\u001b[39;49ms)\n\u001b[0;32m     <a href='vscode-notebook-cell:/d%3A/Users/gerbauxjul/Documents/4-Code/Python/sddp.ipynb#Y136sZmlsZQ%3D%3D?line=14'>15</a>\u001b[0m Vj[s,\u001b[39m0\u001b[39m] \u001b[39m=\u001b[39m lamb\n\u001b[0;32m     <a href='vscode-notebook-cell:/d%3A/Users/gerbauxjul/Documents/4-Code/Python/sddp.ipynb#Y136sZmlsZQ%3D%3D?line=15'>16</a>\u001b[0m Vj[s,\u001b[39m1\u001b[39m] \u001b[39m=\u001b[39m beta \u001b[39m-\u001b[39m lamb\u001b[39m*\u001b[39mx0\n",
      "\u001b[1;32md:\\Users\\gerbauxjul\\Documents\\4-Code\\Python\\sddp.ipynb Cell 13\u001b[0m line \u001b[0;36m1\n\u001b[0;32m     <a href='vscode-notebook-cell:/d%3A/Users/gerbauxjul/Documents/4-Code/Python/sddp.ipynb#Y136sZmlsZQ%3D%3D?line=9'>10</a>\u001b[0m cst_initial_level \u001b[39m=\u001b[39m x_s \u001b[39m==\u001b[39m x0\n\u001b[0;32m     <a href='vscode-notebook-cell:/d%3A/Users/gerbauxjul/Documents/4-Code/Python/sddp.ipynb#Y136sZmlsZQ%3D%3D?line=10'>11</a>\u001b[0m model\u001b[39m.\u001b[39maddConstraint(cst_initial_level)\n\u001b[1;32m---> <a href='vscode-notebook-cell:/d%3A/Users/gerbauxjul/Documents/4-Code/Python/sddp.ipynb#Y136sZmlsZQ%3D%3D?line=11'>12</a>\u001b[0m model\u001b[39m.\u001b[39;49mlpoptimize()\n\u001b[0;32m     <a href='vscode-notebook-cell:/d%3A/Users/gerbauxjul/Documents/4-Code/Python/sddp.ipynb#Y136sZmlsZQ%3D%3D?line=13'>14</a>\u001b[0m beta \u001b[39m=\u001b[39m model\u001b[39m.\u001b[39mgetObjVal()\n\u001b[0;32m     <a href='vscode-notebook-cell:/d%3A/Users/gerbauxjul/Documents/4-Code/Python/sddp.ipynb#Y136sZmlsZQ%3D%3D?line=14'>15</a>\u001b[0m lamb \u001b[39m=\u001b[39m model\u001b[39m.\u001b[39mgetDual(cst_initial_level)\n",
      "\u001b[1;31mKeyboardInterrupt\u001b[0m: "
     ]
    }
   ],
   "source": [
    "vb = SDDP(reservoir, study_path+\"/user/fast_fi00\", pen_low, pen_high, 10)"
   ]
  },
  {
   "cell_type": "code",
   "execution_count": 125,
   "metadata": {},
   "outputs": [],
   "source": [
    "s = 0\n",
    "xNsteps = 20\n",
    "X = np.linspace(0, reservoir.capacity, num = xNsteps)"
   ]
  },
  {
   "cell_type": "code",
   "execution_count": 126,
   "metadata": {},
   "outputs": [],
   "source": [
    "penalties = np.zeros((xNsteps, S+1))\n",
    "for s in range(S+1):\n",
    "    pen = interp1d([0,reservoir.Xmin[s],reservoir.Xmax[s],reservoir.capacity],[-pen_low*(reservoir.Xmin[s]),0,0,-pen_high*(reservoir.capacity-reservoir.Xmax[s])])\n",
    "    for i in range(xNsteps):\n",
    "        penalties[i,s] = pen(X[i])"
   ]
  },
  {
   "cell_type": "code",
   "execution_count": 130,
   "metadata": {},
   "outputs": [
    {
     "data": {
      "text/plain": [
       "[array([0., 0.]),\n",
       " array([0., 0.]),\n",
       " array([0., 0.]),\n",
       " array([0., 0.]),\n",
       " array([0., 0.]),\n",
       " array([0., 0.]),\n",
       " array([0., 0.]),\n",
       " array([0., 0.]),\n",
       " array([0., 0.]),\n",
       " array([0., 0.]),\n",
       " array([0., 0.])]"
      ]
     },
     "execution_count": 130,
     "metadata": {},
     "output_type": "execute_result"
    }
   ],
   "source": [
    "[vb[i][s,:] for i in range(len(vb))]"
   ]
  },
  {
   "cell_type": "code",
   "execution_count": 128,
   "metadata": {},
   "outputs": [],
   "source": [
    "i = np.argmax([X>=reservoir.Xmin[s]])\n",
    "j = np.argmin([X<=reservoir.Xmax[s]])"
   ]
  },
  {
   "cell_type": "code",
   "execution_count": 129,
   "metadata": {},
   "outputs": [
    {
     "data": {
      "text/plain": [
       "<matplotlib.legend.Legend at 0x26f818281f0>"
      ]
     },
     "execution_count": 129,
     "metadata": {},
     "output_type": "execute_result"
    },
    {
     "data": {
      "application/vnd.jupyter.widget-view+json": {
       "model_id": "310c701efb8c42af9ef06576f4aee401",
       "version_major": 2,
       "version_minor": 0
      },
      "image/png": "[encoded data removed]",
      "text/html": [
       "\n",
       "            <div style=\"display: inline-block;\">\n",
       "                <div class=\"jupyter-widgets widget-label\" style=\"text-align: center;\">\n",
       "                    Figure\n",
       "                </div>\n",
       "                <img src='data:image/png;base64,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' width=640.0/>\n",
       "            </div>\n",
       "        "
      ],
      "text/plain": [
       "Canvas(toolbar=Toolbar(toolitems=[('Home', 'Reset original view', 'home', 'home'), ('Back', 'Back to previous …"
      ]
     },
     "metadata": {},
     "output_type": "display_data"
    }
   ],
   "source": [
    "plt.figure()\n",
    "for k in range(len(vb)):\n",
    "    V = vb[k][s,0]*X+vb[k][s,1]\n",
    "    plt.plot(X[i:j],V[i:j]+penalties[i:j,s],label=f\"{k}\")\n",
    "plt.legend()"
   ]
  },
  {
   "cell_type": "code",
   "execution_count": null,
   "metadata": {},
   "outputs": [],
   "source": []
  }
 ],
 "metadata": {
  "kernelspec": {
   "display_name": ".venv",
   "language": "python",
   "name": "python3"
  },
  "language_info": {
   "codemirror_mode": {
    "name": "ipython",
    "version": 3
   },
   "file_extension": ".py",
   "mimetype": "text/x-python",
   "name": "python",
   "nbconvert_exporter": "python",
   "pygments_lexer": "ipython3",
   "version": "3.9.0"
  }
 },
 "nbformat": 4,
 "nbformat_minor": 2
}
