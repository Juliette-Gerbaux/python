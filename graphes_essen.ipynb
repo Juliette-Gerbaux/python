{
 "cells": [
  {
   "cell_type": "code",
   "execution_count": 19,
   "metadata": {},
   "outputs": [],
   "source": [
    "import seaborn as sns\n",
    "import pandas as pd\n",
    "sns.set_style(\"whitegrid\")\n",
    "sns.set_context(\"notebook\")\n",
    "import pyreadr"
   ]
  },
  {
   "cell_type": "code",
   "execution_count": 14,
   "metadata": {},
   "outputs": [],
   "source": [
    "dir_path = \"Z:/JulietteG/6-Etutes_Antares/ERAA_sim/user/\""
   ]
  },
  {
   "cell_type": "code",
   "execution_count": 15,
   "metadata": {},
   "outputs": [],
   "source": [
    "area = \"2_at00_hydro_open\""
   ]
  },
  {
   "cell_type": "markdown",
   "metadata": {},
   "source": [
    "# Gain"
   ]
  },
  {
   "cell_type": "code",
   "execution_count": 47,
   "metadata": {},
   "outputs": [],
   "source": [
    "reward = pyreadr.read_r(dir_path+\"reward_\"+area+\".RData\")[\"df_vu\"]"
   ]
  },
  {
   "cell_type": "code",
   "execution_count": 48,
   "metadata": {},
   "outputs": [],
   "source": [
    "reward[\"Simulations\"] = reward[\"method\"].apply(lambda x:int(x.split(\"sim_\")[0]))\n",
    "reward[\"Interpolation\"] = reward[\"method\"].apply(lambda x:\"Basic\" if x.split(\"sim_\")[1]==\"old\" else \"Marginal prices\")\n",
    "reward.rename(columns={'mcYear': 'Scenario', 'timeId': 'Week', 'reward':'Reward','control':\"Control\"}, inplace=True)\n",
    "reward.sort_values(by=[\"Scenario\",\"Week\",\"Simulations\"],inplace=True)\n",
    "reward[\"Simulations\"] = reward[\"Simulations\"].apply(lambda x:str(x))"
   ]
  },
  {
   "cell_type": "code",
   "execution_count": 49,
   "metadata": {},
   "outputs": [
    {
     "data": {
      "text/html": [
       "<div>\n",
       "<style scoped>\n",
       "    .dataframe tbody tr th:only-of-type {\n",
       "        vertical-align: middle;\n",
       "    }\n",
       "\n",
       "    .dataframe tbody tr th {\n",
       "        vertical-align: top;\n",
       "    }\n",
       "\n",
       "    .dataframe thead th {\n",
       "        text-align: right;\n",
       "    }\n",
       "</style>\n",
       "<table border=\"1\" class=\"dataframe\">\n",
       "  <thead>\n",
       "    <tr style=\"text-align: right;\">\n",
       "      <th></th>\n",
       "      <th>Scenario</th>\n",
       "      <th>Week</th>\n",
       "      <th>Reward</th>\n",
       "      <th>Control</th>\n",
       "      <th>method</th>\n",
       "      <th>Simulations</th>\n",
       "      <th>Interpolation</th>\n",
       "    </tr>\n",
       "  </thead>\n",
       "  <tbody>\n",
       "    <tr>\n",
       "      <th>38480</th>\n",
       "      <td>1</td>\n",
       "      <td>1.0</td>\n",
       "      <td>-4.121111e+07</td>\n",
       "      <td>-322182.0</td>\n",
       "      <td>1sim_new</td>\n",
       "      <td>1</td>\n",
       "      <td>Marginal prices</td>\n",
       "    </tr>\n",
       "    <tr>\n",
       "      <th>38481</th>\n",
       "      <td>1</td>\n",
       "      <td>1.0</td>\n",
       "      <td>-3.896248e+07</td>\n",
       "      <td>-307537.0</td>\n",
       "      <td>1sim_new</td>\n",
       "      <td>1</td>\n",
       "      <td>Marginal prices</td>\n",
       "    </tr>\n",
       "    <tr>\n",
       "      <th>38482</th>\n",
       "      <td>1</td>\n",
       "      <td>1.0</td>\n",
       "      <td>-3.671488e+07</td>\n",
       "      <td>-292893.0</td>\n",
       "      <td>1sim_new</td>\n",
       "      <td>1</td>\n",
       "      <td>Marginal prices</td>\n",
       "    </tr>\n",
       "    <tr>\n",
       "      <th>38483</th>\n",
       "      <td>1</td>\n",
       "      <td>1.0</td>\n",
       "      <td>-3.448562e+07</td>\n",
       "      <td>-278248.0</td>\n",
       "      <td>1sim_new</td>\n",
       "      <td>1</td>\n",
       "      <td>Marginal prices</td>\n",
       "    </tr>\n",
       "    <tr>\n",
       "      <th>38484</th>\n",
       "      <td>1</td>\n",
       "      <td>1.0</td>\n",
       "      <td>-3.228361e+07</td>\n",
       "      <td>-263603.0</td>\n",
       "      <td>1sim_new</td>\n",
       "      <td>1</td>\n",
       "      <td>Marginal prices</td>\n",
       "    </tr>\n",
       "    <tr>\n",
       "      <th>...</th>\n",
       "      <td>...</td>\n",
       "      <td>...</td>\n",
       "      <td>...</td>\n",
       "      <td>...</td>\n",
       "      <td>...</td>\n",
       "      <td>...</td>\n",
       "      <td>...</td>\n",
       "    </tr>\n",
       "    <tr>\n",
       "      <th>10395</th>\n",
       "      <td>10</td>\n",
       "      <td>52.0</td>\n",
       "      <td>2.402907e+07</td>\n",
       "      <td>267059.0</td>\n",
       "      <td>20sim_old</td>\n",
       "      <td>20</td>\n",
       "      <td>Basic</td>\n",
       "    </tr>\n",
       "    <tr>\n",
       "      <th>10396</th>\n",
       "      <td>10</td>\n",
       "      <td>52.0</td>\n",
       "      <td>2.415957e+07</td>\n",
       "      <td>305210.0</td>\n",
       "      <td>20sim_old</td>\n",
       "      <td>20</td>\n",
       "      <td>Basic</td>\n",
       "    </tr>\n",
       "    <tr>\n",
       "      <th>10397</th>\n",
       "      <td>10</td>\n",
       "      <td>52.0</td>\n",
       "      <td>2.416016e+07</td>\n",
       "      <td>343361.0</td>\n",
       "      <td>20sim_old</td>\n",
       "      <td>20</td>\n",
       "      <td>Basic</td>\n",
       "    </tr>\n",
       "    <tr>\n",
       "      <th>10398</th>\n",
       "      <td>10</td>\n",
       "      <td>52.0</td>\n",
       "      <td>2.416046e+07</td>\n",
       "      <td>381513.0</td>\n",
       "      <td>20sim_old</td>\n",
       "      <td>20</td>\n",
       "      <td>Basic</td>\n",
       "    </tr>\n",
       "    <tr>\n",
       "      <th>10399</th>\n",
       "      <td>10</td>\n",
       "      <td>52.0</td>\n",
       "      <td>2.416091e+07</td>\n",
       "      <td>419664.0</td>\n",
       "      <td>20sim_old</td>\n",
       "      <td>20</td>\n",
       "      <td>Basic</td>\n",
       "    </tr>\n",
       "  </tbody>\n",
       "</table>\n",
       "<p>65000 rows × 7 columns</p>\n",
       "</div>"
      ],
      "text/plain": [
       "       Scenario  Week        Reward   Control     method Simulations  \\\n",
       "38480         1   1.0 -4.121111e+07 -322182.0   1sim_new           1   \n",
       "38481         1   1.0 -3.896248e+07 -307537.0   1sim_new           1   \n",
       "38482         1   1.0 -3.671488e+07 -292893.0   1sim_new           1   \n",
       "38483         1   1.0 -3.448562e+07 -278248.0   1sim_new           1   \n",
       "38484         1   1.0 -3.228361e+07 -263603.0   1sim_new           1   \n",
       "...         ...   ...           ...       ...        ...         ...   \n",
       "10395        10  52.0  2.402907e+07  267059.0  20sim_old          20   \n",
       "10396        10  52.0  2.415957e+07  305210.0  20sim_old          20   \n",
       "10397        10  52.0  2.416016e+07  343361.0  20sim_old          20   \n",
       "10398        10  52.0  2.416046e+07  381513.0  20sim_old          20   \n",
       "10399        10  52.0  2.416091e+07  419664.0  20sim_old          20   \n",
       "\n",
       "         Interpolation  \n",
       "38480  Marginal prices  \n",
       "38481  Marginal prices  \n",
       "38482  Marginal prices  \n",
       "38483  Marginal prices  \n",
       "38484  Marginal prices  \n",
       "...                ...  \n",
       "10395            Basic  \n",
       "10396            Basic  \n",
       "10397            Basic  \n",
       "10398            Basic  \n",
       "10399            Basic  \n",
       "\n",
       "[65000 rows x 7 columns]"
      ]
     },
     "execution_count": 49,
     "metadata": {},
     "output_type": "execute_result"
    }
   ],
   "source": [
    "reward"
   ]
  },
  {
   "cell_type": "code",
   "execution_count": 56,
   "metadata": {},
   "outputs": [
    {
     "data": {
      "text/plain": [
       "<seaborn.axisgrid.FacetGrid at 0x1ece56f0ca0>"
      ]
     },
     "execution_count": 56,
     "metadata": {},
     "output_type": "execute_result"
    },
    {
     "data": {
      "image/png": "[encoded data removed]",
      "text/plain": [
       "<Figure size 658.75x500 with 1 Axes>"
      ]
     },
     "metadata": {},
     "output_type": "display_data"
    }
   ],
   "source": [
    "sns.relplot(kind=\"line\",x=\"Control\",y=\"Reward\",data=reward[(reward.Week>=9)&(reward.Week<=9)&(reward.Scenario==1)],hue=\"Simulations\",style=\"Interpolation\",style_order=[\"Basic\",\"Marginal prices\"])"
   ]
  },
  {
   "cell_type": "markdown",
   "metadata": {},
   "source": [
    "# Vu"
   ]
  },
  {
   "cell_type": "code",
   "execution_count": 75,
   "metadata": {},
   "outputs": [],
   "source": [
    "vu = pyreadr.read_r(dir_path+\"vu_\"+area+\".RData\")[\"df_vu\"]\n",
    "vu.drop(columns=[\"statesid\",\"value_node\",\"level_low\",\"level_high\",\"value_node_dif\",\"states_dif\",\"vu_pen\"],inplace=True)\n",
    "vu_simple = pyreadr.read_r(dir_path+\"vu_simple_\"+area+\".RData\")['watervalues']\n",
    "vu_simple.drop(columns=[\"statesid\",\"level_low\",\"level_high\",\"mean\",\"std\",\"vu_pen\"],inplace=True)\n",
    "vu_simple[\"method\"] = \"simple\"\n",
    "vu = pd.concat([vu,vu_simple])"
   ]
  },
  {
   "cell_type": "code",
   "execution_count": 93,
   "metadata": {},
   "outputs": [],
   "source": [
    "vu[\"Simulations\"] = vu[\"method\"].apply(lambda x:int(x.split(\"sim_\")[0]) if x!=\"simple\" else 1)\n",
    "vu[\"Interpolation\"] = vu[\"method\"].apply(lambda x:\"No DP\" if x==\"simple\" else (\"Basic\" if x.split(\"sim_\")[1]==\"old\" else \"Marginal prices\"))\n",
    "vu.rename(columns={'weeks': 'Week', 'vu':'Watervalue','states':\"Level\"}, inplace=True)\n",
    "vu.sort_values(by=[\"Week\",\"Simulations\"],inplace=True)\n",
    "vu[\"Simulations\"] = vu[\"Simulations\"].apply(lambda x:str(x))\n",
    "vu[\"Level\"] = vu[\"Level\"]/max(vu[\"Level\"])*100"
   ]
  },
  {
   "cell_type": "code",
   "execution_count": 94,
   "metadata": {},
   "outputs": [
    {
     "data": {
      "text/plain": [
       "<seaborn.axisgrid.FacetGrid at 0x1ecf0596400>"
      ]
     },
     "execution_count": 94,
     "metadata": {},
     "output_type": "execute_result"
    },
    {
     "data": {
      "image/png": "[encoded data removed]",
      "text/plain": [
       "<Figure size 658.75x500 with 1 Axes>"
      ]
     },
     "metadata": {},
     "output_type": "display_data"
    }
   ],
   "source": [
    "sns.relplot(kind=\"line\",x=\"Level\",y=\"Watervalue\",data=vu[(vu.Week>=3)&(vu.Week<=3)].dropna(),hue=\"Simulations\",style=\"Interpolation\",style_order=[\"Basic\",\"Marginal prices\",\"No DP\"])"
   ]
  },
  {
   "cell_type": "markdown",
   "metadata": {},
   "source": [
    "# Test en simulation"
   ]
  },
  {
   "cell_type": "code",
   "execution_count": 140,
   "metadata": {},
   "outputs": [],
   "source": [
    "result = pd.read_excel(dir_path+\"coûts_\"+area+\".xlsx\")"
   ]
  },
  {
   "cell_type": "code",
   "execution_count": 141,
   "metadata": {},
   "outputs": [],
   "source": [
    "result[\"method\"] = result[\"name\"].apply(lambda x:x.split(area+\"_\")[1])\n",
    "result[\"Simulations\"] = result[\"method\"].apply(lambda x:int(x.split(\"sim_\")[0]) if x!=\"simple\" else 1)\n",
    "result[\"Interpolation\"] = result[\"method\"].apply(lambda x:\"No DP\" if x==\"simple\" else (\"Basic\" if x.split(\"sim_\")[1]==\"old\" else \"Marginal prices\"))\n",
    "result.rename(columns={'mcYear': 'Scenario', 'ov_cost':'Cost'}, inplace=True)\n",
    "result[\"Simulations\"] = result[\"Simulations\"].apply(lambda x:str(x))\n",
    "result.drop(columns=[\"name\",\"unsp_cost\"],inplace=True)"
   ]
  },
  {
   "cell_type": "code",
   "execution_count": 142,
   "metadata": {},
   "outputs": [
    {
     "data": {
      "text/html": [
       "<div>\n",
       "<style scoped>\n",
       "    .dataframe tbody tr th:only-of-type {\n",
       "        vertical-align: middle;\n",
       "    }\n",
       "\n",
       "    .dataframe tbody tr th {\n",
       "        vertical-align: top;\n",
       "    }\n",
       "\n",
       "    .dataframe thead th {\n",
       "        text-align: right;\n",
       "    }\n",
       "</style>\n",
       "<table border=\"1\" class=\"dataframe\">\n",
       "  <thead>\n",
       "    <tr style=\"text-align: right;\">\n",
       "      <th></th>\n",
       "      <th>Scenario</th>\n",
       "      <th>Cost</th>\n",
       "      <th>method</th>\n",
       "      <th>Simulations</th>\n",
       "      <th>Interpolation</th>\n",
       "    </tr>\n",
       "  </thead>\n",
       "  <tbody>\n",
       "    <tr>\n",
       "      <th>0</th>\n",
       "      <td>1</td>\n",
       "      <td>199661392995</td>\n",
       "      <td>1sim_new</td>\n",
       "      <td>1</td>\n",
       "      <td>Marginal prices</td>\n",
       "    </tr>\n",
       "    <tr>\n",
       "      <th>1</th>\n",
       "      <td>2</td>\n",
       "      <td>192581071139</td>\n",
       "      <td>1sim_new</td>\n",
       "      <td>1</td>\n",
       "      <td>Marginal prices</td>\n",
       "    </tr>\n",
       "    <tr>\n",
       "      <th>2</th>\n",
       "      <td>3</td>\n",
       "      <td>194611698878</td>\n",
       "      <td>1sim_new</td>\n",
       "      <td>1</td>\n",
       "      <td>Marginal prices</td>\n",
       "    </tr>\n",
       "    <tr>\n",
       "      <th>3</th>\n",
       "      <td>4</td>\n",
       "      <td>242798242681</td>\n",
       "      <td>1sim_new</td>\n",
       "      <td>1</td>\n",
       "      <td>Marginal prices</td>\n",
       "    </tr>\n",
       "    <tr>\n",
       "      <th>4</th>\n",
       "      <td>5</td>\n",
       "      <td>206718059000</td>\n",
       "      <td>1sim_new</td>\n",
       "      <td>1</td>\n",
       "      <td>Marginal prices</td>\n",
       "    </tr>\n",
       "    <tr>\n",
       "      <th>5</th>\n",
       "      <td>6</td>\n",
       "      <td>220133255462</td>\n",
       "      <td>1sim_new</td>\n",
       "      <td>1</td>\n",
       "      <td>Marginal prices</td>\n",
       "    </tr>\n",
       "    <tr>\n",
       "      <th>6</th>\n",
       "      <td>7</td>\n",
       "      <td>190915410615</td>\n",
       "      <td>1sim_new</td>\n",
       "      <td>1</td>\n",
       "      <td>Marginal prices</td>\n",
       "    </tr>\n",
       "    <tr>\n",
       "      <th>7</th>\n",
       "      <td>8</td>\n",
       "      <td>199851386882</td>\n",
       "      <td>1sim_new</td>\n",
       "      <td>1</td>\n",
       "      <td>Marginal prices</td>\n",
       "    </tr>\n",
       "    <tr>\n",
       "      <th>8</th>\n",
       "      <td>9</td>\n",
       "      <td>197090919960</td>\n",
       "      <td>1sim_new</td>\n",
       "      <td>1</td>\n",
       "      <td>Marginal prices</td>\n",
       "    </tr>\n",
       "    <tr>\n",
       "      <th>9</th>\n",
       "      <td>10</td>\n",
       "      <td>207521566185</td>\n",
       "      <td>1sim_new</td>\n",
       "      <td>1</td>\n",
       "      <td>Marginal prices</td>\n",
       "    </tr>\n",
       "  </tbody>\n",
       "</table>\n",
       "</div>"
      ],
      "text/plain": [
       "   Scenario          Cost    method Simulations    Interpolation\n",
       "0         1  199661392995  1sim_new           1  Marginal prices\n",
       "1         2  192581071139  1sim_new           1  Marginal prices\n",
       "2         3  194611698878  1sim_new           1  Marginal prices\n",
       "3         4  242798242681  1sim_new           1  Marginal prices\n",
       "4         5  206718059000  1sim_new           1  Marginal prices\n",
       "5         6  220133255462  1sim_new           1  Marginal prices\n",
       "6         7  190915410615  1sim_new           1  Marginal prices\n",
       "7         8  199851386882  1sim_new           1  Marginal prices\n",
       "8         9  197090919960  1sim_new           1  Marginal prices\n",
       "9        10  207521566185  1sim_new           1  Marginal prices"
      ]
     },
     "execution_count": 142,
     "metadata": {},
     "output_type": "execute_result"
    }
   ],
   "source": [
    "result.head(10)"
   ]
  },
  {
   "cell_type": "code",
   "execution_count": 151,
   "metadata": {},
   "outputs": [],
   "source": [
    "result_0 = result.loc[result.method==\"simple\",[\"Scenario\",\"Cost\"]]\n",
    "result_0.rename(columns={'Cost':'Cost_0'},inplace=True)\n",
    "result_gap = result.merge(result_0,on=[\"Scenario\"])\n",
    "result_gap[\"Gap cost\"] = (result_gap[\"Cost\"] -result_gap[\"Cost_0\"])/result_gap[\"Cost_0\"]*100"
   ]
  },
  {
   "cell_type": "code",
   "execution_count": 152,
   "metadata": {},
   "outputs": [
    {
     "data": {
      "text/html": [
       "<div>\n",
       "<style scoped>\n",
       "    .dataframe tbody tr th:only-of-type {\n",
       "        vertical-align: middle;\n",
       "    }\n",
       "\n",
       "    .dataframe tbody tr th {\n",
       "        vertical-align: top;\n",
       "    }\n",
       "\n",
       "    .dataframe thead th {\n",
       "        text-align: right;\n",
       "    }\n",
       "</style>\n",
       "<table border=\"1\" class=\"dataframe\">\n",
       "  <thead>\n",
       "    <tr style=\"text-align: right;\">\n",
       "      <th></th>\n",
       "      <th>Scenario</th>\n",
       "      <th>Cost</th>\n",
       "      <th>method</th>\n",
       "      <th>Simulations</th>\n",
       "      <th>Interpolation</th>\n",
       "      <th>Cost_0</th>\n",
       "      <th>Gap cost</th>\n",
       "    </tr>\n",
       "  </thead>\n",
       "  <tbody>\n",
       "    <tr>\n",
       "      <th>0</th>\n",
       "      <td>1</td>\n",
       "      <td>199661392995</td>\n",
       "      <td>1sim_new</td>\n",
       "      <td>1</td>\n",
       "      <td>Marginal prices</td>\n",
       "      <td>199606160151</td>\n",
       "      <td>0.027671</td>\n",
       "    </tr>\n",
       "    <tr>\n",
       "      <th>1</th>\n",
       "      <td>1</td>\n",
       "      <td>199650293033</td>\n",
       "      <td>20sim_old</td>\n",
       "      <td>20</td>\n",
       "      <td>Basic</td>\n",
       "      <td>199606160151</td>\n",
       "      <td>0.022110</td>\n",
       "    </tr>\n",
       "    <tr>\n",
       "      <th>2</th>\n",
       "      <td>1</td>\n",
       "      <td>199658925683</td>\n",
       "      <td>3sim_new</td>\n",
       "      <td>3</td>\n",
       "      <td>Marginal prices</td>\n",
       "      <td>199606160151</td>\n",
       "      <td>0.026435</td>\n",
       "    </tr>\n",
       "    <tr>\n",
       "      <th>3</th>\n",
       "      <td>1</td>\n",
       "      <td>199658809047</td>\n",
       "      <td>3sim_old</td>\n",
       "      <td>3</td>\n",
       "      <td>Basic</td>\n",
       "      <td>199606160151</td>\n",
       "      <td>0.026376</td>\n",
       "    </tr>\n",
       "    <tr>\n",
       "      <th>4</th>\n",
       "      <td>1</td>\n",
       "      <td>199606160151</td>\n",
       "      <td>simple</td>\n",
       "      <td>1</td>\n",
       "      <td>No DP</td>\n",
       "      <td>199606160151</td>\n",
       "      <td>0.000000</td>\n",
       "    </tr>\n",
       "    <tr>\n",
       "      <th>5</th>\n",
       "      <td>2</td>\n",
       "      <td>192581071139</td>\n",
       "      <td>1sim_new</td>\n",
       "      <td>1</td>\n",
       "      <td>Marginal prices</td>\n",
       "      <td>192696136623</td>\n",
       "      <td>-0.059713</td>\n",
       "    </tr>\n",
       "    <tr>\n",
       "      <th>6</th>\n",
       "      <td>2</td>\n",
       "      <td>192582004144</td>\n",
       "      <td>20sim_old</td>\n",
       "      <td>20</td>\n",
       "      <td>Basic</td>\n",
       "      <td>192696136623</td>\n",
       "      <td>-0.059229</td>\n",
       "    </tr>\n",
       "    <tr>\n",
       "      <th>7</th>\n",
       "      <td>2</td>\n",
       "      <td>192578214665</td>\n",
       "      <td>3sim_new</td>\n",
       "      <td>3</td>\n",
       "      <td>Marginal prices</td>\n",
       "      <td>192696136623</td>\n",
       "      <td>-0.061196</td>\n",
       "    </tr>\n",
       "    <tr>\n",
       "      <th>8</th>\n",
       "      <td>2</td>\n",
       "      <td>192577769777</td>\n",
       "      <td>3sim_old</td>\n",
       "      <td>3</td>\n",
       "      <td>Basic</td>\n",
       "      <td>192696136623</td>\n",
       "      <td>-0.061427</td>\n",
       "    </tr>\n",
       "    <tr>\n",
       "      <th>9</th>\n",
       "      <td>2</td>\n",
       "      <td>192696136623</td>\n",
       "      <td>simple</td>\n",
       "      <td>1</td>\n",
       "      <td>No DP</td>\n",
       "      <td>192696136623</td>\n",
       "      <td>0.000000</td>\n",
       "    </tr>\n",
       "  </tbody>\n",
       "</table>\n",
       "</div>"
      ],
      "text/plain": [
       "   Scenario          Cost     method Simulations    Interpolation  \\\n",
       "0         1  199661392995   1sim_new           1  Marginal prices   \n",
       "1         1  199650293033  20sim_old          20            Basic   \n",
       "2         1  199658925683   3sim_new           3  Marginal prices   \n",
       "3         1  199658809047   3sim_old           3            Basic   \n",
       "4         1  199606160151     simple           1            No DP   \n",
       "5         2  192581071139   1sim_new           1  Marginal prices   \n",
       "6         2  192582004144  20sim_old          20            Basic   \n",
       "7         2  192578214665   3sim_new           3  Marginal prices   \n",
       "8         2  192577769777   3sim_old           3            Basic   \n",
       "9         2  192696136623     simple           1            No DP   \n",
       "\n",
       "         Cost_0  Gap cost  \n",
       "0  199606160151  0.027671  \n",
       "1  199606160151  0.022110  \n",
       "2  199606160151  0.026435  \n",
       "3  199606160151  0.026376  \n",
       "4  199606160151  0.000000  \n",
       "5  192696136623 -0.059713  \n",
       "6  192696136623 -0.059229  \n",
       "7  192696136623 -0.061196  \n",
       "8  192696136623 -0.061427  \n",
       "9  192696136623  0.000000  "
      ]
     },
     "execution_count": 152,
     "metadata": {},
     "output_type": "execute_result"
    }
   ],
   "source": [
    "result_gap.head(10)"
   ]
  },
  {
   "cell_type": "code",
   "execution_count": 153,
   "metadata": {},
   "outputs": [
    {
     "data": {
      "text/plain": [
       "<seaborn.axisgrid.FacetGrid at 0x1ecf452bf10>"
      ]
     },
     "execution_count": 153,
     "metadata": {},
     "output_type": "execute_result"
    },
    {
     "data": {
      "image/png": "[encoded data removed]",
      "text/plain": [
       "<Figure size 658.75x500 with 1 Axes>"
      ]
     },
     "metadata": {},
     "output_type": "display_data"
    }
   ],
   "source": [
    "sns.relplot(kind=\"scatter\",data=result_gap,x=\"Scenario\",y=\"Gap cost\",hue=\"Simulations\",style=\"Interpolation\",style_order=[\"Basic\",\"Marginal prices\",\"No DP\"],hue_order=[\"1\",\"3\",\"20\"])"
   ]
  },
  {
   "cell_type": "code",
   "execution_count": 146,
   "metadata": {},
   "outputs": [],
   "source": [
    "result_mean = result_gap.loc[:,[\"method\",\"Gap cost\"]].groupby(\"method\").mean().reset_index()\n",
    "result_mean[\"Simulations\"] = result_mean[\"method\"].apply(lambda x:x.split(\"sim_\")[0] if x!=\"simple\" else \"1\")\n",
    "result_mean[\"Interpolation\"] = result_mean[\"method\"].apply(lambda x:\"No DP\" if x==\"simple\" else (\"Basic\" if x.split(\"sim_\")[1]==\"old\" else \"Marginal prices\"))"
   ]
  },
  {
   "cell_type": "code",
   "execution_count": 147,
   "metadata": {},
   "outputs": [
    {
     "data": {
      "text/html": [
       "<div>\n",
       "<style scoped>\n",
       "    .dataframe tbody tr th:only-of-type {\n",
       "        vertical-align: middle;\n",
       "    }\n",
       "\n",
       "    .dataframe tbody tr th {\n",
       "        vertical-align: top;\n",
       "    }\n",
       "\n",
       "    .dataframe thead th {\n",
       "        text-align: right;\n",
       "    }\n",
       "</style>\n",
       "<table border=\"1\" class=\"dataframe\">\n",
       "  <thead>\n",
       "    <tr style=\"text-align: right;\">\n",
       "      <th></th>\n",
       "      <th>method</th>\n",
       "      <th>Gap cost</th>\n",
       "      <th>Simulations</th>\n",
       "      <th>Interpolation</th>\n",
       "    </tr>\n",
       "  </thead>\n",
       "  <tbody>\n",
       "    <tr>\n",
       "      <th>0</th>\n",
       "      <td>1sim_new</td>\n",
       "      <td>-48952925.0</td>\n",
       "      <td>1</td>\n",
       "      <td>Marginal prices</td>\n",
       "    </tr>\n",
       "    <tr>\n",
       "      <th>1</th>\n",
       "      <td>20sim_old</td>\n",
       "      <td>-65131981.2</td>\n",
       "      <td>20</td>\n",
       "      <td>Basic</td>\n",
       "    </tr>\n",
       "    <tr>\n",
       "      <th>2</th>\n",
       "      <td>3sim_new</td>\n",
       "      <td>-63758729.9</td>\n",
       "      <td>3</td>\n",
       "      <td>Marginal prices</td>\n",
       "    </tr>\n",
       "    <tr>\n",
       "      <th>3</th>\n",
       "      <td>3sim_old</td>\n",
       "      <td>-56836508.8</td>\n",
       "      <td>3</td>\n",
       "      <td>Basic</td>\n",
       "    </tr>\n",
       "    <tr>\n",
       "      <th>4</th>\n",
       "      <td>simple</td>\n",
       "      <td>0.0</td>\n",
       "      <td>1</td>\n",
       "      <td>No DP</td>\n",
       "    </tr>\n",
       "  </tbody>\n",
       "</table>\n",
       "</div>"
      ],
      "text/plain": [
       "      method    Gap cost Simulations    Interpolation\n",
       "0   1sim_new -48952925.0           1  Marginal prices\n",
       "1  20sim_old -65131981.2          20            Basic\n",
       "2   3sim_new -63758729.9           3  Marginal prices\n",
       "3   3sim_old -56836508.8           3            Basic\n",
       "4     simple         0.0           1            No DP"
      ]
     },
     "execution_count": 147,
     "metadata": {},
     "output_type": "execute_result"
    }
   ],
   "source": [
    "result_mean"
   ]
  },
  {
   "cell_type": "code",
   "execution_count": null,
   "metadata": {},
   "outputs": [],
   "source": []
  }
 ],
 "metadata": {
  "kernelspec": {
   "display_name": ".venv",
   "language": "python",
   "name": "python3"
  },
  "language_info": {
   "codemirror_mode": {
    "name": "ipython",
    "version": 3
   },
   "file_extension": ".py",
   "mimetype": "text/x-python",
   "name": "python",
   "nbconvert_exporter": "python",
   "pygments_lexer": "ipython3",
   "version": "3.9.0"
  }
 },
 "nbformat": 4,
 "nbformat_minor": 2
}
