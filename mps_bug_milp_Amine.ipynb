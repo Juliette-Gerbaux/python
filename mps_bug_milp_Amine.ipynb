{
 "cells": [
  {
   "cell_type": "markdown",
   "metadata": {},
   "source": [
    "## Imports"
   ]
  },
  {
   "cell_type": "code",
   "execution_count": 1,
   "metadata": {},
   "outputs": [],
   "source": [
    "import xpress as xp\n",
    "import numpy as np\n",
    "import matplotlib.pyplot as plt\n",
    "import pandas as pd\n",
    "import seaborn as sns"
   ]
  },
  {
   "cell_type": "code",
   "execution_count": 2,
   "metadata": {},
   "outputs": [],
   "source": [
    "%load_ext line_profiler"
   ]
  },
  {
   "cell_type": "code",
   "execution_count": 3,
   "metadata": {},
   "outputs": [],
   "source": [
    "%matplotlib widget"
   ]
  },
  {
   "cell_type": "code",
   "execution_count": 4,
   "metadata": {},
   "outputs": [],
   "source": [
    "xp.controls.outputlog = 1\n",
    "xp.controls.threads = 1\n",
    "xp.controls.scaling = 0\n",
    "xp.controls.presolve = 0\n",
    "xp.controls.feastol = 1.e-7\n",
    "xp.controls.optimalitytol = 1.e-7\n",
    "xp.setOutputEnabled(True)"
   ]
  },
  {
   "cell_type": "code",
   "execution_count": 5,
   "metadata": {},
   "outputs": [],
   "source": [
    "def retrieve_problem(year,week,output_path,itr=1):\n",
    "    model = xp.problem()\n",
    "    model.read(output_path+f\"/problem-{year}-{week}--optim-nb-{itr}.mps\")\n",
    "    return(model)"
   ]
  },
  {
   "cell_type": "markdown",
   "metadata": {},
   "source": [
    "## Export pour le POC"
   ]
  },
  {
   "cell_type": "code",
   "execution_count": 6,
   "metadata": {},
   "outputs": [],
   "source": [
    "# study_path = \"D:/Users/gerbauxjul/Documents/6-Etudes Antares/bug_milp\"\n",
    "study_path = \"D:/Users/gerbauxjul/Documents/6-Etudes Antares/optimization_problem\""
   ]
  },
  {
   "cell_type": "code",
   "execution_count": 10,
   "metadata": {},
   "outputs": [],
   "source": [
    "# output_path_sirius = study_path+\"/output/20241112-1049eco-accurate_sirius_export_mps\"\n",
    "# output_path_xpress = study_path+\"/output/20241112-1042eco-export_mps_xpress\"\n",
    "output_path_sirius = study_path+\"/output/20241118-1751eco-export_mps_with_hydro\""
   ]
  },
  {
   "cell_type": "code",
   "execution_count": 11,
   "metadata": {},
   "outputs": [
    {
     "name": "stdout",
     "output_type": "stream",
     "text": [
      "Reading Problem Pb Solve\n",
      "Problem Statistics\n",
      "        1684 (      1 spare) rows\n",
      "        2352 (      0 spare) structural columns\n",
      "       13439 (   1680 spare) non-zero elements\n",
      "Global Statistics\n",
      "           0 entities        0 sets        0 set members\n",
      "\n"
     ]
    }
   ],
   "source": [
    "m_sirius_itr1 = retrieve_problem(1,3,output_path_sirius,itr=1)\n",
    "# m_xpress_itr1 = retrieve_problem(1,1,output_path_xpress,itr=1)"
   ]
  },
  {
   "cell_type": "code",
   "execution_count": 12,
   "metadata": {},
   "outputs": [],
   "source": [
    "m_sirius_itr1.write(\"problem.lp\",\"l\")"
   ]
  },
  {
   "cell_type": "code",
   "execution_count": 37,
   "metadata": {},
   "outputs": [
    {
     "data": {
      "text/plain": [
       "30.240000000000002"
      ]
     },
     "execution_count": 37,
     "metadata": {},
     "output_type": "execute_result"
    }
   ],
   "source": [
    "63/5000*100*24"
   ]
  },
  {
   "cell_type": "code",
   "execution_count": 34,
   "metadata": {},
   "outputs": [
    {
     "data": {
      "text/plain": [
       "27.524100000000004"
      ]
     },
     "execution_count": 34,
     "metadata": {},
     "output_type": "execute_result"
    }
   ],
   "source": [
    "0.550482*5000/100"
   ]
  },
  {
   "cell_type": "code",
   "execution_count": 20,
   "metadata": {},
   "outputs": [
    {
     "data": {
      "text/plain": [
       "9.071715460619048"
      ]
     },
     "execution_count": 20,
     "metadata": {},
     "output_type": "execute_result"
    }
   ],
   "source": [
    "1524.048197384/168"
   ]
  },
  {
   "cell_type": "code",
   "execution_count": null,
   "metadata": {},
   "outputs": [
    {
     "name": "stdout",
     "output_type": "stream",
     "text": [
      "FICO Xpress v8.14.8, Hyper, solve started 18:14:49, Nov 12, 2024\n",
      "Heap usage: 1240KB (peak 1240KB, 955KB system)\n",
      "Minimizing MILP newProb using 1 thread and up to 31GB memory, with these control settings:\n",
      "SCALING = 0\n",
      "PRESOLVE = 0\n",
      "OUTPUTLOG = 1\n",
      "THREADS = 1\n",
      "FEASTOL = 1.e-7\n",
      "OPTIMALITYTOL = 1.e-7\n",
      "Original problem has:\n",
      "      2352 rows         2016 cols        12264 elements      1344 globals\n",
      "\n",
      "Coefficient range                    original                 solved        \n",
      "  Coefficients   [min,max] : [ 1.00e+00,  9.00e+02] / [ 1.00e+00,  9.00e+02]\n",
      "  RHS and bounds [min,max] : [ 5.00e+00,  7.44e+03] / [ 5.00e+00,  7.44e+03]\n",
      "  Objective      [min,max] : [ 5.88e-04,  2.68e+04] / [ 5.88e-04,  2.68e+04]\n",
      "\n",
      "Will try to keep branch and bound tree memory usage below 24.4GB\n",
      "Crash basis containing 336 structural columns created\n",
      " \n",
      "   Its         Obj Value      S   Ninf  Nneg   Sum Dual Inf  Time\n",
      "     0           .000000      D      1   168        .098710     0\n",
      "  1035       15233051.50      D      0     0        .000000     0\n",
      "Optimal solution found\n",
      "Dual solved problem\n",
      "  1035 simplex iterations in 0.01 seconds at time 0\n",
      "\n",
      "Final objective                       : 1.523305149745183e+07\n",
      "  Max primal violation      (abs/rel) : 1.110e-16 / 1.110e-16\n",
      "  Max dual violation        (abs/rel) :       0.0 /       0.0\n",
      "  Max complementarity viol. (abs/rel) :       0.0 /       0.0\n",
      "\n",
      "Starting root cutting & heuristics\n",
      " \n",
      " Its Type    BestSoln    BestBound   Sols    Add    Del     Gap     GInf   Time\n",
      "a         22510520.30  15233051.50      1                 32.33%       0      0\n",
      "q         17328196.84  15233051.50      2                 12.09%       0      0\n",
      "k         17029749.30  15233051.50      3                 10.55%       0      0\n",
      "k         15325880.01  15325880.01      4                 -0.00%       0      0\n",
      " *** Search completed ***\n",
      "Final MIP objective                   : 1.532588000712819e+07\n",
      "Final MIP bound                       : 1.532588000712821e+07\n",
      "  Solution time / primaldual integral :         0s/ 34.878016%\n",
      "  Number of solutions found / nodes   :         4 /         1\n",
      "  Max primal violation      (abs/rel) : 9.095e-13 / 9.095e-13\n",
      "  Max integer violation     (abs    ) : 4.547e-13\n"
     ]
    }
   ],
   "source": [
    "m_xpress_itr1.solve()"
   ]
  },
  {
   "cell_type": "code",
   "execution_count": 10,
   "metadata": {},
   "outputs": [],
   "source": [
    "vars_sirius_itr1 = m_sirius_itr1.getVariable()\n",
    "names_ref = [v.name for v in vars_sirius_itr1]"
   ]
  },
  {
   "cell_type": "code",
   "execution_count": 11,
   "metadata": {},
   "outputs": [],
   "source": [
    "def create_dataframe_variables(m,names):\n",
    "    idx = [i for i in range(len(names))]\n",
    "    vars = m.getVariable()\n",
    "    df_vars = pd.DataFrame([vars[i] for i in idx], columns=[\"var\"])\n",
    "    df_vars[\"names\"] = [names[i] for i in idx]\n",
    "    df_vars[\"split\"] = df_vars[\"names\"].apply(lambda x:x.strip().split(\"::\"))\n",
    "    df_vars[\"name_var\"] = df_vars[\"split\"].apply(lambda x:x[0])\n",
    "    df_vars[\"antares_object\"] = df_vars[\"split\"].apply(lambda x:x[1].split(\"<\")[0])\n",
    "    df_vars[\"name_antares_object\"] = df_vars[\"split\"].apply(lambda x:x[1].split(\"<\")[1].split(\">\")[0])\n",
    "    df_vars[\"subobject\"] = df_vars[\"split\"].apply(lambda x:x[2] if len(x)>=4 else \"None\")\n",
    "    df_vars[\"time\"] = df_vars[\"split\"].apply(lambda x:int(x[-1].split(\"<\")[1].split(\">\")[0]))\n",
    "# coltype = []\n",
    "# m.getcoltype(coltype, 0, m.attributes.cols - 1)\n",
    "# df_vars['coltype'] = coltype\n",
    "    bounds = []\n",
    "    m.getlb(bounds, 0, m.attributes.cols - 1)\n",
    "    df_vars['lb'] = [bounds[i] for i in idx]\n",
    "    bounds = []\n",
    "    m.getub(bounds, 0, m.attributes.cols - 1)\n",
    "    df_vars['ub'] = [bounds[i] for i in idx]\n",
    "    df_vars = df_vars.assign(sol=[m.getSolution(i) for i in idx])\n",
    "\n",
    "    return df_vars"
   ]
  },
  {
   "cell_type": "code",
   "execution_count": 12,
   "metadata": {},
   "outputs": [],
   "source": [
    "df_vars_itr1 = create_dataframe_variables(m_xpress_itr1,names_ref)"
   ]
  },
  {
   "cell_type": "code",
   "execution_count": 13,
   "metadata": {},
   "outputs": [
    {
     "data": {
      "text/html": [
       "<div>\n",
       "<style scoped>\n",
       "    .dataframe tbody tr th:only-of-type {\n",
       "        vertical-align: middle;\n",
       "    }\n",
       "\n",
       "    .dataframe tbody tr th {\n",
       "        vertical-align: top;\n",
       "    }\n",
       "\n",
       "    .dataframe thead th {\n",
       "        text-align: right;\n",
       "    }\n",
       "</style>\n",
       "<table border=\"1\" class=\"dataframe\">\n",
       "  <thead>\n",
       "    <tr style=\"text-align: right;\">\n",
       "      <th></th>\n",
       "      <th>var</th>\n",
       "      <th>names</th>\n",
       "      <th>split</th>\n",
       "      <th>name_var</th>\n",
       "      <th>antares_object</th>\n",
       "      <th>name_antares_object</th>\n",
       "      <th>subobject</th>\n",
       "      <th>time</th>\n",
       "      <th>lb</th>\n",
       "      <th>ub</th>\n",
       "      <th>sol</th>\n",
       "    </tr>\n",
       "  </thead>\n",
       "  <tbody>\n",
       "    <tr>\n",
       "      <th>0</th>\n",
       "      <td>C1</td>\n",
       "      <td>DispatchableProduction::area&lt;area&gt;::ThermalClu...</td>\n",
       "      <td>[DispatchableProduction, area&lt;area&gt;, ThermalCl...</td>\n",
       "      <td>DispatchableProduction</td>\n",
       "      <td>area</td>\n",
       "      <td>area</td>\n",
       "      <td>ThermalCluster&lt;base&gt;</td>\n",
       "      <td>0</td>\n",
       "      <td>0.0</td>\n",
       "      <td>4.500000e+03</td>\n",
       "      <td>4493.0</td>\n",
       "    </tr>\n",
       "    <tr>\n",
       "      <th>1</th>\n",
       "      <td>C2</td>\n",
       "      <td>DispatchableProduction::area&lt;area&gt;::ThermalClu...</td>\n",
       "      <td>[DispatchableProduction, area&lt;area&gt;, ThermalCl...</td>\n",
       "      <td>DispatchableProduction</td>\n",
       "      <td>area</td>\n",
       "      <td>area</td>\n",
       "      <td>ThermalCluster&lt;ccgt&gt;</td>\n",
       "      <td>0</td>\n",
       "      <td>0.0</td>\n",
       "      <td>2.400000e+03</td>\n",
       "      <td>180.0</td>\n",
       "    </tr>\n",
       "    <tr>\n",
       "      <th>2</th>\n",
       "      <td>C3</td>\n",
       "      <td>PositiveUnsuppliedEnergy::area&lt;area&gt;::hour&lt;0&gt; ...</td>\n",
       "      <td>[PositiveUnsuppliedEnergy, area&lt;area&gt;, hour&lt;0&gt;]</td>\n",
       "      <td>PositiveUnsuppliedEnergy</td>\n",
       "      <td>area</td>\n",
       "      <td>area</td>\n",
       "      <td>None</td>\n",
       "      <td>0</td>\n",
       "      <td>0.0</td>\n",
       "      <td>4.773000e+03</td>\n",
       "      <td>0.0</td>\n",
       "    </tr>\n",
       "    <tr>\n",
       "      <th>3</th>\n",
       "      <td>C4</td>\n",
       "      <td>NegativeUnsuppliedEnergy::area&lt;area&gt;::hour&lt;0&gt; ...</td>\n",
       "      <td>[NegativeUnsuppliedEnergy, area&lt;area&gt;, hour&lt;0&gt;]</td>\n",
       "      <td>NegativeUnsuppliedEnergy</td>\n",
       "      <td>area</td>\n",
       "      <td>area</td>\n",
       "      <td>None</td>\n",
       "      <td>0</td>\n",
       "      <td>0.0</td>\n",
       "      <td>1.000000e+20</td>\n",
       "      <td>0.0</td>\n",
       "    </tr>\n",
       "    <tr>\n",
       "      <th>4</th>\n",
       "      <td>C5</td>\n",
       "      <td>DispatchableProduction::area&lt;area&gt;::ThermalClu...</td>\n",
       "      <td>[DispatchableProduction, area&lt;area&gt;, ThermalCl...</td>\n",
       "      <td>DispatchableProduction</td>\n",
       "      <td>area</td>\n",
       "      <td>area</td>\n",
       "      <td>ThermalCluster&lt;base&gt;</td>\n",
       "      <td>1</td>\n",
       "      <td>0.0</td>\n",
       "      <td>4.500000e+03</td>\n",
       "      <td>4129.0</td>\n",
       "    </tr>\n",
       "    <tr>\n",
       "      <th>...</th>\n",
       "      <td>...</td>\n",
       "      <td>...</td>\n",
       "      <td>...</td>\n",
       "      <td>...</td>\n",
       "      <td>...</td>\n",
       "      <td>...</td>\n",
       "      <td>...</td>\n",
       "      <td>...</td>\n",
       "      <td>...</td>\n",
       "      <td>...</td>\n",
       "      <td>...</td>\n",
       "    </tr>\n",
       "    <tr>\n",
       "      <th>2011</th>\n",
       "      <td>C2012</td>\n",
       "      <td>NumberBreakingDownDispatchableUnits::area&lt;area...</td>\n",
       "      <td>[NumberBreakingDownDispatchableUnits, area&lt;are...</td>\n",
       "      <td>NumberBreakingDownDispatchableUnits</td>\n",
       "      <td>area</td>\n",
       "      <td>area</td>\n",
       "      <td>ThermalCluster&lt;ccgt&gt;</td>\n",
       "      <td>166</td>\n",
       "      <td>-0.0</td>\n",
       "      <td>0.000000e+00</td>\n",
       "      <td>-0.0</td>\n",
       "    </tr>\n",
       "    <tr>\n",
       "      <th>2012</th>\n",
       "      <td>C2013</td>\n",
       "      <td>NODU::area&lt;area&gt;::ThermalCluster&lt;ccgt&gt;::hour&lt;1...</td>\n",
       "      <td>[NODU, area&lt;area&gt;, ThermalCluster&lt;ccgt&gt;, hour&lt;...</td>\n",
       "      <td>NODU</td>\n",
       "      <td>area</td>\n",
       "      <td>area</td>\n",
       "      <td>ThermalCluster&lt;ccgt&gt;</td>\n",
       "      <td>167</td>\n",
       "      <td>-0.0</td>\n",
       "      <td>8.000000e+00</td>\n",
       "      <td>3.0</td>\n",
       "    </tr>\n",
       "    <tr>\n",
       "      <th>2013</th>\n",
       "      <td>C2014</td>\n",
       "      <td>NumberStartingDispatchableUnits::area&lt;area&gt;::T...</td>\n",
       "      <td>[NumberStartingDispatchableUnits, area&lt;area&gt;, ...</td>\n",
       "      <td>NumberStartingDispatchableUnits</td>\n",
       "      <td>area</td>\n",
       "      <td>area</td>\n",
       "      <td>ThermalCluster&lt;ccgt&gt;</td>\n",
       "      <td>167</td>\n",
       "      <td>-0.0</td>\n",
       "      <td>1.000000e+20</td>\n",
       "      <td>-0.0</td>\n",
       "    </tr>\n",
       "    <tr>\n",
       "      <th>2014</th>\n",
       "      <td>C2015</td>\n",
       "      <td>NumberStoppingDispatchableUnits::area&lt;area&gt;::T...</td>\n",
       "      <td>[NumberStoppingDispatchableUnits, area&lt;area&gt;, ...</td>\n",
       "      <td>NumberStoppingDispatchableUnits</td>\n",
       "      <td>area</td>\n",
       "      <td>area</td>\n",
       "      <td>ThermalCluster&lt;ccgt&gt;</td>\n",
       "      <td>167</td>\n",
       "      <td>-0.0</td>\n",
       "      <td>1.000000e+20</td>\n",
       "      <td>1.0</td>\n",
       "    </tr>\n",
       "    <tr>\n",
       "      <th>2015</th>\n",
       "      <td>C2016</td>\n",
       "      <td>NumberBreakingDownDispatchableUnits::area&lt;area...</td>\n",
       "      <td>[NumberBreakingDownDispatchableUnits, area&lt;are...</td>\n",
       "      <td>NumberBreakingDownDispatchableUnits</td>\n",
       "      <td>area</td>\n",
       "      <td>area</td>\n",
       "      <td>ThermalCluster&lt;ccgt&gt;</td>\n",
       "      <td>167</td>\n",
       "      <td>-0.0</td>\n",
       "      <td>0.000000e+00</td>\n",
       "      <td>-0.0</td>\n",
       "    </tr>\n",
       "  </tbody>\n",
       "</table>\n",
       "<p>2016 rows × 11 columns</p>\n",
       "</div>"
      ],
      "text/plain": [
       "           var                                              names  \\\n",
       "0     C1        DispatchableProduction::area<area>::ThermalClu...   \n",
       "1     C2        DispatchableProduction::area<area>::ThermalClu...   \n",
       "2     C3        PositiveUnsuppliedEnergy::area<area>::hour<0> ...   \n",
       "3     C4        NegativeUnsuppliedEnergy::area<area>::hour<0> ...   \n",
       "4     C5        DispatchableProduction::area<area>::ThermalClu...   \n",
       "...        ...                                                ...   \n",
       "2011  C2012     NumberBreakingDownDispatchableUnits::area<area...   \n",
       "2012  C2013     NODU::area<area>::ThermalCluster<ccgt>::hour<1...   \n",
       "2013  C2014     NumberStartingDispatchableUnits::area<area>::T...   \n",
       "2014  C2015     NumberStoppingDispatchableUnits::area<area>::T...   \n",
       "2015  C2016     NumberBreakingDownDispatchableUnits::area<area...   \n",
       "\n",
       "                                                  split  \\\n",
       "0     [DispatchableProduction, area<area>, ThermalCl...   \n",
       "1     [DispatchableProduction, area<area>, ThermalCl...   \n",
       "2       [PositiveUnsuppliedEnergy, area<area>, hour<0>]   \n",
       "3       [NegativeUnsuppliedEnergy, area<area>, hour<0>]   \n",
       "4     [DispatchableProduction, area<area>, ThermalCl...   \n",
       "...                                                 ...   \n",
       "2011  [NumberBreakingDownDispatchableUnits, area<are...   \n",
       "2012  [NODU, area<area>, ThermalCluster<ccgt>, hour<...   \n",
       "2013  [NumberStartingDispatchableUnits, area<area>, ...   \n",
       "2014  [NumberStoppingDispatchableUnits, area<area>, ...   \n",
       "2015  [NumberBreakingDownDispatchableUnits, area<are...   \n",
       "\n",
       "                                 name_var antares_object name_antares_object  \\\n",
       "0                  DispatchableProduction           area                area   \n",
       "1                  DispatchableProduction           area                area   \n",
       "2                PositiveUnsuppliedEnergy           area                area   \n",
       "3                NegativeUnsuppliedEnergy           area                area   \n",
       "4                  DispatchableProduction           area                area   \n",
       "...                                   ...            ...                 ...   \n",
       "2011  NumberBreakingDownDispatchableUnits           area                area   \n",
       "2012                                 NODU           area                area   \n",
       "2013      NumberStartingDispatchableUnits           area                area   \n",
       "2014      NumberStoppingDispatchableUnits           area                area   \n",
       "2015  NumberBreakingDownDispatchableUnits           area                area   \n",
       "\n",
       "                 subobject  time   lb            ub     sol  \n",
       "0     ThermalCluster<base>     0  0.0  4.500000e+03  4493.0  \n",
       "1     ThermalCluster<ccgt>     0  0.0  2.400000e+03   180.0  \n",
       "2                     None     0  0.0  4.773000e+03     0.0  \n",
       "3                     None     0  0.0  1.000000e+20     0.0  \n",
       "4     ThermalCluster<base>     1  0.0  4.500000e+03  4129.0  \n",
       "...                    ...   ...  ...           ...     ...  \n",
       "2011  ThermalCluster<ccgt>   166 -0.0  0.000000e+00    -0.0  \n",
       "2012  ThermalCluster<ccgt>   167 -0.0  8.000000e+00     3.0  \n",
       "2013  ThermalCluster<ccgt>   167 -0.0  1.000000e+20    -0.0  \n",
       "2014  ThermalCluster<ccgt>   167 -0.0  1.000000e+20     1.0  \n",
       "2015  ThermalCluster<ccgt>   167 -0.0  0.000000e+00    -0.0  \n",
       "\n",
       "[2016 rows x 11 columns]"
      ]
     },
     "execution_count": 13,
     "metadata": {},
     "output_type": "execute_result"
    }
   ],
   "source": [
    "df_vars_itr1"
   ]
  },
  {
   "cell_type": "code",
   "execution_count": 14,
   "metadata": {},
   "outputs": [
    {
     "data": {
      "text/html": [
       "<div>\n",
       "<style scoped>\n",
       "    .dataframe tbody tr th:only-of-type {\n",
       "        vertical-align: middle;\n",
       "    }\n",
       "\n",
       "    .dataframe tbody tr th {\n",
       "        vertical-align: top;\n",
       "    }\n",
       "\n",
       "    .dataframe thead th {\n",
       "        text-align: right;\n",
       "    }\n",
       "</style>\n",
       "<table border=\"1\" class=\"dataframe\">\n",
       "  <thead>\n",
       "    <tr style=\"text-align: right;\">\n",
       "      <th></th>\n",
       "      <th>var</th>\n",
       "      <th>names</th>\n",
       "      <th>split</th>\n",
       "      <th>name_var</th>\n",
       "      <th>antares_object</th>\n",
       "      <th>name_antares_object</th>\n",
       "      <th>subobject</th>\n",
       "      <th>time</th>\n",
       "      <th>lb</th>\n",
       "      <th>ub</th>\n",
       "      <th>sol</th>\n",
       "    </tr>\n",
       "  </thead>\n",
       "  <tbody>\n",
       "    <tr>\n",
       "      <th>384</th>\n",
       "      <td>C385</td>\n",
       "      <td>DispatchableProduction::area&lt;area&gt;::ThermalClu...</td>\n",
       "      <td>[DispatchableProduction, area&lt;area&gt;, ThermalCl...</td>\n",
       "      <td>DispatchableProduction</td>\n",
       "      <td>area</td>\n",
       "      <td>area</td>\n",
       "      <td>ThermalCluster&lt;base&gt;</td>\n",
       "      <td>96</td>\n",
       "      <td>0.0</td>\n",
       "      <td>4.500000e+03</td>\n",
       "      <td>4500.0</td>\n",
       "    </tr>\n",
       "    <tr>\n",
       "      <th>1056</th>\n",
       "      <td>C1057</td>\n",
       "      <td>NODU::area&lt;area&gt;::ThermalCluster&lt;base&gt;::hour&lt;9...</td>\n",
       "      <td>[NODU, area&lt;area&gt;, ThermalCluster&lt;base&gt;, hour&lt;...</td>\n",
       "      <td>NODU</td>\n",
       "      <td>area</td>\n",
       "      <td>area</td>\n",
       "      <td>ThermalCluster&lt;base&gt;</td>\n",
       "      <td>96</td>\n",
       "      <td>-0.0</td>\n",
       "      <td>5.000000e+00</td>\n",
       "      <td>5.0</td>\n",
       "    </tr>\n",
       "    <tr>\n",
       "      <th>1057</th>\n",
       "      <td>C1058</td>\n",
       "      <td>NumberStartingDispatchableUnits::area&lt;area&gt;::T...</td>\n",
       "      <td>[NumberStartingDispatchableUnits, area&lt;area&gt;, ...</td>\n",
       "      <td>NumberStartingDispatchableUnits</td>\n",
       "      <td>area</td>\n",
       "      <td>area</td>\n",
       "      <td>ThermalCluster&lt;base&gt;</td>\n",
       "      <td>96</td>\n",
       "      <td>-0.0</td>\n",
       "      <td>1.000000e+20</td>\n",
       "      <td>-0.0</td>\n",
       "    </tr>\n",
       "    <tr>\n",
       "      <th>1058</th>\n",
       "      <td>C1059</td>\n",
       "      <td>NumberStoppingDispatchableUnits::area&lt;area&gt;::T...</td>\n",
       "      <td>[NumberStoppingDispatchableUnits, area&lt;area&gt;, ...</td>\n",
       "      <td>NumberStoppingDispatchableUnits</td>\n",
       "      <td>area</td>\n",
       "      <td>area</td>\n",
       "      <td>ThermalCluster&lt;base&gt;</td>\n",
       "      <td>96</td>\n",
       "      <td>-0.0</td>\n",
       "      <td>1.000000e+20</td>\n",
       "      <td>0.0</td>\n",
       "    </tr>\n",
       "    <tr>\n",
       "      <th>1059</th>\n",
       "      <td>C1060</td>\n",
       "      <td>NumberBreakingDownDispatchableUnits::area&lt;area...</td>\n",
       "      <td>[NumberBreakingDownDispatchableUnits, area&lt;are...</td>\n",
       "      <td>NumberBreakingDownDispatchableUnits</td>\n",
       "      <td>area</td>\n",
       "      <td>area</td>\n",
       "      <td>ThermalCluster&lt;base&gt;</td>\n",
       "      <td>96</td>\n",
       "      <td>-0.0</td>\n",
       "      <td>0.000000e+00</td>\n",
       "      <td>-0.0</td>\n",
       "    </tr>\n",
       "  </tbody>\n",
       "</table>\n",
       "</div>"
      ],
      "text/plain": [
       "           var                                              names  \\\n",
       "384   C385      DispatchableProduction::area<area>::ThermalClu...   \n",
       "1056  C1057     NODU::area<area>::ThermalCluster<base>::hour<9...   \n",
       "1057  C1058     NumberStartingDispatchableUnits::area<area>::T...   \n",
       "1058  C1059     NumberStoppingDispatchableUnits::area<area>::T...   \n",
       "1059  C1060     NumberBreakingDownDispatchableUnits::area<area...   \n",
       "\n",
       "                                                  split  \\\n",
       "384   [DispatchableProduction, area<area>, ThermalCl...   \n",
       "1056  [NODU, area<area>, ThermalCluster<base>, hour<...   \n",
       "1057  [NumberStartingDispatchableUnits, area<area>, ...   \n",
       "1058  [NumberStoppingDispatchableUnits, area<area>, ...   \n",
       "1059  [NumberBreakingDownDispatchableUnits, area<are...   \n",
       "\n",
       "                                 name_var antares_object name_antares_object  \\\n",
       "384                DispatchableProduction           area                area   \n",
       "1056                                 NODU           area                area   \n",
       "1057      NumberStartingDispatchableUnits           area                area   \n",
       "1058      NumberStoppingDispatchableUnits           area                area   \n",
       "1059  NumberBreakingDownDispatchableUnits           area                area   \n",
       "\n",
       "                 subobject  time   lb            ub     sol  \n",
       "384   ThermalCluster<base>    96  0.0  4.500000e+03  4500.0  \n",
       "1056  ThermalCluster<base>    96 -0.0  5.000000e+00     5.0  \n",
       "1057  ThermalCluster<base>    96 -0.0  1.000000e+20    -0.0  \n",
       "1058  ThermalCluster<base>    96 -0.0  1.000000e+20     0.0  \n",
       "1059  ThermalCluster<base>    96 -0.0  0.000000e+00    -0.0  "
      ]
     },
     "execution_count": 14,
     "metadata": {},
     "output_type": "execute_result"
    }
   ],
   "source": [
    "df_vars_itr1[(df_vars_itr1.subobject==\"ThermalCluster<base>\")&(df_vars_itr1.time>=96)&(df_vars_itr1.time<=96)]"
   ]
  },
  {
   "cell_type": "code",
   "execution_count": 15,
   "metadata": {},
   "outputs": [
    {
     "data": {
      "text/plain": [
       "4500.000000000001"
      ]
     },
     "execution_count": 15,
     "metadata": {},
     "output_type": "execute_result"
    }
   ],
   "source": [
    "df_vars_itr1.loc[384,\"sol\"]"
   ]
  },
  {
   "cell_type": "code",
   "execution_count": null,
   "metadata": {},
   "outputs": [
    {
     "data": {
      "text/plain": [
       "5.000000000000001"
      ]
     },
     "execution_count": 16,
     "metadata": {},
     "output_type": "execute_result"
    }
   ],
   "source": [
    "df_vars_itr1.loc[1056,\"sol\"]"
   ]
  },
  {
   "cell_type": "code",
   "execution_count": 27,
   "metadata": {},
   "outputs": [
    {
     "data": {
      "text/plain": [
       "<Axes: xlabel='time', ylabel='sol'>"
      ]
     },
     "execution_count": 27,
     "metadata": {},
     "output_type": "execute_result"
    },
    {
     "data": {
      "application/vnd.jupyter.widget-view+json": {
       "model_id": "0ddb9514cc2c42709f46ca790512b9ec",
       "version_major": 2,
       "version_minor": 0
      },
      "image/png": "[encoded data removed]",
      "text/html": [
       "\n",
       "            <div style=\"display: inline-block;\">\n",
       "                <div class=\"jupyter-widgets widget-label\" style=\"text-align: center;\">\n",
       "                    Figure\n",
       "                </div>\n",
       "                <img src='data:image/png;base64,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' width=640.0/>\n",
       "            </div>\n",
       "        "
      ],
      "text/plain": [
       "Canvas(toolbar=Toolbar(toolitems=[('Home', 'Reset original view', 'home', 'home'), ('Back', 'Back to previous …"
      ]
     },
     "metadata": {},
     "output_type": "display_data"
    }
   ],
   "source": [
    "plt.figure()\n",
    "sns.lineplot(data=df_vars_itr1[(df_vars_itr1.subobject==\"ThermalCluster<base>\")&(df_vars_itr1.name_var!=\"DispatchableProduction\")],x=\"time\",y=\"sol\",hue=\"name_var\")"
   ]
  },
  {
   "cell_type": "code",
   "execution_count": 30,
   "metadata": {},
   "outputs": [
    {
     "data": {
      "text/plain": [
       "<Axes: xlabel='time', ylabel='sol'>"
      ]
     },
     "execution_count": 30,
     "metadata": {},
     "output_type": "execute_result"
    },
    {
     "data": {
      "application/vnd.jupyter.widget-view+json": {
       "model_id": "a8a4d8ee991e4a93a6b511984da61036",
       "version_major": 2,
       "version_minor": 0
      },
      "image/png": "[encoded data removed]",
      "text/html": [
       "\n",
       "            <div style=\"display: inline-block;\">\n",
       "                <div class=\"jupyter-widgets widget-label\" style=\"text-align: center;\">\n",
       "                    Figure\n",
       "                </div>\n",
       "                <img src='data:image/png;base64,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' width=640.0/>\n",
       "            </div>\n",
       "        "
      ],
      "text/plain": [
       "Canvas(toolbar=Toolbar(toolitems=[('Home', 'Reset original view', 'home', 'home'), ('Back', 'Back to previous …"
      ]
     },
     "metadata": {},
     "output_type": "display_data"
    }
   ],
   "source": [
    "plt.figure()\n",
    "sns.lineplot(data=df_vars_itr1[(df_vars_itr1.subobject==\"ThermalCluster<base>\")&(df_vars_itr1.name_var!=\"DispatchableProduction\")&(df_vars_itr1.time>=95)&(df_vars_itr1.time<=100)],x=\"time\",y=\"sol\",hue=\"name_var\")"
   ]
  },
  {
   "cell_type": "code",
   "execution_count": null,
   "metadata": {},
   "outputs": [],
   "source": []
  }
 ],
 "metadata": {
  "kernelspec": {
   "display_name": ".venv",
   "language": "python",
   "name": "python3"
  },
  "language_info": {
   "codemirror_mode": {
    "name": "ipython",
    "version": 3
   },
   "file_extension": ".py",
   "mimetype": "text/x-python",
   "name": "python",
   "nbconvert_exporter": "python",
   "pygments_lexer": "ipython3",
   "version": "3.9.0"
  }
 },
 "nbformat": 4,
 "nbformat_minor": 2
}
