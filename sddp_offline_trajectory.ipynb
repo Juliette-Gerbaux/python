{
 "cells": [
  {
   "cell_type": "code",
   "execution_count": 1,
   "metadata": {},
   "outputs": [],
   "source": [
    "import xpress as xp\n",
    "import numpy as np\n",
    "import matplotlib.pyplot as plt\n",
    "import pandas as pd\n",
    "from pyreadr import read_r\n",
    "from scipy.interpolate import interp1d\n",
    "from param_watervalues import Reservoir\n",
    "from time import time"
   ]
  },
  {
   "cell_type": "code",
   "execution_count": 2,
   "metadata": {},
   "outputs": [],
   "source": [
    "%load_ext line_profiler"
   ]
  },
  {
   "cell_type": "code",
   "execution_count": 3,
   "metadata": {},
   "outputs": [],
   "source": [
    "%matplotlib widget"
   ]
  },
  {
   "cell_type": "code",
   "execution_count": 4,
   "metadata": {},
   "outputs": [],
   "source": [
    "xp.controls.outputlog = -1"
   ]
  },
  {
   "cell_type": "code",
   "execution_count": 5,
   "metadata": {},
   "outputs": [],
   "source": [
    "study_path = \"D:/Users/gerbauxjul/Documents/6-Etudes Antares/ERAA_scandinavie\"\n",
    "output_path = study_path+\"/user/fast_fi00\""
   ]
  },
  {
   "cell_type": "code",
   "execution_count": 6,
   "metadata": {},
   "outputs": [],
   "source": [
    "def retrieve_problem(year,week,output_path,itr=1):\n",
    "    model = xp.problem()\n",
    "    model.read(output_path+f\"/problem-{year}-{week}--optim-nb-{itr}.mps\")\n",
    "    return(model)"
   ]
  },
  {
   "cell_type": "code",
   "execution_count": 45,
   "metadata": {},
   "outputs": [],
   "source": [
    "S = 52\n",
    "NTrain = 1\n",
    "H = 168"
   ]
  },
  {
   "cell_type": "code",
   "execution_count": 13,
   "metadata": {},
   "outputs": [],
   "source": [
    "def create_weekly_problem(k,s,pen_low,pen_high,output_path,reservoir):\n",
    "    model = retrieve_problem(k+1,s+1,output_path)\n",
    "    model.controls.xslp_log = -1\n",
    "\n",
    "    # STATE\n",
    "    x_s = xp.var(\"x_s\",lb = 0, ub = reservoir.capacity)\n",
    "    model.addVariable (x_s)          # State at the begining of the current week\n",
    "\n",
    "    x_s_1 = xp.var(\"x_s_1\",lb = 0, ub = reservoir.capacity)\n",
    "    model.addVariable (x_s_1) # State at the begining of the following week\n",
    "\n",
    "    q = [xp.var(f\"q_{i}\",lb = float('-inf'), ub =  float('inf')) for i in range(H+1)]\n",
    "    model.addVariable (q)               # Level of stock at each hour\n",
    "\n",
    "    # CONTROLS\n",
    "    # Battery (<0 : pompage)\n",
    "    r = [xp.var(f\"r_{i}\",lb = -reservoir.P_pump[7*s]*reservoir.efficiency, ub =  reservoir.P_turb[7*s]) for i in range(H)]\n",
    "\n",
    "    model.addVariable (r)           # Charge and discharge control for the battery: r<0 means charge \n",
    "    R = xp.var()\n",
    "    model.addVariable(R)                         \n",
    "\n",
    "    z = xp.var(\"z\",lb = float('-inf'), ub =  float('inf'))\n",
    "\n",
    "    model.addVariable (z) # Auxiliar variable to introduce the piecewise representation of the future cost\n",
    "    y = xp.var(\"y\")\n",
    "\n",
    "    model.addVariable (y)    # Penality for violating guide curves\n",
    "\n",
    "\n",
    "    # Battery dynamics\n",
    "    model.addConstraint(q[0] == x_s)                           # State of the current week equal to the initial stock of the reservoir for the week\n",
    "    model.addConstraint(q[H] == x_s_1)                          # State of the following week equal to the resulting level of stock for begining of the following week\n",
    "\n",
    "    for h in range(H):\n",
    "        model.addConstraint(q[h+1] == q[h] - r[h] + reservoir.inflow[s,k])               # Stock evolution equation\n",
    "    model.addConstraint(R == xp.Sum([r[h] for h in range(H)]))\n",
    "    \n",
    "    model.addConstraint(y >=  -pen_low* (x_s_1 - reservoir.Xmin[s]))\n",
    "    model.addConstraint(y >=  pen_high* (x_s_1 - reservoir.Xmax[s]))\n",
    "\n",
    "    cst = model.getConstraint()\n",
    "    binding_id = [i for i in range(len(cst)) if \"WeeklyWaterAmount\" in cst[i].name]\n",
    "\n",
    "    model.chgmcoef(binding_id,[R],[-1])\n",
    "    model.chgrhs(binding_id,[0])\n",
    "\n",
    "    model.chgobj([y,z], [1,1])\n",
    "    return([model,z,x_s,x_s_1,R, binding_id])\n",
    "    "
   ]
  },
  {
   "cell_type": "code",
   "execution_count": 31,
   "metadata": {},
   "outputs": [],
   "source": [
    "def solve_weekly_problem(model,z,x_s,x_s_1,R,binding_id,x0, Vj):\n",
    "    nb_cons = model.attributes.rows\n",
    "    model.addConstraint(z >= Vj[0] * x_s_1 + Vj[1])\n",
    "\n",
    "    # model.addConstraint(x_s_1==xf)\n",
    "\n",
    "    cst_initial_level = x_s == x0\n",
    "    model.addConstraint(cst_initial_level)\n",
    "    model.lpoptimize()\n",
    "\n",
    "    \n",
    "\n",
    "    if model.attributes.lpstatus==1:\n",
    "        beta = model.getObjVal()\n",
    "        lamb = model.getDual(cst_initial_level)\n",
    "        z = model.getSolution(z)\n",
    "        u = model.getSolution(R)\n",
    "        mu = model.getDual(binding_id)[0]\n",
    "        model.delConstraint(range(nb_cons+1,model.attributes.rows))\n",
    "        return(beta,lamb,z,u,mu,model.attributes.SIMPLEXITER)\n",
    "    else :\n",
    "        raise(ValueError)"
   ]
  },
  {
   "cell_type": "code",
   "execution_count": 43,
   "metadata": {},
   "outputs": [],
   "source": [
    "def compute_x(reservoir,X,U,V,reward,pen_low,pen_high):\n",
    "    initial_x = [reservoir.initial_level]\n",
    "    k = 0\n",
    "    cout_tot = 0\n",
    "\n",
    "    for s in range(S):\n",
    "        cout = 0\n",
    "        V_fut = lambda x: min([-V[i][s+1,0]*x-V[i][s+1,1] for i in range(len(V))])\n",
    "        pen = interp1d([0,reservoir.Xmin[s],reservoir.Xmax[s],reservoir.capacity],[-pen_low*(reservoir.Xmin[s]),0,0,-pen_high*(reservoir.capacity-reservoir.Xmax[s])])\n",
    "        Gs = lambda x: min([reward[i][s,0]*x+reward[i][s,1] for i in range(len(reward))])\n",
    "\n",
    "        Vu = float('-inf')\n",
    "\n",
    "        for i_fut in range(len(X[s])):\n",
    "            u = -X[s][i_fut] + initial_x[-1] + reservoir.inflow[s,k]*H\n",
    "            if -reservoir.P_pump[7*s]*H <= u <= reservoir.P_turb[7*s]*H:\n",
    "                G = Gs(u)\n",
    "                v = V_fut(X[s][i_fut])\n",
    "                penalty = pen(X[s][i_fut])\n",
    "                if (G + v+penalty) > Vu:\n",
    "                    Vu = G + v+penalty\n",
    "                    xf = X[s][i_fut]\n",
    "                    cout = G\n",
    "\n",
    "        for u in range(len(U[s])):\n",
    "            state_fut = min(reservoir.capacity,initial_x[-1] - U[s][u] + reservoir.inflow[s,k]*H) \n",
    "            if 0 <= state_fut :\n",
    "                penalty = pen(state_fut)\n",
    "                G = Gs(U[s][u])\n",
    "                if (G + V_fut(state_fut)+penalty) > Vu:\n",
    "                    Vu = (G + V_fut(state_fut)+penalty)\n",
    "                    xf = state_fut\n",
    "                    cout = G\n",
    "\n",
    "        Umin = initial_x[-1]+ reservoir.inflow[s,k]*H-reservoir.Xmin[s]\n",
    "        if -reservoir.P_pump[7*s]*H <= Umin <= reservoir.P_turb[7*s]*H:\n",
    "            state_fut = initial_x[-1] - Umin + reservoir.inflow[s,k]*H\n",
    "            penalty = pen(state_fut)\n",
    "            if (Gs(Umin) + V_fut(state_fut)+penalty) > Vu:\n",
    "                Vu = Gs(Umin) + V_fut(state_fut)+penalty\n",
    "                xf = state_fut\n",
    "                cout = Gs(Umin)\n",
    "\n",
    "        Umax = initial_x[-1]+ reservoir.inflow[s,k]*H-reservoir.Xmax[s]\n",
    "        if -reservoir.P_pump[7*s]*H <= Umax <= reservoir.P_turb[7*s]*H:\n",
    "            state_fut = initial_x[-1] - Umax + reservoir.inflow[s,k]*H \n",
    "            penalty = pen(state_fut)\n",
    "            if (Gs(Umax) + V_fut(state_fut)+penalty) > Vu:\n",
    "                Vu = Gs(Umax) + V_fut(state_fut)+penalty\n",
    "                xf = state_fut\n",
    "                cout = Gs(Umax)\n",
    "\n",
    "        initial_x.append(xf)\n",
    "        cout_tot += -cout\n",
    "    return(initial_x, cout_tot)"
   ]
  },
  {
   "cell_type": "code",
   "execution_count": 50,
   "metadata": {},
   "outputs": [],
   "source": [
    "def get_upper_bound(list_models,initial_x):\n",
    "\n",
    "    cout = 0\n",
    "\n",
    "    for s in range(S-1,-1,-1):\n",
    "        print(s,end=\"\\r\")\n",
    "        m = list_models[s]\n",
    "        \n",
    "        model = m[0]\n",
    "\n",
    "        nb_cons = model.attributes.rows\n",
    "        \n",
    "        model.addConstraint(m[3]==initial_x[s+1])\n",
    "\n",
    "        cst_initial_level = m[2] == initial_x[s]\n",
    "        model.addConstraint(cst_initial_level)\n",
    "        model.lpoptimize()\n",
    "\n",
    "        \n",
    "\n",
    "        if model.attributes.lpstatus==1:\n",
    "            cout += model.getObjVal()\n",
    "            model.delConstraint(range(nb_cons,model.attributes.rows))\n",
    "        else :\n",
    "            raise(ValueError)\n",
    "        \n",
    "    return (cout)"
   ]
  },
  {
   "cell_type": "code",
   "execution_count": 48,
   "metadata": {},
   "outputs": [],
   "source": [
    "def SDDP(reservoir:Reservoir, output_path, pen_low, pen_high, N):\n",
    "    \n",
    "    list_models = []\n",
    "    for s in range(S):\n",
    "        m = create_weekly_problem(k=0,s=s,pen_low=pen_low,pen_high=pen_high,output_path=output_path,reservoir=reservoir)\n",
    "        list_models.append(m)\n",
    "    \n",
    "    initial_x = [reservoir.initial_level]\n",
    "    for s in range(S):\n",
    "        xf = initial_x[-1] + max(reservoir.inflow[s,0]*H-reservoir.P_turb[7*s]*H,0)\n",
    "        initial_x.append(xf)\n",
    "\n",
    "    V = []\n",
    "    G = []\n",
    "    X = [[0, reservoir.capacity] for s in range(S)]\n",
    "    U = [[reservoir.P_turb[7*s]*H,-reservoir.P_pump[7*s]*H] for s in range(S)]\n",
    "\n",
    "    gap = 1e3+1\n",
    "    while gap>=1e-4:\n",
    "        Vj = np.zeros((S+1,2))\n",
    "        Gj = np.zeros((S+1,2))\n",
    "        for s in range(S-1,-1,-1):\n",
    "            print(s,end=\"\\r\")\n",
    "            m = list_models[s]\n",
    "            beta,lamb,z,u,mu,itr = solve_weekly_problem(model=m[0],z=m[1],x_s=m[2],x_s_1=m[3],R=m[4],binding_id=m[5],x0=initial_x[s], Vj=Vj[s+1])\n",
    "            Vj[s,0] = lamb\n",
    "            Vj[s,1] = beta - lamb*initial_x[s]\n",
    "            Gj[s,0] = -mu\n",
    "            Gj[s,1] = -beta + mu*u\n",
    "            U[s].append(u)\n",
    "            X[s].append(initial_x[s])\n",
    "        V.append(Vj)\n",
    "        G.append(Gj)\n",
    "\n",
    "        upper_bound = get_upper_bound(list_models=list_models,initial_x=initial_x)\n",
    "        \n",
    "        initial_x, lower_bound = compute_x(reservoir=reservoir,X=X,U=U,V=V,reward=G,pen_low=pen_low,pen_high=pen_high)\n",
    "\n",
    "        lower_bound = max([V[i][0,0]*reservoir.initial_level+V[i][0,1] for i in range(len(V))])\n",
    "        gap = upper_bound-lower_bound\n",
    "        print(gap, upper_bound, lower_bound)\n",
    "        gap = gap/lower_bound\n",
    "    return (V)"
   ]
  },
  {
   "cell_type": "code",
   "execution_count": 27,
   "metadata": {},
   "outputs": [],
   "source": [
    "pen_low = 10000\n",
    "pen_high = 0"
   ]
  },
  {
   "cell_type": "code",
   "execution_count": 28,
   "metadata": {},
   "outputs": [],
   "source": [
    "reservoir = Reservoir(5530000,1,study_path,\"fi00\",\"reservoir\")"
   ]
  },
  {
   "cell_type": "code",
   "execution_count": 51,
   "metadata": {},
   "outputs": [
    {
     "name": "stdout",
     "output_type": "stream",
     "text": [
      "96847013162.27512 100753371227.15724 3906358064.882121\n",
      "96847013498.14507 100753371575.54634 3906358077.4012804\n",
      "96847013498.14507 100753371575.54634 3906358077.4012804\n",
      "96847013498.14507 100753371575.54634 3906358077.4012804\n",
      "37\r"
     ]
    },
    {
     "ename": "KeyboardInterrupt",
     "evalue": "",
     "output_type": "error",
     "traceback": [
      "\u001b[1;31m---------------------------------------------------------------------------\u001b[0m",
      "\u001b[1;31mKeyboardInterrupt\u001b[0m                         Traceback (most recent call last)",
      "Cell \u001b[1;32mIn[51], line 1\u001b[0m\n\u001b[1;32m----> 1\u001b[0m vb \u001b[38;5;241m=\u001b[39m \u001b[43mSDDP\u001b[49m\u001b[43m(\u001b[49m\u001b[43mreservoir\u001b[49m\u001b[43m,\u001b[49m\u001b[43m \u001b[49m\u001b[43mstudy_path\u001b[49m\u001b[38;5;241;43m+\u001b[39;49m\u001b[38;5;124;43m\"\u001b[39;49m\u001b[38;5;124;43m/user/fast_fi00\u001b[39;49m\u001b[38;5;124;43m\"\u001b[39;49m\u001b[43m,\u001b[49m\u001b[43m \u001b[49m\u001b[43mpen_low\u001b[49m\u001b[43m,\u001b[49m\u001b[43m \u001b[49m\u001b[43mpen_high\u001b[49m\u001b[43m,\u001b[49m\u001b[43m \u001b[49m\u001b[38;5;241;43m20\u001b[39;49m\u001b[43m)\u001b[49m\n",
      "Cell \u001b[1;32mIn[48], line 25\u001b[0m, in \u001b[0;36mSDDP\u001b[1;34m(reservoir, output_path, pen_low, pen_high, N)\u001b[0m\n\u001b[0;32m     23\u001b[0m \u001b[38;5;28mprint\u001b[39m(s,end\u001b[38;5;241m=\u001b[39m\u001b[38;5;124m\"\u001b[39m\u001b[38;5;130;01m\\r\u001b[39;00m\u001b[38;5;124m\"\u001b[39m)\n\u001b[0;32m     24\u001b[0m m \u001b[38;5;241m=\u001b[39m list_models[s]\n\u001b[1;32m---> 25\u001b[0m beta,lamb,z,u,mu,itr \u001b[38;5;241m=\u001b[39m \u001b[43msolve_weekly_problem\u001b[49m\u001b[43m(\u001b[49m\u001b[43mmodel\u001b[49m\u001b[38;5;241;43m=\u001b[39;49m\u001b[43mm\u001b[49m\u001b[43m[\u001b[49m\u001b[38;5;241;43m0\u001b[39;49m\u001b[43m]\u001b[49m\u001b[43m,\u001b[49m\u001b[43mz\u001b[49m\u001b[38;5;241;43m=\u001b[39;49m\u001b[43mm\u001b[49m\u001b[43m[\u001b[49m\u001b[38;5;241;43m1\u001b[39;49m\u001b[43m]\u001b[49m\u001b[43m,\u001b[49m\u001b[43mx_s\u001b[49m\u001b[38;5;241;43m=\u001b[39;49m\u001b[43mm\u001b[49m\u001b[43m[\u001b[49m\u001b[38;5;241;43m2\u001b[39;49m\u001b[43m]\u001b[49m\u001b[43m,\u001b[49m\u001b[43mx_s_1\u001b[49m\u001b[38;5;241;43m=\u001b[39;49m\u001b[43mm\u001b[49m\u001b[43m[\u001b[49m\u001b[38;5;241;43m3\u001b[39;49m\u001b[43m]\u001b[49m\u001b[43m,\u001b[49m\u001b[43mR\u001b[49m\u001b[38;5;241;43m=\u001b[39;49m\u001b[43mm\u001b[49m\u001b[43m[\u001b[49m\u001b[38;5;241;43m4\u001b[39;49m\u001b[43m]\u001b[49m\u001b[43m,\u001b[49m\u001b[43mbinding_id\u001b[49m\u001b[38;5;241;43m=\u001b[39;49m\u001b[43mm\u001b[49m\u001b[43m[\u001b[49m\u001b[38;5;241;43m5\u001b[39;49m\u001b[43m]\u001b[49m\u001b[43m,\u001b[49m\u001b[43mx0\u001b[49m\u001b[38;5;241;43m=\u001b[39;49m\u001b[43minitial_x\u001b[49m\u001b[43m[\u001b[49m\u001b[43ms\u001b[49m\u001b[43m]\u001b[49m\u001b[43m,\u001b[49m\u001b[43m \u001b[49m\u001b[43mVj\u001b[49m\u001b[38;5;241;43m=\u001b[39;49m\u001b[43mVj\u001b[49m\u001b[43m[\u001b[49m\u001b[43ms\u001b[49m\u001b[38;5;241;43m+\u001b[39;49m\u001b[38;5;241;43m1\u001b[39;49m\u001b[43m]\u001b[49m\u001b[43m)\u001b[49m\n\u001b[0;32m     26\u001b[0m Vj[s,\u001b[38;5;241m0\u001b[39m] \u001b[38;5;241m=\u001b[39m lamb\n\u001b[0;32m     27\u001b[0m Vj[s,\u001b[38;5;241m1\u001b[39m] \u001b[38;5;241m=\u001b[39m beta \u001b[38;5;241m-\u001b[39m lamb\u001b[38;5;241m*\u001b[39minitial_x[s]\n",
      "Cell \u001b[1;32mIn[31], line 9\u001b[0m, in \u001b[0;36msolve_weekly_problem\u001b[1;34m(model, z, x_s, x_s_1, R, binding_id, x0, Vj)\u001b[0m\n\u001b[0;32m      7\u001b[0m cst_initial_level \u001b[38;5;241m=\u001b[39m x_s \u001b[38;5;241m==\u001b[39m x0\n\u001b[0;32m      8\u001b[0m model\u001b[38;5;241m.\u001b[39maddConstraint(cst_initial_level)\n\u001b[1;32m----> 9\u001b[0m \u001b[43mmodel\u001b[49m\u001b[38;5;241;43m.\u001b[39;49m\u001b[43mlpoptimize\u001b[49m\u001b[43m(\u001b[49m\u001b[43m)\u001b[49m\n\u001b[0;32m     13\u001b[0m \u001b[38;5;28;01mif\u001b[39;00m model\u001b[38;5;241m.\u001b[39mattributes\u001b[38;5;241m.\u001b[39mlpstatus\u001b[38;5;241m==\u001b[39m\u001b[38;5;241m1\u001b[39m:\n\u001b[0;32m     14\u001b[0m     beta \u001b[38;5;241m=\u001b[39m model\u001b[38;5;241m.\u001b[39mgetObjVal()\n",
      "\u001b[1;31mKeyboardInterrupt\u001b[0m: "
     ]
    }
   ],
   "source": [
    "vb = SDDP(reservoir, study_path+\"/user/fast_fi00\", pen_low, pen_high, 20)"
   ]
  },
  {
   "cell_type": "code",
   "execution_count": 54,
   "metadata": {},
   "outputs": [],
   "source": [
    "xNsteps = 20\n",
    "X = np.linspace(0, reservoir.capacity, num = xNsteps)"
   ]
  },
  {
   "cell_type": "code",
   "execution_count": 55,
   "metadata": {},
   "outputs": [],
   "source": [
    "penalties = np.zeros((xNsteps, S+1))\n",
    "for s in range(S+1):\n",
    "    pen = interp1d([0,reservoir.Xmin[s],reservoir.Xmax[s],reservoir.capacity],[-pen_low*(reservoir.Xmin[s]),0,0,-pen_high*(reservoir.capacity-reservoir.Xmax[s])])\n",
    "    for i in range(xNsteps):\n",
    "        penalties[i,s] = pen(X[i])"
   ]
  },
  {
   "cell_type": "code",
   "execution_count": 66,
   "metadata": {},
   "outputs": [],
   "source": [
    "s = 1"
   ]
  },
  {
   "cell_type": "code",
   "execution_count": 67,
   "metadata": {},
   "outputs": [
    {
     "data": {
      "text/plain": [
       "[array([0.00000000e+00, 3.80274747e+09]),\n",
       " array([0.00000000e+00, 3.80274747e+09]),\n",
       " array([0.00000000e+00, 3.80274747e+09]),\n",
       " array([0.00000000e+00, 3.80274747e+09]),\n",
       " array([0.00000000e+00, 3.80274747e+09]),\n",
       " array([0.00000000e+00, 3.80274747e+09])]"
      ]
     },
     "execution_count": 67,
     "metadata": {},
     "output_type": "execute_result"
    }
   ],
   "source": [
    "[vb[i][s,:] for i in range(len(vb))]"
   ]
  },
  {
   "cell_type": "code",
   "execution_count": 68,
   "metadata": {},
   "outputs": [],
   "source": [
    "# i = np.argmax([X>=reservoir.Xmin[s]])\n",
    "# j = np.argmin([X<=reservoir.Xmax[s]])\n",
    "i = 0\n",
    "j = xNsteps"
   ]
  },
  {
   "cell_type": "code",
   "execution_count": 69,
   "metadata": {},
   "outputs": [
    {
     "data": {
      "text/plain": [
       "<matplotlib.legend.Legend at 0x2581b38e100>"
      ]
     },
     "execution_count": 69,
     "metadata": {},
     "output_type": "execute_result"
    },
    {
     "data": {
      "application/vnd.jupyter.widget-view+json": {
       "model_id": "e3ebb80156dc4c10860a61912b7500a1",
       "version_major": 2,
       "version_minor": 0
      },
      "image/png": "[encoded data removed]",
      "text/html": [
       "\n",
       "            <div style=\"display: inline-block;\">\n",
       "                <div class=\"jupyter-widgets widget-label\" style=\"text-align: center;\">\n",
       "                    Figure\n",
       "                </div>\n",
       "                <img src='data:image/png;base64,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' width=640.0/>\n",
       "            </div>\n",
       "        "
      ],
      "text/plain": [
       "Canvas(toolbar=Toolbar(toolitems=[('Home', 'Reset original view', 'home', 'home'), ('Back', 'Back to previous …"
      ]
     },
     "metadata": {},
     "output_type": "display_data"
    }
   ],
   "source": [
    "plt.figure()\n",
    "for k in range(len(vb)):\n",
    "    V = vb[k][s,0]*X+vb[k][s,1]\n",
    "    plt.plot(X[i:j]/reservoir.capacity*100,V[i:j],label=f\"{k}\")#-penalties[i:j,s]\n",
    "plt.legend()"
   ]
  },
  {
   "cell_type": "code",
   "execution_count": null,
   "metadata": {},
   "outputs": [],
   "source": []
  }
 ],
 "metadata": {
  "kernelspec": {
   "display_name": ".venv",
   "language": "python",
   "name": "python3"
  },
  "language_info": {
   "codemirror_mode": {
    "name": "ipython",
    "version": 3
   },
   "file_extension": ".py",
   "mimetype": "text/x-python",
   "name": "python",
   "nbconvert_exporter": "python",
   "pygments_lexer": "ipython3",
   "version": "3.9.0"
  }
 },
 "nbformat": 4,
 "nbformat_minor": 2
}
