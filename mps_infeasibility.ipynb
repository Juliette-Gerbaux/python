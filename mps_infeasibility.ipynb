{
 "cells": [
  {
   "cell_type": "code",
   "execution_count": 1,
   "metadata": {},
   "outputs": [],
   "source": [
    "import xpress as xp\n",
    "import numpy as np\n",
    "import matplotlib.pyplot as plt\n",
    "import pandas as pd\n",
    "from pyreadr import read_r\n",
    "from scipy.interpolate import interp1d\n",
    "from param_watervalues import Reservoir\n",
    "from time import time\n",
    "import seaborn as sns"
   ]
  },
  {
   "cell_type": "code",
   "execution_count": 2,
   "metadata": {},
   "outputs": [],
   "source": [
    "%load_ext line_profiler"
   ]
  },
  {
   "cell_type": "code",
   "execution_count": 3,
   "metadata": {},
   "outputs": [],
   "source": [
    "%matplotlib widget"
   ]
  },
  {
   "cell_type": "code",
   "execution_count": 4,
   "metadata": {},
   "outputs": [],
   "source": [
    "# xp.controls.outputlog = 0\n",
    "xp.controls.threads = 1\n",
    "xp.controls.scaling = 0\n",
    "xp.controls.presolve = 0\n",
    "xp.controls.feastol = 1.e-7\n",
    "xp.controls.optimalitytol = 1.e-7\n",
    "# xp.setOutputEnabled(False)"
   ]
  },
  {
   "cell_type": "code",
   "execution_count": 70,
   "metadata": {},
   "outputs": [],
   "source": [
    "study_path = \"D:/Users/gerbauxjul/Documents/6-Etudes Antares/20240624_1447_ERAA24_TY_2028_AGG_hydromc_bug\"\n",
    "output_path = study_path+\"/output/20240731-1634eco-exportmps_8_8_corr\""
   ]
  },
  {
   "cell_type": "code",
   "execution_count": 71,
   "metadata": {},
   "outputs": [],
   "source": [
    "def retrieve_problem(year,week,output_path,itr=1):\n",
    "    model = xp.problem()\n",
    "    model.read(output_path+f\"/problem-{year}-{week}--optim-nb-{itr}.mps\")\n",
    "    return(model)\n",
    "\n",
    "def modify_objective(model, u):\n",
    "    cst = model.getConstraint()\n",
    "    binding_id = [i for i in range(len(cst)) if \"WeeklyWaterAmount\" in cst[i].name]\n",
    "    model.chgrhs(binding_id,[u])\n",
    "    return(model)\n",
    "\n",
    "def milp_version(model):\n",
    "    vars = model.getVariable()\n",
    "    interger_vars = [i for i in range(len(vars)) if vars[i].name.strip().split(\"::\")[0] in ['NODU', 'NumberBreakingDownDispatchableUnits', 'NumberStartingDispatchableUnits','NumberStoppingDispatchableUnits']]\n",
    "    for i in interger_vars:\n",
    "        model.chgcoltype([vars[i]],'I')\n",
    "    return(model)"
   ]
  },
  {
   "cell_type": "code",
   "execution_count": 72,
   "metadata": {},
   "outputs": [
    {
     "name": "stdout",
     "output_type": "stream",
     "text": [
      "Reading Problem Pb Solve\n",
      "Problem Statistics\n",
      "        1532 (      1 spare) rows\n",
      "        6216 (      0 spare) structural columns\n",
      "       12935 (   6048 spare) non-zero elements\n",
      "Global Statistics\n",
      "           0 entities        0 sets        0 set members\n",
      "\n"
     ]
    }
   ],
   "source": [
    "m = retrieve_problem(7,13,output_path,itr=1)"
   ]
  },
  {
   "cell_type": "code",
   "execution_count": 73,
   "metadata": {},
   "outputs": [
    {
     "data": {
      "text/plain": [
       "6216"
      ]
     },
     "execution_count": 73,
     "metadata": {},
     "output_type": "execute_result"
    }
   ],
   "source": [
    "vars = m.getVariable()\n",
    "len(vars)"
   ]
  },
  {
   "cell_type": "code",
   "execution_count": 74,
   "metadata": {},
   "outputs": [
    {
     "data": {
      "text/plain": [
       "1532"
      ]
     },
     "execution_count": 74,
     "metadata": {},
     "output_type": "execute_result"
    }
   ],
   "source": [
    "cons = m.getConstraint()\n",
    "len(cons)"
   ]
  },
  {
   "cell_type": "code",
   "execution_count": 75,
   "metadata": {},
   "outputs": [
    {
     "name": "stdout",
     "output_type": "stream",
     "text": [
      "FICO Xpress v8.14.8, Hyper, solve started 17:44:35, Jul 31, 2024\n",
      "Heap usage: 2034KB (peak 2034KB, 964KB system)\n",
      "Minimizing LP Pb Solve using 1 thread and up to 31GB memory, with these control settings:\n",
      "SCALING = 0\n",
      "PRESOLVE = 0\n",
      "OUTPUTLOG = 1\n",
      "THREADS = 1\n",
      "FEASTOL = 1.e-7\n",
      "OPTIMALITYTOL = 1.e-7\n",
      "Original problem has:\n",
      "      1532 rows         6216 cols        12935 elements\n",
      "\n",
      "Coefficient range                    original                 solved        \n",
      "  Coefficients   [min,max] : [ 7.50e-01,  1.00e+00] / [ 7.50e-01,  1.00e+00]\n",
      "  RHS and bounds [min,max] : [ 1.00e-05,  1.00e+06] / [ 1.00e-05,  1.00e+06]\n",
      "  Objective      [min,max] : [ 5.01e-04,  2.00e+04] / [ 5.01e-04,  2.00e+04]\n",
      "\n",
      "Crash basis containing 450 structural columns created\n",
      " \n",
      "   Its         Obj Value      S   Ninf  Nneg   Sum Dual Inf  Time\n",
      "     0       80986487.02      D      1   168        .084269     0\n",
      "   830       108127739.9      D     61     0        .000000     0\n",
      "Problem is infeasible\n"
     ]
    }
   ],
   "source": [
    "m.solve()"
   ]
  },
  {
   "cell_type": "code",
   "execution_count": 76,
   "metadata": {},
   "outputs": [],
   "source": [
    "df_vars = pd.DataFrame(vars, columns=[\"names\"])\n",
    "df_vars[\"split\"] = df_vars[\"names\"].apply(lambda x:x.name.strip().split(\"::\"))\n",
    "df_vars[\"name_var\"] = df_vars[\"split\"].apply(lambda x:x[0])\n",
    "df_vars[\"antares_object\"] = df_vars[\"split\"].apply(lambda x:x[1].split(\"<\")[0])\n",
    "df_vars[\"name_antares_object\"] = df_vars[\"split\"].apply(lambda x:x[1].split(\"<\")[1].split(\">\")[0])\n",
    "df_vars[\"subobject\"] = df_vars[\"split\"].apply(lambda x:x[2] if len(x)>=4 else \"None\")\n",
    "df_vars[\"time\"] = df_vars[\"split\"].apply(lambda x:int(x[-1].split(\"<\")[1].split(\">\")[0]))\n",
    "df_vars[\"time_type\"] = df_vars[\"split\"].apply(lambda x:x[-1].split(\"<\")[0])\n",
    "coltype = []\n",
    "m.getcoltype(coltype, 0, m.attributes.cols - 1)\n",
    "df_vars['coltype'] = coltype\n",
    "bounds = []\n",
    "m.getlb(bounds, 0, m.attributes.cols - 1)\n",
    "df_vars['lb'] = bounds\n",
    "bounds = []\n",
    "m.getub(bounds, 0, m.attributes.cols - 1)\n",
    "df_vars['ub'] = bounds\n",
    "objcoef = []\n",
    "m.getobj(objcoef,0,m.attributes.cols-1)\n",
    "df_vars= df_vars.assign(coeff=[objcoef[i] for i in range(m.attributes.cols)])\n",
    "df_vars = df_vars.assign(sol=[m.getSolution(i) for i in range(m.attributes.cols)])\n",
    "# df_vars = df_vars.assign(obj = lambda x: np.round(df_vars['sol'],6)*np.round(df_vars['coeff'],6))"
   ]
  },
  {
   "cell_type": "code",
   "execution_count": 77,
   "metadata": {},
   "outputs": [
    {
     "data": {
      "text/html": [
       "<div>\n",
       "<style scoped>\n",
       "    .dataframe tbody tr th:only-of-type {\n",
       "        vertical-align: middle;\n",
       "    }\n",
       "\n",
       "    .dataframe tbody tr th {\n",
       "        vertical-align: top;\n",
       "    }\n",
       "\n",
       "    .dataframe thead th {\n",
       "        text-align: right;\n",
       "    }\n",
       "</style>\n",
       "<table border=\"1\" class=\"dataframe\">\n",
       "  <thead>\n",
       "    <tr style=\"text-align: right;\">\n",
       "      <th></th>\n",
       "      <th>names</th>\n",
       "      <th>split</th>\n",
       "      <th>name_var</th>\n",
       "      <th>antares_object</th>\n",
       "      <th>name_antares_object</th>\n",
       "      <th>subobject</th>\n",
       "      <th>time</th>\n",
       "      <th>time_type</th>\n",
       "      <th>coltype</th>\n",
       "      <th>lb</th>\n",
       "      <th>ub</th>\n",
       "      <th>coeff</th>\n",
       "      <th>sol</th>\n",
       "    </tr>\n",
       "  </thead>\n",
       "  <tbody>\n",
       "    <tr>\n",
       "      <th>0</th>\n",
       "      <td>NTCDirect::link&lt;2_cz00_hydro_open$$cz00&gt;::hour...</td>\n",
       "      <td>[NTCDirect, link&lt;2_cz00_hydro_open$$cz00&gt;, hou...</td>\n",
       "      <td>NTCDirect</td>\n",
       "      <td>link</td>\n",
       "      <td>2_cz00_hydro_open$$cz00</td>\n",
       "      <td>None</td>\n",
       "      <td>2016</td>\n",
       "      <td>hour</td>\n",
       "      <td>C</td>\n",
       "      <td>-599.000000</td>\n",
       "      <td>2.040000e+02</td>\n",
       "      <td>0.000000</td>\n",
       "      <td>0.0</td>\n",
       "    </tr>\n",
       "    <tr>\n",
       "      <th>1</th>\n",
       "      <td>NTCDirect::link&lt;3_es00_hydro_res$$es00&gt;::hour&lt;...</td>\n",
       "      <td>[NTCDirect, link&lt;3_es00_hydro_res$$es00&gt;, hour...</td>\n",
       "      <td>NTCDirect</td>\n",
       "      <td>link</td>\n",
       "      <td>3_es00_hydro_res$$es00</td>\n",
       "      <td>None</td>\n",
       "      <td>2016</td>\n",
       "      <td>hour</td>\n",
       "      <td>C</td>\n",
       "      <td>0.000000</td>\n",
       "      <td>1.000000e+06</td>\n",
       "      <td>0.000000</td>\n",
       "      <td>0.0</td>\n",
       "    </tr>\n",
       "    <tr>\n",
       "      <th>2</th>\n",
       "      <td>PositiveUnsuppliedEnergy::area&lt;2_cz00_hydro_op...</td>\n",
       "      <td>[PositiveUnsuppliedEnergy, area&lt;2_cz00_hydro_o...</td>\n",
       "      <td>PositiveUnsuppliedEnergy</td>\n",
       "      <td>area</td>\n",
       "      <td>2_cz00_hydro_open</td>\n",
       "      <td>None</td>\n",
       "      <td>2016</td>\n",
       "      <td>hour</td>\n",
       "      <td>C</td>\n",
       "      <td>0.000000</td>\n",
       "      <td>1.000000e-05</td>\n",
       "      <td>-0.000502</td>\n",
       "      <td>0.0</td>\n",
       "    </tr>\n",
       "    <tr>\n",
       "      <th>3</th>\n",
       "      <td>NegativeUnsuppliedEnergy::area&lt;2_cz00_hydro_op...</td>\n",
       "      <td>[NegativeUnsuppliedEnergy, area&lt;2_cz00_hydro_o...</td>\n",
       "      <td>NegativeUnsuppliedEnergy</td>\n",
       "      <td>area</td>\n",
       "      <td>2_cz00_hydro_open</td>\n",
       "      <td>None</td>\n",
       "      <td>2016</td>\n",
       "      <td>hour</td>\n",
       "      <td>C</td>\n",
       "      <td>0.000000</td>\n",
       "      <td>1.000000e+20</td>\n",
       "      <td>-0.000502</td>\n",
       "      <td>0.0</td>\n",
       "    </tr>\n",
       "    <tr>\n",
       "      <th>4</th>\n",
       "      <td>PositiveUnsuppliedEnergy::area&lt;3_es00_hydro_re...</td>\n",
       "      <td>[PositiveUnsuppliedEnergy, area&lt;3_es00_hydro_r...</td>\n",
       "      <td>PositiveUnsuppliedEnergy</td>\n",
       "      <td>area</td>\n",
       "      <td>3_es00_hydro_res</td>\n",
       "      <td>None</td>\n",
       "      <td>2016</td>\n",
       "      <td>hour</td>\n",
       "      <td>C</td>\n",
       "      <td>0.000000</td>\n",
       "      <td>1.000000e-05</td>\n",
       "      <td>0.000515</td>\n",
       "      <td>0.0</td>\n",
       "    </tr>\n",
       "    <tr>\n",
       "      <th>...</th>\n",
       "      <td>...</td>\n",
       "      <td>...</td>\n",
       "      <td>...</td>\n",
       "      <td>...</td>\n",
       "      <td>...</td>\n",
       "      <td>...</td>\n",
       "      <td>...</td>\n",
       "      <td>...</td>\n",
       "      <td>...</td>\n",
       "      <td>...</td>\n",
       "      <td>...</td>\n",
       "      <td>...</td>\n",
       "      <td>...</td>\n",
       "    </tr>\n",
       "    <tr>\n",
       "      <th>6211</th>\n",
       "      <td>Pumping::area&lt;2_cz00_hydro_open&gt;::hour&lt;2183&gt;  ...</td>\n",
       "      <td>[Pumping, area&lt;2_cz00_hydro_open&gt;, hour&lt;2183&gt;]</td>\n",
       "      <td>Pumping</td>\n",
       "      <td>area</td>\n",
       "      <td>2_cz00_hydro_open</td>\n",
       "      <td>None</td>\n",
       "      <td>2183</td>\n",
       "      <td>hour</td>\n",
       "      <td>C</td>\n",
       "      <td>0.000000</td>\n",
       "      <td>5.990000e+02</td>\n",
       "      <td>0.001810</td>\n",
       "      <td>0.0</td>\n",
       "    </tr>\n",
       "    <tr>\n",
       "      <th>6212</th>\n",
       "      <td>HydroLevel::area&lt;2_cz00_hydro_open&gt;::hour&lt;2183...</td>\n",
       "      <td>[HydroLevel, area&lt;2_cz00_hydro_open&gt;, hour&lt;2183&gt;]</td>\n",
       "      <td>HydroLevel</td>\n",
       "      <td>area</td>\n",
       "      <td>2_cz00_hydro_open</td>\n",
       "      <td>None</td>\n",
       "      <td>2183</td>\n",
       "      <td>hour</td>\n",
       "      <td>C</td>\n",
       "      <td>0.000000</td>\n",
       "      <td>2.945000e+03</td>\n",
       "      <td>0.000000</td>\n",
       "      <td>0.0</td>\n",
       "    </tr>\n",
       "    <tr>\n",
       "      <th>6213</th>\n",
       "      <td>Overflow::area&lt;2_cz00_hydro_open&gt;::hour&lt;2183&gt; ...</td>\n",
       "      <td>[Overflow, area&lt;2_cz00_hydro_open&gt;, hour&lt;2183&gt;]</td>\n",
       "      <td>Overflow</td>\n",
       "      <td>area</td>\n",
       "      <td>2_cz00_hydro_open</td>\n",
       "      <td>None</td>\n",
       "      <td>2183</td>\n",
       "      <td>hour</td>\n",
       "      <td>C</td>\n",
       "      <td>0.000000</td>\n",
       "      <td>5.083333e+00</td>\n",
       "      <td>-0.000502</td>\n",
       "      <td>0.0</td>\n",
       "    </tr>\n",
       "    <tr>\n",
       "      <th>6214</th>\n",
       "      <td>HydProd::area&lt;3_es00_hydro_res&gt;::hour&lt;2183&gt;   ...</td>\n",
       "      <td>[HydProd, area&lt;3_es00_hydro_res&gt;, hour&lt;2183&gt;]</td>\n",
       "      <td>HydProd</td>\n",
       "      <td>area</td>\n",
       "      <td>3_es00_hydro_res</td>\n",
       "      <td>None</td>\n",
       "      <td>2183</td>\n",
       "      <td>hour</td>\n",
       "      <td>C</td>\n",
       "      <td>324.280303</td>\n",
       "      <td>1.547000e+03</td>\n",
       "      <td>0.000507</td>\n",
       "      <td>0.0</td>\n",
       "    </tr>\n",
       "    <tr>\n",
       "      <th>6215</th>\n",
       "      <td>HydProd::area&lt;cz00&gt;::hour&lt;2183&gt;               ...</td>\n",
       "      <td>[HydProd, area&lt;cz00&gt;, hour&lt;2183&gt;]</td>\n",
       "      <td>HydProd</td>\n",
       "      <td>area</td>\n",
       "      <td>cz00</td>\n",
       "      <td>None</td>\n",
       "      <td>2183</td>\n",
       "      <td>hour</td>\n",
       "      <td>C</td>\n",
       "      <td>20.000000</td>\n",
       "      <td>4.000000e+02</td>\n",
       "      <td>0.000725</td>\n",
       "      <td>0.0</td>\n",
       "    </tr>\n",
       "  </tbody>\n",
       "</table>\n",
       "<p>6216 rows × 13 columns</p>\n",
       "</div>"
      ],
      "text/plain": [
       "                                                  names  \\\n",
       "0     NTCDirect::link<2_cz00_hydro_open$$cz00>::hour...   \n",
       "1     NTCDirect::link<3_es00_hydro_res$$es00>::hour<...   \n",
       "2     PositiveUnsuppliedEnergy::area<2_cz00_hydro_op...   \n",
       "3     NegativeUnsuppliedEnergy::area<2_cz00_hydro_op...   \n",
       "4     PositiveUnsuppliedEnergy::area<3_es00_hydro_re...   \n",
       "...                                                 ...   \n",
       "6211  Pumping::area<2_cz00_hydro_open>::hour<2183>  ...   \n",
       "6212  HydroLevel::area<2_cz00_hydro_open>::hour<2183...   \n",
       "6213  Overflow::area<2_cz00_hydro_open>::hour<2183> ...   \n",
       "6214  HydProd::area<3_es00_hydro_res>::hour<2183>   ...   \n",
       "6215  HydProd::area<cz00>::hour<2183>               ...   \n",
       "\n",
       "                                                  split  \\\n",
       "0     [NTCDirect, link<2_cz00_hydro_open$$cz00>, hou...   \n",
       "1     [NTCDirect, link<3_es00_hydro_res$$es00>, hour...   \n",
       "2     [PositiveUnsuppliedEnergy, area<2_cz00_hydro_o...   \n",
       "3     [NegativeUnsuppliedEnergy, area<2_cz00_hydro_o...   \n",
       "4     [PositiveUnsuppliedEnergy, area<3_es00_hydro_r...   \n",
       "...                                                 ...   \n",
       "6211     [Pumping, area<2_cz00_hydro_open>, hour<2183>]   \n",
       "6212  [HydroLevel, area<2_cz00_hydro_open>, hour<2183>]   \n",
       "6213    [Overflow, area<2_cz00_hydro_open>, hour<2183>]   \n",
       "6214      [HydProd, area<3_es00_hydro_res>, hour<2183>]   \n",
       "6215                  [HydProd, area<cz00>, hour<2183>]   \n",
       "\n",
       "                      name_var antares_object      name_antares_object  \\\n",
       "0                    NTCDirect           link  2_cz00_hydro_open$$cz00   \n",
       "1                    NTCDirect           link   3_es00_hydro_res$$es00   \n",
       "2     PositiveUnsuppliedEnergy           area        2_cz00_hydro_open   \n",
       "3     NegativeUnsuppliedEnergy           area        2_cz00_hydro_open   \n",
       "4     PositiveUnsuppliedEnergy           area         3_es00_hydro_res   \n",
       "...                        ...            ...                      ...   \n",
       "6211                   Pumping           area        2_cz00_hydro_open   \n",
       "6212                HydroLevel           area        2_cz00_hydro_open   \n",
       "6213                  Overflow           area        2_cz00_hydro_open   \n",
       "6214                   HydProd           area         3_es00_hydro_res   \n",
       "6215                   HydProd           area                     cz00   \n",
       "\n",
       "     subobject  time time_type coltype          lb            ub     coeff  \\\n",
       "0         None  2016      hour       C -599.000000  2.040000e+02  0.000000   \n",
       "1         None  2016      hour       C    0.000000  1.000000e+06  0.000000   \n",
       "2         None  2016      hour       C    0.000000  1.000000e-05 -0.000502   \n",
       "3         None  2016      hour       C    0.000000  1.000000e+20 -0.000502   \n",
       "4         None  2016      hour       C    0.000000  1.000000e-05  0.000515   \n",
       "...        ...   ...       ...     ...         ...           ...       ...   \n",
       "6211      None  2183      hour       C    0.000000  5.990000e+02  0.001810   \n",
       "6212      None  2183      hour       C    0.000000  2.945000e+03  0.000000   \n",
       "6213      None  2183      hour       C    0.000000  5.083333e+00 -0.000502   \n",
       "6214      None  2183      hour       C  324.280303  1.547000e+03  0.000507   \n",
       "6215      None  2183      hour       C   20.000000  4.000000e+02  0.000725   \n",
       "\n",
       "      sol  \n",
       "0     0.0  \n",
       "1     0.0  \n",
       "2     0.0  \n",
       "3     0.0  \n",
       "4     0.0  \n",
       "...   ...  \n",
       "6211  0.0  \n",
       "6212  0.0  \n",
       "6213  0.0  \n",
       "6214  0.0  \n",
       "6215  0.0  \n",
       "\n",
       "[6216 rows x 13 columns]"
      ]
     },
     "execution_count": 77,
     "metadata": {},
     "output_type": "execute_result"
    }
   ],
   "source": [
    "df_vars"
   ]
  },
  {
   "cell_type": "code",
   "execution_count": 78,
   "metadata": {},
   "outputs": [
    {
     "data": {
      "text/plain": [
       "array(['NTCDirect', 'PositiveUnsuppliedEnergy',\n",
       "       'NegativeUnsuppliedEnergy', 'DispatchableProduction', 'HydProd',\n",
       "       'Pumping', 'HydroLevel', 'Overflow'], dtype=object)"
      ]
     },
     "execution_count": 78,
     "metadata": {},
     "output_type": "execute_result"
    }
   ],
   "source": [
    "df_vars[\"name_var\"].unique()"
   ]
  },
  {
   "cell_type": "code",
   "execution_count": 51,
   "metadata": {},
   "outputs": [
    {
     "data": {
      "text/html": [
       "<div>\n",
       "<style scoped>\n",
       "    .dataframe tbody tr th:only-of-type {\n",
       "        vertical-align: middle;\n",
       "    }\n",
       "\n",
       "    .dataframe tbody tr th {\n",
       "        vertical-align: top;\n",
       "    }\n",
       "\n",
       "    .dataframe thead th {\n",
       "        text-align: right;\n",
       "    }\n",
       "</style>\n",
       "<table border=\"1\" class=\"dataframe\">\n",
       "  <thead>\n",
       "    <tr style=\"text-align: right;\">\n",
       "      <th></th>\n",
       "      <th>names</th>\n",
       "      <th>split</th>\n",
       "      <th>name_var</th>\n",
       "      <th>antares_object</th>\n",
       "      <th>name_antares_object</th>\n",
       "      <th>subobject</th>\n",
       "      <th>time</th>\n",
       "      <th>time_type</th>\n",
       "      <th>coltype</th>\n",
       "      <th>lb</th>\n",
       "      <th>ub</th>\n",
       "      <th>coeff</th>\n",
       "      <th>sol</th>\n",
       "    </tr>\n",
       "  </thead>\n",
       "  <tbody>\n",
       "    <tr>\n",
       "      <th>33</th>\n",
       "      <td>HydroLevel::area&lt;2_cz00_hydro_open&gt;::hour&lt;2184...</td>\n",
       "      <td>[HydroLevel, area&lt;2_cz00_hydro_open&gt;, hour&lt;2184&gt;]</td>\n",
       "      <td>HydroLevel</td>\n",
       "      <td>area</td>\n",
       "      <td>2_cz00_hydro_open</td>\n",
       "      <td>None</td>\n",
       "      <td>2184</td>\n",
       "      <td>hour</td>\n",
       "      <td>C</td>\n",
       "      <td>0.0</td>\n",
       "      <td>2945.0</td>\n",
       "      <td>0.0</td>\n",
       "      <td>1597.694499</td>\n",
       "    </tr>\n",
       "    <tr>\n",
       "      <th>70</th>\n",
       "      <td>HydroLevel::area&lt;2_cz00_hydro_open&gt;::hour&lt;2185...</td>\n",
       "      <td>[HydroLevel, area&lt;2_cz00_hydro_open&gt;, hour&lt;2185&gt;]</td>\n",
       "      <td>HydroLevel</td>\n",
       "      <td>area</td>\n",
       "      <td>2_cz00_hydro_open</td>\n",
       "      <td>None</td>\n",
       "      <td>2185</td>\n",
       "      <td>hour</td>\n",
       "      <td>C</td>\n",
       "      <td>0.0</td>\n",
       "      <td>2945.0</td>\n",
       "      <td>0.0</td>\n",
       "      <td>1597.694499</td>\n",
       "    </tr>\n",
       "    <tr>\n",
       "      <th>107</th>\n",
       "      <td>HydroLevel::area&lt;2_cz00_hydro_open&gt;::hour&lt;2186...</td>\n",
       "      <td>[HydroLevel, area&lt;2_cz00_hydro_open&gt;, hour&lt;2186&gt;]</td>\n",
       "      <td>HydroLevel</td>\n",
       "      <td>area</td>\n",
       "      <td>2_cz00_hydro_open</td>\n",
       "      <td>None</td>\n",
       "      <td>2186</td>\n",
       "      <td>hour</td>\n",
       "      <td>C</td>\n",
       "      <td>0.0</td>\n",
       "      <td>2945.0</td>\n",
       "      <td>0.0</td>\n",
       "      <td>1597.694499</td>\n",
       "    </tr>\n",
       "    <tr>\n",
       "      <th>144</th>\n",
       "      <td>HydroLevel::area&lt;2_cz00_hydro_open&gt;::hour&lt;2187...</td>\n",
       "      <td>[HydroLevel, area&lt;2_cz00_hydro_open&gt;, hour&lt;2187&gt;]</td>\n",
       "      <td>HydroLevel</td>\n",
       "      <td>area</td>\n",
       "      <td>2_cz00_hydro_open</td>\n",
       "      <td>None</td>\n",
       "      <td>2187</td>\n",
       "      <td>hour</td>\n",
       "      <td>C</td>\n",
       "      <td>0.0</td>\n",
       "      <td>2945.0</td>\n",
       "      <td>0.0</td>\n",
       "      <td>1602.569499</td>\n",
       "    </tr>\n",
       "    <tr>\n",
       "      <th>181</th>\n",
       "      <td>HydroLevel::area&lt;2_cz00_hydro_open&gt;::hour&lt;2188...</td>\n",
       "      <td>[HydroLevel, area&lt;2_cz00_hydro_open&gt;, hour&lt;2188&gt;]</td>\n",
       "      <td>HydroLevel</td>\n",
       "      <td>area</td>\n",
       "      <td>2_cz00_hydro_open</td>\n",
       "      <td>None</td>\n",
       "      <td>2188</td>\n",
       "      <td>hour</td>\n",
       "      <td>C</td>\n",
       "      <td>0.0</td>\n",
       "      <td>2945.0</td>\n",
       "      <td>0.0</td>\n",
       "      <td>1607.444499</td>\n",
       "    </tr>\n",
       "    <tr>\n",
       "      <th>...</th>\n",
       "      <td>...</td>\n",
       "      <td>...</td>\n",
       "      <td>...</td>\n",
       "      <td>...</td>\n",
       "      <td>...</td>\n",
       "      <td>...</td>\n",
       "      <td>...</td>\n",
       "      <td>...</td>\n",
       "      <td>...</td>\n",
       "      <td>...</td>\n",
       "      <td>...</td>\n",
       "      <td>...</td>\n",
       "      <td>...</td>\n",
       "    </tr>\n",
       "    <tr>\n",
       "      <th>6064</th>\n",
       "      <td>HydroLevel::area&lt;2_cz00_hydro_open&gt;::hour&lt;2347...</td>\n",
       "      <td>[HydroLevel, area&lt;2_cz00_hydro_open&gt;, hour&lt;2347&gt;]</td>\n",
       "      <td>HydroLevel</td>\n",
       "      <td>area</td>\n",
       "      <td>2_cz00_hydro_open</td>\n",
       "      <td>None</td>\n",
       "      <td>2347</td>\n",
       "      <td>hour</td>\n",
       "      <td>C</td>\n",
       "      <td>0.0</td>\n",
       "      <td>2945.0</td>\n",
       "      <td>0.0</td>\n",
       "      <td>1834.836389</td>\n",
       "    </tr>\n",
       "    <tr>\n",
       "      <th>6101</th>\n",
       "      <td>HydroLevel::area&lt;2_cz00_hydro_open&gt;::hour&lt;2348...</td>\n",
       "      <td>[HydroLevel, area&lt;2_cz00_hydro_open&gt;, hour&lt;2348&gt;]</td>\n",
       "      <td>HydroLevel</td>\n",
       "      <td>area</td>\n",
       "      <td>2_cz00_hydro_open</td>\n",
       "      <td>None</td>\n",
       "      <td>2348</td>\n",
       "      <td>hour</td>\n",
       "      <td>C</td>\n",
       "      <td>0.0</td>\n",
       "      <td>2945.0</td>\n",
       "      <td>0.0</td>\n",
       "      <td>1839.711389</td>\n",
       "    </tr>\n",
       "    <tr>\n",
       "      <th>6138</th>\n",
       "      <td>HydroLevel::area&lt;2_cz00_hydro_open&gt;::hour&lt;2349...</td>\n",
       "      <td>[HydroLevel, area&lt;2_cz00_hydro_open&gt;, hour&lt;2349&gt;]</td>\n",
       "      <td>HydroLevel</td>\n",
       "      <td>area</td>\n",
       "      <td>2_cz00_hydro_open</td>\n",
       "      <td>None</td>\n",
       "      <td>2349</td>\n",
       "      <td>hour</td>\n",
       "      <td>C</td>\n",
       "      <td>0.0</td>\n",
       "      <td>2945.0</td>\n",
       "      <td>0.0</td>\n",
       "      <td>1844.586389</td>\n",
       "    </tr>\n",
       "    <tr>\n",
       "      <th>6175</th>\n",
       "      <td>HydroLevel::area&lt;2_cz00_hydro_open&gt;::hour&lt;2350...</td>\n",
       "      <td>[HydroLevel, area&lt;2_cz00_hydro_open&gt;, hour&lt;2350&gt;]</td>\n",
       "      <td>HydroLevel</td>\n",
       "      <td>area</td>\n",
       "      <td>2_cz00_hydro_open</td>\n",
       "      <td>None</td>\n",
       "      <td>2350</td>\n",
       "      <td>hour</td>\n",
       "      <td>C</td>\n",
       "      <td>0.0</td>\n",
       "      <td>2945.0</td>\n",
       "      <td>0.0</td>\n",
       "      <td>1849.461389</td>\n",
       "    </tr>\n",
       "    <tr>\n",
       "      <th>6212</th>\n",
       "      <td>HydroLevel::area&lt;2_cz00_hydro_open&gt;::hour&lt;2351...</td>\n",
       "      <td>[HydroLevel, area&lt;2_cz00_hydro_open&gt;, hour&lt;2351&gt;]</td>\n",
       "      <td>HydroLevel</td>\n",
       "      <td>area</td>\n",
       "      <td>2_cz00_hydro_open</td>\n",
       "      <td>None</td>\n",
       "      <td>2351</td>\n",
       "      <td>hour</td>\n",
       "      <td>C</td>\n",
       "      <td>0.0</td>\n",
       "      <td>2945.0</td>\n",
       "      <td>0.0</td>\n",
       "      <td>1854.336389</td>\n",
       "    </tr>\n",
       "  </tbody>\n",
       "</table>\n",
       "<p>168 rows × 13 columns</p>\n",
       "</div>"
      ],
      "text/plain": [
       "                                                  names  \\\n",
       "33    HydroLevel::area<2_cz00_hydro_open>::hour<2184...   \n",
       "70    HydroLevel::area<2_cz00_hydro_open>::hour<2185...   \n",
       "107   HydroLevel::area<2_cz00_hydro_open>::hour<2186...   \n",
       "144   HydroLevel::area<2_cz00_hydro_open>::hour<2187...   \n",
       "181   HydroLevel::area<2_cz00_hydro_open>::hour<2188...   \n",
       "...                                                 ...   \n",
       "6064  HydroLevel::area<2_cz00_hydro_open>::hour<2347...   \n",
       "6101  HydroLevel::area<2_cz00_hydro_open>::hour<2348...   \n",
       "6138  HydroLevel::area<2_cz00_hydro_open>::hour<2349...   \n",
       "6175  HydroLevel::area<2_cz00_hydro_open>::hour<2350...   \n",
       "6212  HydroLevel::area<2_cz00_hydro_open>::hour<2351...   \n",
       "\n",
       "                                                  split    name_var  \\\n",
       "33    [HydroLevel, area<2_cz00_hydro_open>, hour<2184>]  HydroLevel   \n",
       "70    [HydroLevel, area<2_cz00_hydro_open>, hour<2185>]  HydroLevel   \n",
       "107   [HydroLevel, area<2_cz00_hydro_open>, hour<2186>]  HydroLevel   \n",
       "144   [HydroLevel, area<2_cz00_hydro_open>, hour<2187>]  HydroLevel   \n",
       "181   [HydroLevel, area<2_cz00_hydro_open>, hour<2188>]  HydroLevel   \n",
       "...                                                 ...         ...   \n",
       "6064  [HydroLevel, area<2_cz00_hydro_open>, hour<2347>]  HydroLevel   \n",
       "6101  [HydroLevel, area<2_cz00_hydro_open>, hour<2348>]  HydroLevel   \n",
       "6138  [HydroLevel, area<2_cz00_hydro_open>, hour<2349>]  HydroLevel   \n",
       "6175  [HydroLevel, area<2_cz00_hydro_open>, hour<2350>]  HydroLevel   \n",
       "6212  [HydroLevel, area<2_cz00_hydro_open>, hour<2351>]  HydroLevel   \n",
       "\n",
       "     antares_object name_antares_object subobject  time time_type coltype  \\\n",
       "33             area   2_cz00_hydro_open      None  2184      hour       C   \n",
       "70             area   2_cz00_hydro_open      None  2185      hour       C   \n",
       "107            area   2_cz00_hydro_open      None  2186      hour       C   \n",
       "144            area   2_cz00_hydro_open      None  2187      hour       C   \n",
       "181            area   2_cz00_hydro_open      None  2188      hour       C   \n",
       "...             ...                 ...       ...   ...       ...     ...   \n",
       "6064           area   2_cz00_hydro_open      None  2347      hour       C   \n",
       "6101           area   2_cz00_hydro_open      None  2348      hour       C   \n",
       "6138           area   2_cz00_hydro_open      None  2349      hour       C   \n",
       "6175           area   2_cz00_hydro_open      None  2350      hour       C   \n",
       "6212           area   2_cz00_hydro_open      None  2351      hour       C   \n",
       "\n",
       "       lb      ub  coeff          sol  \n",
       "33    0.0  2945.0    0.0  1597.694499  \n",
       "70    0.0  2945.0    0.0  1597.694499  \n",
       "107   0.0  2945.0    0.0  1597.694499  \n",
       "144   0.0  2945.0    0.0  1602.569499  \n",
       "181   0.0  2945.0    0.0  1607.444499  \n",
       "...   ...     ...    ...          ...  \n",
       "6064  0.0  2945.0    0.0  1834.836389  \n",
       "6101  0.0  2945.0    0.0  1839.711389  \n",
       "6138  0.0  2945.0    0.0  1844.586389  \n",
       "6175  0.0  2945.0    0.0  1849.461389  \n",
       "6212  0.0  2945.0    0.0  1854.336389  \n",
       "\n",
       "[168 rows x 13 columns]"
      ]
     },
     "execution_count": 51,
     "metadata": {},
     "output_type": "execute_result"
    }
   ],
   "source": [
    "df_vars.loc[(df_vars[\"name_var\"].isin(['HydroLevel']))]"
   ]
  },
  {
   "cell_type": "code",
   "execution_count": 52,
   "metadata": {},
   "outputs": [],
   "source": [
    "cap =2945"
   ]
  },
  {
   "cell_type": "code",
   "execution_count": 53,
   "metadata": {},
   "outputs": [
    {
     "data": {
      "text/plain": [
       "0.5425108655348048"
      ]
     },
     "execution_count": 53,
     "metadata": {},
     "output_type": "execute_result"
    }
   ],
   "source": [
    "1597.694499/cap"
   ]
  },
  {
   "cell_type": "code",
   "execution_count": 32,
   "metadata": {},
   "outputs": [],
   "source": [
    "fin_level_8_8 = 1070.791819"
   ]
  },
  {
   "cell_type": "code",
   "execution_count": 54,
   "metadata": {},
   "outputs": [],
   "source": [
    "df_cons = pd.DataFrame(cons, columns=[\"names\"])\n",
    "df_cons[\"split\"] = df_cons[\"names\"].apply(lambda x:x.name.strip().split(\"::\"))\n",
    "df_cons[\"name_cons\"] = df_cons[\"split\"].apply(lambda x:x[0])\n",
    "df_cons[\"antares_object\"] = df_cons[\"split\"].apply(lambda x:x[1].split(\"<\")[0])\n",
    "df_cons[\"name_antares_object\"] = df_cons[\"split\"].apply(lambda x:x[1].split(\"<\")[1].split(\">\")[0] if len(x[1].split(\"<\"))>=2 else \"None\")\n",
    "df_cons[\"time\"] = df_cons[\"split\"].apply(lambda x:int(x[-1].split(\"<\")[1].split(\">\")[0]))\n",
    "df_cons[\"time_type\"] = df_cons[\"split\"].apply(lambda x:x[-1].split(\"<\")[0])\n",
    "rhs = []\n",
    "m.getrhs(rhs, 0, m.attributes.rows - 1)\n",
    "df_cons[\"rhs\"] = rhs"
   ]
  },
  {
   "cell_type": "code",
   "execution_count": 55,
   "metadata": {},
   "outputs": [
    {
     "data": {
      "text/html": [
       "<div>\n",
       "<style scoped>\n",
       "    .dataframe tbody tr th:only-of-type {\n",
       "        vertical-align: middle;\n",
       "    }\n",
       "\n",
       "    .dataframe tbody tr th {\n",
       "        vertical-align: top;\n",
       "    }\n",
       "\n",
       "    .dataframe thead th {\n",
       "        text-align: right;\n",
       "    }\n",
       "</style>\n",
       "<table border=\"1\" class=\"dataframe\">\n",
       "  <thead>\n",
       "    <tr style=\"text-align: right;\">\n",
       "      <th></th>\n",
       "      <th>names</th>\n",
       "      <th>split</th>\n",
       "      <th>name_cons</th>\n",
       "      <th>antares_object</th>\n",
       "      <th>name_antares_object</th>\n",
       "      <th>time</th>\n",
       "      <th>time_type</th>\n",
       "      <th>rhs</th>\n",
       "    </tr>\n",
       "  </thead>\n",
       "  <tbody>\n",
       "    <tr>\n",
       "      <th>0</th>\n",
       "      <td>AreaBalance::area&lt;2_cz00_hydro_open&gt;::hour&lt;218...</td>\n",
       "      <td>[AreaBalance, area&lt;2_cz00_hydro_open&gt;, hour&lt;21...</td>\n",
       "      <td>AreaBalance</td>\n",
       "      <td>area</td>\n",
       "      <td>2_cz00_hydro_open</td>\n",
       "      <td>2184</td>\n",
       "      <td>hour</td>\n",
       "      <td>0.000</td>\n",
       "    </tr>\n",
       "    <tr>\n",
       "      <th>1</th>\n",
       "      <td>FictiveLoads::area&lt;2_cz00_hydro_open&gt;::hour&lt;21...</td>\n",
       "      <td>[FictiveLoads, area&lt;2_cz00_hydro_open&gt;, hour&lt;2...</td>\n",
       "      <td>FictiveLoads</td>\n",
       "      <td>area</td>\n",
       "      <td>2_cz00_hydro_open</td>\n",
       "      <td>2184</td>\n",
       "      <td>hour</td>\n",
       "      <td>0.000</td>\n",
       "    </tr>\n",
       "    <tr>\n",
       "      <th>2</th>\n",
       "      <td>AreaBalance::area&lt;3_es00_hydro_res&gt;::hour&lt;2184...</td>\n",
       "      <td>[AreaBalance, area&lt;3_es00_hydro_res&gt;, hour&lt;2184&gt;]</td>\n",
       "      <td>AreaBalance</td>\n",
       "      <td>area</td>\n",
       "      <td>3_es00_hydro_res</td>\n",
       "      <td>2184</td>\n",
       "      <td>hour</td>\n",
       "      <td>0.000</td>\n",
       "    </tr>\n",
       "    <tr>\n",
       "      <th>3</th>\n",
       "      <td>FictiveLoads::area&lt;3_es00_hydro_res&gt;::hour&lt;218...</td>\n",
       "      <td>[FictiveLoads, area&lt;3_es00_hydro_res&gt;, hour&lt;21...</td>\n",
       "      <td>FictiveLoads</td>\n",
       "      <td>area</td>\n",
       "      <td>3_es00_hydro_res</td>\n",
       "      <td>2184</td>\n",
       "      <td>hour</td>\n",
       "      <td>0.000</td>\n",
       "    </tr>\n",
       "    <tr>\n",
       "      <th>4</th>\n",
       "      <td>AreaBalance::area&lt;cz00&gt;::hour&lt;2184&gt;           ...</td>\n",
       "      <td>[AreaBalance, area&lt;cz00&gt;, hour&lt;2184&gt;]</td>\n",
       "      <td>AreaBalance</td>\n",
       "      <td>area</td>\n",
       "      <td>cz00</td>\n",
       "      <td>2184</td>\n",
       "      <td>hour</td>\n",
       "      <td>-5807.200</td>\n",
       "    </tr>\n",
       "    <tr>\n",
       "      <th>...</th>\n",
       "      <td>...</td>\n",
       "      <td>...</td>\n",
       "      <td>...</td>\n",
       "      <td>...</td>\n",
       "      <td>...</td>\n",
       "      <td>...</td>\n",
       "      <td>...</td>\n",
       "      <td>...</td>\n",
       "    </tr>\n",
       "    <tr>\n",
       "      <th>1527</th>\n",
       "      <td>AreaHydroLevel::area&lt;2_cz00_hydro_open&gt;::hour&lt;...</td>\n",
       "      <td>[AreaHydroLevel, area&lt;2_cz00_hydro_open&gt;, hour...</td>\n",
       "      <td>AreaHydroLevel</td>\n",
       "      <td>area</td>\n",
       "      <td>2_cz00_hydro_open</td>\n",
       "      <td>2347</td>\n",
       "      <td>hour</td>\n",
       "      <td>4.875</td>\n",
       "    </tr>\n",
       "    <tr>\n",
       "      <th>1528</th>\n",
       "      <td>AreaHydroLevel::area&lt;2_cz00_hydro_open&gt;::hour&lt;...</td>\n",
       "      <td>[AreaHydroLevel, area&lt;2_cz00_hydro_open&gt;, hour...</td>\n",
       "      <td>AreaHydroLevel</td>\n",
       "      <td>area</td>\n",
       "      <td>2_cz00_hydro_open</td>\n",
       "      <td>2348</td>\n",
       "      <td>hour</td>\n",
       "      <td>4.875</td>\n",
       "    </tr>\n",
       "    <tr>\n",
       "      <th>1529</th>\n",
       "      <td>AreaHydroLevel::area&lt;2_cz00_hydro_open&gt;::hour&lt;...</td>\n",
       "      <td>[AreaHydroLevel, area&lt;2_cz00_hydro_open&gt;, hour...</td>\n",
       "      <td>AreaHydroLevel</td>\n",
       "      <td>area</td>\n",
       "      <td>2_cz00_hydro_open</td>\n",
       "      <td>2349</td>\n",
       "      <td>hour</td>\n",
       "      <td>4.875</td>\n",
       "    </tr>\n",
       "    <tr>\n",
       "      <th>1530</th>\n",
       "      <td>AreaHydroLevel::area&lt;2_cz00_hydro_open&gt;::hour&lt;...</td>\n",
       "      <td>[AreaHydroLevel, area&lt;2_cz00_hydro_open&gt;, hour...</td>\n",
       "      <td>AreaHydroLevel</td>\n",
       "      <td>area</td>\n",
       "      <td>2_cz00_hydro_open</td>\n",
       "      <td>2350</td>\n",
       "      <td>hour</td>\n",
       "      <td>4.875</td>\n",
       "    </tr>\n",
       "    <tr>\n",
       "      <th>1531</th>\n",
       "      <td>AreaHydroLevel::area&lt;2_cz00_hydro_open&gt;::hour&lt;...</td>\n",
       "      <td>[AreaHydroLevel, area&lt;2_cz00_hydro_open&gt;, hour...</td>\n",
       "      <td>AreaHydroLevel</td>\n",
       "      <td>area</td>\n",
       "      <td>2_cz00_hydro_open</td>\n",
       "      <td>2351</td>\n",
       "      <td>hour</td>\n",
       "      <td>4.875</td>\n",
       "    </tr>\n",
       "  </tbody>\n",
       "</table>\n",
       "<p>1532 rows × 8 columns</p>\n",
       "</div>"
      ],
      "text/plain": [
       "                                                  names  \\\n",
       "0     AreaBalance::area<2_cz00_hydro_open>::hour<218...   \n",
       "1     FictiveLoads::area<2_cz00_hydro_open>::hour<21...   \n",
       "2     AreaBalance::area<3_es00_hydro_res>::hour<2184...   \n",
       "3     FictiveLoads::area<3_es00_hydro_res>::hour<218...   \n",
       "4     AreaBalance::area<cz00>::hour<2184>           ...   \n",
       "...                                                 ...   \n",
       "1527  AreaHydroLevel::area<2_cz00_hydro_open>::hour<...   \n",
       "1528  AreaHydroLevel::area<2_cz00_hydro_open>::hour<...   \n",
       "1529  AreaHydroLevel::area<2_cz00_hydro_open>::hour<...   \n",
       "1530  AreaHydroLevel::area<2_cz00_hydro_open>::hour<...   \n",
       "1531  AreaHydroLevel::area<2_cz00_hydro_open>::hour<...   \n",
       "\n",
       "                                                  split       name_cons  \\\n",
       "0     [AreaBalance, area<2_cz00_hydro_open>, hour<21...     AreaBalance   \n",
       "1     [FictiveLoads, area<2_cz00_hydro_open>, hour<2...    FictiveLoads   \n",
       "2     [AreaBalance, area<3_es00_hydro_res>, hour<2184>]     AreaBalance   \n",
       "3     [FictiveLoads, area<3_es00_hydro_res>, hour<21...    FictiveLoads   \n",
       "4                 [AreaBalance, area<cz00>, hour<2184>]     AreaBalance   \n",
       "...                                                 ...             ...   \n",
       "1527  [AreaHydroLevel, area<2_cz00_hydro_open>, hour...  AreaHydroLevel   \n",
       "1528  [AreaHydroLevel, area<2_cz00_hydro_open>, hour...  AreaHydroLevel   \n",
       "1529  [AreaHydroLevel, area<2_cz00_hydro_open>, hour...  AreaHydroLevel   \n",
       "1530  [AreaHydroLevel, area<2_cz00_hydro_open>, hour...  AreaHydroLevel   \n",
       "1531  [AreaHydroLevel, area<2_cz00_hydro_open>, hour...  AreaHydroLevel   \n",
       "\n",
       "     antares_object name_antares_object  time time_type       rhs  \n",
       "0              area   2_cz00_hydro_open  2184      hour     0.000  \n",
       "1              area   2_cz00_hydro_open  2184      hour     0.000  \n",
       "2              area    3_es00_hydro_res  2184      hour     0.000  \n",
       "3              area    3_es00_hydro_res  2184      hour     0.000  \n",
       "4              area                cz00  2184      hour -5807.200  \n",
       "...             ...                 ...   ...       ...       ...  \n",
       "1527           area   2_cz00_hydro_open  2347      hour     4.875  \n",
       "1528           area   2_cz00_hydro_open  2348      hour     4.875  \n",
       "1529           area   2_cz00_hydro_open  2349      hour     4.875  \n",
       "1530           area   2_cz00_hydro_open  2350      hour     4.875  \n",
       "1531           area   2_cz00_hydro_open  2351      hour     4.875  \n",
       "\n",
       "[1532 rows x 8 columns]"
      ]
     },
     "execution_count": 55,
     "metadata": {},
     "output_type": "execute_result"
    }
   ],
   "source": [
    "df_cons"
   ]
  },
  {
   "cell_type": "code",
   "execution_count": 56,
   "metadata": {},
   "outputs": [
    {
     "data": {
      "text/plain": [
       "array(['AreaBalance', 'FictiveLoads', 'BC_cz00_dsr_pb_500',\n",
       "       'BC_es00_dsr_pb_20000', 'HydroPower', 'MinHydroPower',\n",
       "       'MaxHydroPower', 'MaxPumping', 'AreaHydroLevel'], dtype=object)"
      ]
     },
     "execution_count": 56,
     "metadata": {},
     "output_type": "execute_result"
    }
   ],
   "source": [
    "df_cons[\"name_cons\"].unique()"
   ]
  },
  {
   "cell_type": "code",
   "execution_count": 79,
   "metadata": {},
   "outputs": [],
   "source": [
    "m.write(\"problem\",\"l\")"
   ]
  },
  {
   "cell_type": "code",
   "execution_count": 57,
   "metadata": {},
   "outputs": [
    {
     "data": {
      "text/html": [
       "<div>\n",
       "<style scoped>\n",
       "    .dataframe tbody tr th:only-of-type {\n",
       "        vertical-align: middle;\n",
       "    }\n",
       "\n",
       "    .dataframe tbody tr th {\n",
       "        vertical-align: top;\n",
       "    }\n",
       "\n",
       "    .dataframe thead th {\n",
       "        text-align: right;\n",
       "    }\n",
       "</style>\n",
       "<table border=\"1\" class=\"dataframe\">\n",
       "  <thead>\n",
       "    <tr style=\"text-align: right;\">\n",
       "      <th></th>\n",
       "      <th>names</th>\n",
       "      <th>split</th>\n",
       "      <th>name_cons</th>\n",
       "      <th>antares_object</th>\n",
       "      <th>name_antares_object</th>\n",
       "      <th>time</th>\n",
       "      <th>time_type</th>\n",
       "      <th>rhs</th>\n",
       "    </tr>\n",
       "  </thead>\n",
       "  <tbody>\n",
       "    <tr>\n",
       "      <th>1358</th>\n",
       "      <td>HydroPower::area&lt;2_cz00_hydro_open&gt;::week&lt;13&gt; ...</td>\n",
       "      <td>[HydroPower, area&lt;2_cz00_hydro_open&gt;, week&lt;13&gt;]</td>\n",
       "      <td>HydroPower</td>\n",
       "      <td>area</td>\n",
       "      <td>2_cz00_hydro_open</td>\n",
       "      <td>13</td>\n",
       "      <td>week</td>\n",
       "      <td>557.48311</td>\n",
       "    </tr>\n",
       "  </tbody>\n",
       "</table>\n",
       "</div>"
      ],
      "text/plain": [
       "                                                  names  \\\n",
       "1358  HydroPower::area<2_cz00_hydro_open>::week<13> ...   \n",
       "\n",
       "                                                split   name_cons  \\\n",
       "1358  [HydroPower, area<2_cz00_hydro_open>, week<13>]  HydroPower   \n",
       "\n",
       "     antares_object name_antares_object  time time_type        rhs  \n",
       "1358           area   2_cz00_hydro_open    13      week  557.48311  "
      ]
     },
     "execution_count": 57,
     "metadata": {},
     "output_type": "execute_result"
    }
   ],
   "source": [
    "df_cons[(df_cons.name_cons=='HydroPower')&(df_cons.name_antares_object=='2_cz00_hydro_open')]"
   ]
  },
  {
   "cell_type": "code",
   "execution_count": 58,
   "metadata": {},
   "outputs": [
    {
     "data": {
      "text/html": [
       "<div>\n",
       "<style scoped>\n",
       "    .dataframe tbody tr th:only-of-type {\n",
       "        vertical-align: middle;\n",
       "    }\n",
       "\n",
       "    .dataframe tbody tr th {\n",
       "        vertical-align: top;\n",
       "    }\n",
       "\n",
       "    .dataframe thead th {\n",
       "        text-align: right;\n",
       "    }\n",
       "</style>\n",
       "<table border=\"1\" class=\"dataframe\">\n",
       "  <thead>\n",
       "    <tr style=\"text-align: right;\">\n",
       "      <th></th>\n",
       "      <th>names</th>\n",
       "      <th>split</th>\n",
       "      <th>name_cons</th>\n",
       "      <th>antares_object</th>\n",
       "      <th>name_antares_object</th>\n",
       "      <th>time</th>\n",
       "      <th>time_type</th>\n",
       "      <th>rhs</th>\n",
       "    </tr>\n",
       "  </thead>\n",
       "  <tbody>\n",
       "    <tr>\n",
       "      <th>1364</th>\n",
       "      <td>AreaHydroLevel::area&lt;2_cz00_hydro_open&gt;::hour&lt;...</td>\n",
       "      <td>[AreaHydroLevel, area&lt;2_cz00_hydro_open&gt;, hour...</td>\n",
       "      <td>AreaHydroLevel</td>\n",
       "      <td>area</td>\n",
       "      <td>2_cz00_hydro_open</td>\n",
       "      <td>2184</td>\n",
       "      <td>hour</td>\n",
       "      <td>1597.694499</td>\n",
       "    </tr>\n",
       "    <tr>\n",
       "      <th>1365</th>\n",
       "      <td>AreaHydroLevel::area&lt;2_cz00_hydro_open&gt;::hour&lt;...</td>\n",
       "      <td>[AreaHydroLevel, area&lt;2_cz00_hydro_open&gt;, hour...</td>\n",
       "      <td>AreaHydroLevel</td>\n",
       "      <td>area</td>\n",
       "      <td>2_cz00_hydro_open</td>\n",
       "      <td>2185</td>\n",
       "      <td>hour</td>\n",
       "      <td>4.875000</td>\n",
       "    </tr>\n",
       "  </tbody>\n",
       "</table>\n",
       "</div>"
      ],
      "text/plain": [
       "                                                  names  \\\n",
       "1364  AreaHydroLevel::area<2_cz00_hydro_open>::hour<...   \n",
       "1365  AreaHydroLevel::area<2_cz00_hydro_open>::hour<...   \n",
       "\n",
       "                                                  split       name_cons  \\\n",
       "1364  [AreaHydroLevel, area<2_cz00_hydro_open>, hour...  AreaHydroLevel   \n",
       "1365  [AreaHydroLevel, area<2_cz00_hydro_open>, hour...  AreaHydroLevel   \n",
       "\n",
       "     antares_object name_antares_object  time time_type          rhs  \n",
       "1364           area   2_cz00_hydro_open  2184      hour  1597.694499  \n",
       "1365           area   2_cz00_hydro_open  2185      hour     4.875000  "
      ]
     },
     "execution_count": 58,
     "metadata": {},
     "output_type": "execute_result"
    }
   ],
   "source": [
    "df_cons[(df_cons.name_cons=='AreaHydroLevel')&(df_cons.name_antares_object=='2_cz00_hydro_open')].head(2)"
   ]
  },
  {
   "cell_type": "code",
   "execution_count": 20,
   "metadata": {},
   "outputs": [
    {
     "data": {
      "text/plain": [
       "819.0"
      ]
     },
     "execution_count": 20,
     "metadata": {},
     "output_type": "execute_result"
    }
   ],
   "source": [
    "4.875000*168"
   ]
  },
  {
   "cell_type": "code",
   "execution_count": 21,
   "metadata": {},
   "outputs": [
    {
     "data": {
      "text/plain": [
       "54.08555174872666"
      ]
     },
     "execution_count": 21,
     "metadata": {},
     "output_type": "execute_result"
    }
   ],
   "source": [
    "(1597.694499-4.875000)/2945*100"
   ]
  },
  {
   "cell_type": "code",
   "execution_count": 59,
   "metadata": {},
   "outputs": [
    {
     "data": {
      "text/plain": [
       "557.483110317"
      ]
     },
     "execution_count": 59,
     "metadata": {},
     "output_type": "execute_result"
    }
   ],
   "source": [
    "sum(df_vars.loc[df_vars.name_var.isin(['HydProd','Overflow'])&(df_vars.name_antares_object=='2_cz00_hydro_open'),\"sol\"])"
   ]
  },
  {
   "cell_type": "code",
   "execution_count": 61,
   "metadata": {},
   "outputs": [
    {
     "data": {
      "text/plain": [
       "11.806498677999635"
      ]
     },
     "execution_count": 61,
     "metadata": {},
     "output_type": "execute_result"
    }
   ],
   "source": [
    "sum(df_vars.loc[df_vars.name_var.isin(['HydProd'])&(df_vars.name_antares_object=='2_cz00_hydro_open'),\"sol\"])"
   ]
  },
  {
   "cell_type": "code",
   "execution_count": 62,
   "metadata": {},
   "outputs": [
    {
     "data": {
      "text/plain": [
       "545.6766116390004"
      ]
     },
     "execution_count": 62,
     "metadata": {},
     "output_type": "execute_result"
    }
   ],
   "source": [
    "sum(df_vars.loc[df_vars.name_var.isin(['Overflow'])&(df_vars.name_antares_object=='2_cz00_hydro_open'),\"sol\"])"
   ]
  },
  {
   "cell_type": "code",
   "execution_count": 60,
   "metadata": {},
   "outputs": [
    {
     "data": {
      "text/plain": [
       "81.66003396679119"
      ]
     },
     "execution_count": 60,
     "metadata": {},
     "output_type": "execute_result"
    }
   ],
   "source": [
    "(1597.694499+4.875000*168-sum(df_vars.loc[df_vars.name_var.isin(['HydProd'])&(df_vars.name_antares_object=='2_cz00_hydro_open'),\"sol\"]))/2945*100"
   ]
  },
  {
   "cell_type": "code",
   "execution_count": 66,
   "metadata": {},
   "outputs": [
    {
     "data": {
      "text/plain": [
       "True"
      ]
     },
     "execution_count": 66,
     "metadata": {},
     "output_type": "execute_result"
    }
   ],
   "source": [
    "# Semaine 22\n",
    "2949.291666667+721-590> 2945"
   ]
  },
  {
   "cell_type": "code",
   "execution_count": 81,
   "metadata": {},
   "outputs": [
    {
     "data": {
      "text/plain": [
       "True"
      ]
     },
     "execution_count": 81,
     "metadata": {},
     "output_type": "execute_result"
    }
   ],
   "source": [
    "# Année 7, semaine 13,v_8_8\n",
    "66.617505359+854-947.93372<0"
   ]
  },
  {
   "cell_type": "code",
   "execution_count": 23,
   "metadata": {},
   "outputs": [
    {
     "data": {
      "text/plain": [
       "<seaborn.axisgrid.FacetGrid at 0x15dfb18bac0>"
      ]
     },
     "execution_count": 23,
     "metadata": {},
     "output_type": "execute_result"
    },
    {
     "data": {
      "application/vnd.jupyter.widget-view+json": {
       "model_id": "6a1f8d483c644e38a73c1c0b16c84e71",
       "version_major": 2,
       "version_minor": 0
      },
      "image/png": "[encoded data removed]",
      "text/html": [
       "\n",
       "            <div style=\"display: inline-block;\">\n",
       "                <div class=\"jupyter-widgets widget-label\" style=\"text-align: center;\">\n",
       "                    Figure\n",
       "                </div>\n",
       "                <img src='data:image/png;base64,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' width=612.125/>\n",
       "            </div>\n",
       "        "
      ],
      "text/plain": [
       "Canvas(toolbar=Toolbar(toolitems=[('Home', 'Reset original view', 'home', 'home'), ('Back', 'Back to previous …"
      ]
     },
     "metadata": {},
     "output_type": "display_data"
    }
   ],
   "source": [
    "sns.relplot(x=\"time\",y=\"sol\",data=df_vars.loc[df_vars.name_var.isin(['HydProd',\n",
    "       'Pumping', 'Overflow'])&(df_vars.name_antares_object=='2_cz00_hydro_open')],hue=\"name_var\",kind=\"line\")"
   ]
  },
  {
   "cell_type": "code",
   "execution_count": 24,
   "metadata": {},
   "outputs": [
    {
     "data": {
      "text/plain": [
       "[<matplotlib.lines.Line2D at 0x15dfedd1940>]"
      ]
     },
     "execution_count": 24,
     "metadata": {},
     "output_type": "execute_result"
    },
    {
     "data": {
      "application/vnd.jupyter.widget-view+json": {
       "model_id": "d7fa8adf19c345cb9f0282dde1ef9b97",
       "version_major": 2,
       "version_minor": 0
      },
      "image/png": "[encoded data removed]",
      "text/html": [
       "\n",
       "            <div style=\"display: inline-block;\">\n",
       "                <div class=\"jupyter-widgets widget-label\" style=\"text-align: center;\">\n",
       "                    Figure\n",
       "                </div>\n",
       "                <img src='data:image/png;base64,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' width=640.0/>\n",
       "            </div>\n",
       "        "
      ],
      "text/plain": [
       "Canvas(toolbar=Toolbar(toolitems=[('Home', 'Reset original view', 'home', 'home'), ('Back', 'Back to previous …"
      ]
     },
     "metadata": {},
     "output_type": "display_data"
    }
   ],
   "source": [
    "plt.figure()\n",
    "plt.plot(df_vars.loc[df_vars.name_var.isin(['HydroLevel'])&(df_vars.name_antares_object=='2_cz00_hydro_open'),\"sol\"].values/2945*100)"
   ]
  },
  {
   "cell_type": "code",
   "execution_count": null,
   "metadata": {},
   "outputs": [],
   "source": []
  }
 ],
 "metadata": {
  "kernelspec": {
   "display_name": ".venv",
   "language": "python",
   "name": "python3"
  },
  "language_info": {
   "codemirror_mode": {
    "name": "ipython",
    "version": 3
   },
   "file_extension": ".py",
   "mimetype": "text/x-python",
   "name": "python",
   "nbconvert_exporter": "python",
   "pygments_lexer": "ipython3",
   "version": "3.9.0"
  }
 },
 "nbformat": 4,
 "nbformat_minor": 2
}
