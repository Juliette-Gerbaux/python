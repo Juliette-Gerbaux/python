{
 "cells": [
  {
   "cell_type": "markdown",
   "metadata": {},
   "source": [
    "# Input"
   ]
  },
  {
   "cell_type": "code",
   "execution_count": 1,
   "metadata": {},
   "outputs": [],
   "source": [
    "import numpy as np\n",
    "import matplotlib.pyplot as plt\n",
    "from random import randint\n",
    "import xpress as xp\n",
    "xp.controls.outputlog = 0"
   ]
  },
  {
   "cell_type": "code",
   "execution_count": 2,
   "metadata": {},
   "outputs": [],
   "source": [
    "T = 168"
   ]
  },
  {
   "cell_type": "code",
   "execution_count": 3,
   "metadata": {},
   "outputs": [],
   "source": [
    "N = 100"
   ]
  },
  {
   "cell_type": "code",
   "execution_count": 4,
   "metadata": {},
   "outputs": [],
   "source": [
    "bornes_random = [np.sort(np.random.randint(low=0,high=10,size=(T,2)),axis=1) for i in range(N)]\n",
    "# for i in range(N):\n",
    "#     bornes_random[i][:,0] = np.zeros(T)"
   ]
  },
  {
   "cell_type": "code",
   "execution_count": 5,
   "metadata": {},
   "outputs": [],
   "source": [
    "demand_random = [np.random.rand(T)*500 for i in range(N)]"
   ]
  },
  {
   "cell_type": "code",
   "execution_count": 6,
   "metadata": {},
   "outputs": [],
   "source": [
    "p_min_max = [np.sort(np.random.rand(2))*50 for i in range(N)]"
   ]
  },
  {
   "cell_type": "code",
   "execution_count": 7,
   "metadata": {},
   "outputs": [],
   "source": [
    "delta = [randint(1,40) for i in range(N)]"
   ]
  },
  {
   "cell_type": "code",
   "execution_count": 8,
   "metadata": {},
   "outputs": [],
   "source": [
    "cost = [np.random.rand(4) for i in range(N)]"
   ]
  },
  {
   "cell_type": "code",
   "execution_count": 9,
   "metadata": {},
   "outputs": [],
   "source": [
    "def main_problem(on_min, on_max, d, demand,p_min, p_max,c_f,c_v,c_u,c_s):\n",
    "    p = xp.problem()\n",
    "    p.controls.xslp_log = -1\n",
    "\n",
    "    n = [xp.var(lb=on_min[i],ub=on_max[i]) for i in range(T)]\n",
    "    n_plus = [xp.var(lb=0) for i in range(T)]\n",
    "    n_moins = [xp.var(lb=0) for i in range(T)]\n",
    "    n_moins_moins = [xp.var(lb=0,ub=max(0,on_max[i-1]-on_max[i])) for i in range(T)]\n",
    "    unsupplied = [xp.var(lb=0) for i in range(T)]\n",
    "    prod = [xp.var(lb=0) for i in range(T)]\n",
    "\n",
    "\n",
    "    p.addVariable(n,n_plus,n_moins,n_moins_moins,unsupplied,prod)\n",
    "\n",
    "    p.addConstraint(n[i]-n[i-1] == n_plus[i]-n_moins[i] for i in range(1,T))\n",
    "    p.addConstraint(n_moins[i]>=n_moins_moins[i] for i in range(T))\n",
    "    p.addConstraint(n[i]>=xp.Sum([n_plus[k]-n_moins_moins[k] for k in range(i-d+1,i+1)]) for i in range(T))\n",
    "    p.addConstraint(n[i]<=on_max[i - d] - xp.Sum([n_moins[k]-max(0,on_max[k]-on_max[k-1]) for k in range(i-d+1,i+1)]) for i in range(T))\n",
    "    p.addConstraint(unsupplied[i]>=demand[i]-prod[i] for i in range(T))\n",
    "    p.addConstraint(prod[i]>=n[i]*p_min for i in range(T))\n",
    "    p.addConstraint(prod[i]<=n[i]*p_max for i in range(T))\n",
    "\n",
    "    p.setObjective(xp.Sum([c_u*unsupplied[i]+c_f*n[i]+c_v*prod[i]+c_s*n_plus[i] for i in range(T)]))\n",
    "\n",
    "    p.solve()\n",
    "\n",
    "    assert p.getProbStatus()==1\n",
    "\n",
    "    return p.getSolution(n,n_plus,n_moins,n_moins_moins)"
   ]
  },
  {
   "cell_type": "code",
   "execution_count": 32,
   "metadata": {},
   "outputs": [],
   "source": [
    "def heuristic_problem(on_min, on_max, d,debug=False,on_opt=None):\n",
    "    p = xp.problem()\n",
    "    p.controls.xslp_log = -1\n",
    "\n",
    "    n = [xp.var(name=f\"n_{i}\",lb=on_min[i],ub=on_max[i]) for i in range(T)]\n",
    "    n_plus = [xp.var(name=f\"n_plus_{i}\",lb=0) for i in range(T)]\n",
    "    n_moins = [xp.var(name=f\"n_moins_{i}\",lb=0) for i in range(T)]\n",
    "    n_moins_moins = [xp.var(name=f\"n__moins_moins{i}\",lb=0,ub=max(0,on_max[i-1]-on_max[i])) for i in range(T)]\n",
    "\n",
    "    p.addVariable(n,n_plus,n_moins,n_moins_moins)\n",
    "\n",
    "    if not np.all(on_opt==None):\n",
    "        p.addConstraint(n[i]==on_opt[i] for i in range(T))\n",
    "\n",
    "    p.addConstraint(n[i]-n[i-1] == n_plus[i]-n_moins[i] for i in range(1,T))\n",
    "    p.addConstraint(n_moins[i]>=n_moins_moins[i] for i in range(T))\n",
    "    p.addConstraint(n[i]>=xp.Sum([n_plus[k]-n_moins_moins[k] for k in range(i-d+1,i+1)]) for i in range(T))\n",
    "    p.addConstraint(n[i]<=on_max[i - d] - xp.Sum([n_moins[k]-max(0,on_max[k]-on_max[k-1]) for k in range(i-d+1,i+1)]) for i in range(T))\n",
    "\n",
    "    p.setObjective(xp.Sum([n[i] for i in range (T)]))\n",
    "\n",
    "    if debug:\n",
    "        p.write(\"p\", \"lp\")\n",
    "\n",
    "    p.solve()\n",
    "\n",
    "    assert p.getProbStatus()==1\n",
    "\n",
    "    return p.getSolution(n,n_plus,n_moins,n_moins_moins)"
   ]
  },
  {
   "cell_type": "markdown",
   "metadata": {},
   "source": [
    "# Itération 1"
   ]
  },
  {
   "cell_type": "code",
   "execution_count": 24,
   "metadata": {},
   "outputs": [],
   "source": [
    "itr_1 = []\n",
    "for i in range(N):\n",
    "    itr_1.append(main_problem(bornes_random[i][:,0],bornes_random[i][:,1],delta[i], demand_random[i],p_min_max[i][0],p_min_max[i][1],cost[i][0],cost[i][1],cost[i][2],cost[i][3]))"
   ]
  },
  {
   "cell_type": "code",
   "execution_count": 25,
   "metadata": {},
   "outputs": [
    {
     "ename": "AssertionError",
     "evalue": "",
     "output_type": "error",
     "traceback": [
      "\u001b[1;31m---------------------------------------------------------------------------\u001b[0m",
      "\u001b[1;31mAssertionError\u001b[0m                            Traceback (most recent call last)",
      "Cell \u001b[1;32mIn[25], line 3\u001b[0m\n\u001b[0;32m      1\u001b[0m \u001b[38;5;28;01mfor\u001b[39;00m i \u001b[38;5;129;01min\u001b[39;00m \u001b[38;5;28mrange\u001b[39m(N):\n\u001b[0;32m      2\u001b[0m     \u001b[38;5;28;01mfor\u001b[39;00m j \u001b[38;5;129;01min\u001b[39;00m \u001b[38;5;28mrange\u001b[39m(\u001b[38;5;241m4\u001b[39m):\n\u001b[1;32m----> 3\u001b[0m         \u001b[38;5;28;01massert\u001b[39;00m np\u001b[38;5;241m.\u001b[39mall(np\u001b[38;5;241m.\u001b[39mabs(np\u001b[38;5;241m.\u001b[39mround(itr_1[i][j])\u001b[38;5;241m-\u001b[39mitr_1[i][j])\u001b[38;5;241m<\u001b[39m\u001b[38;5;241m=\u001b[39m\u001b[38;5;241m1e-5\u001b[39m)\n",
      "\u001b[1;31mAssertionError\u001b[0m: "
     ]
    }
   ],
   "source": [
    "for i in range(N):\n",
    "    for j in range(4):\n",
    "        assert np.all(np.abs(np.round(itr_1[i][j])-itr_1[i][j])<=1e-5)"
   ]
  },
  {
   "cell_type": "code",
   "execution_count": 26,
   "metadata": {},
   "outputs": [
    {
     "name": "stdout",
     "output_type": "stream",
     "text": [
      "1 0\n"
     ]
    }
   ],
   "source": [
    "print(i, j )"
   ]
  },
  {
   "cell_type": "code",
   "execution_count": 27,
   "metadata": {},
   "outputs": [
    {
     "data": {
      "text/plain": [
       "(array([  1,   2,  13,  17,  21,  22,  33,  34,  38,  39,  43,  53,  71,\n",
       "         76, 113, 114, 126, 150, 151, 153, 154, 155, 165, 167], dtype=int64),)"
      ]
     },
     "execution_count": 27,
     "metadata": {},
     "output_type": "execute_result"
    }
   ],
   "source": [
    "np.where(np.abs(np.round(itr_1[i][j])-itr_1[i][j])>1e-5)"
   ]
  },
  {
   "cell_type": "code",
   "execution_count": 28,
   "metadata": {},
   "outputs": [
    {
     "data": {
      "text/plain": [
       "[9.0, 6.0, 5.0, 3.631210421652427, 8.0, 2.0, 4.0, 2.9378503736771613, 5.0, 5.0]"
      ]
     },
     "execution_count": 28,
     "metadata": {},
     "output_type": "execute_result"
    }
   ],
   "source": [
    "itr_1[i][j][10:20]"
   ]
  },
  {
   "cell_type": "markdown",
   "metadata": {},
   "source": [
    "# Ceil itération 1"
   ]
  },
  {
   "cell_type": "code",
   "execution_count": 33,
   "metadata": {},
   "outputs": [
    {
     "ename": "AssertionError",
     "evalue": "",
     "output_type": "error",
     "traceback": [
      "\u001b[1;31m---------------------------------------------------------------------------\u001b[0m",
      "\u001b[1;31mAssertionError\u001b[0m                            Traceback (most recent call last)",
      "Cell \u001b[1;32mIn[33], line 1\u001b[0m\n\u001b[1;32m----> 1\u001b[0m contraintes_respectées \u001b[38;5;241m=\u001b[39m [heuristic_problem(np\u001b[38;5;241m.\u001b[39mceil(np\u001b[38;5;241m.\u001b[39mround(itr_1[i][\u001b[38;5;241m0\u001b[39m],\u001b[38;5;241m12\u001b[39m)),bornes_random[i][:,\u001b[38;5;241m1\u001b[39m],delta[i],on_opt\u001b[38;5;241m=\u001b[39mnp\u001b[38;5;241m.\u001b[39mceil(np\u001b[38;5;241m.\u001b[39mround(itr_1[i][\u001b[38;5;241m0\u001b[39m],\u001b[38;5;241m12\u001b[39m))) \u001b[38;5;28;01mfor\u001b[39;00m i \u001b[38;5;129;01min\u001b[39;00m \u001b[38;5;28mrange\u001b[39m(N)]\n",
      "Cell \u001b[1;32mIn[33], line 1\u001b[0m, in \u001b[0;36m<listcomp>\u001b[1;34m(.0)\u001b[0m\n\u001b[1;32m----> 1\u001b[0m contraintes_respectées \u001b[38;5;241m=\u001b[39m [\u001b[43mheuristic_problem\u001b[49m\u001b[43m(\u001b[49m\u001b[43mnp\u001b[49m\u001b[38;5;241;43m.\u001b[39;49m\u001b[43mceil\u001b[49m\u001b[43m(\u001b[49m\u001b[43mnp\u001b[49m\u001b[38;5;241;43m.\u001b[39;49m\u001b[43mround\u001b[49m\u001b[43m(\u001b[49m\u001b[43mitr_1\u001b[49m\u001b[43m[\u001b[49m\u001b[43mi\u001b[49m\u001b[43m]\u001b[49m\u001b[43m[\u001b[49m\u001b[38;5;241;43m0\u001b[39;49m\u001b[43m]\u001b[49m\u001b[43m,\u001b[49m\u001b[38;5;241;43m12\u001b[39;49m\u001b[43m)\u001b[49m\u001b[43m)\u001b[49m\u001b[43m,\u001b[49m\u001b[43mbornes_random\u001b[49m\u001b[43m[\u001b[49m\u001b[43mi\u001b[49m\u001b[43m]\u001b[49m\u001b[43m[\u001b[49m\u001b[43m:\u001b[49m\u001b[43m,\u001b[49m\u001b[38;5;241;43m1\u001b[39;49m\u001b[43m]\u001b[49m\u001b[43m,\u001b[49m\u001b[43mdelta\u001b[49m\u001b[43m[\u001b[49m\u001b[43mi\u001b[49m\u001b[43m]\u001b[49m\u001b[43m,\u001b[49m\u001b[43mon_opt\u001b[49m\u001b[38;5;241;43m=\u001b[39;49m\u001b[43mnp\u001b[49m\u001b[38;5;241;43m.\u001b[39;49m\u001b[43mceil\u001b[49m\u001b[43m(\u001b[49m\u001b[43mnp\u001b[49m\u001b[38;5;241;43m.\u001b[39;49m\u001b[43mround\u001b[49m\u001b[43m(\u001b[49m\u001b[43mitr_1\u001b[49m\u001b[43m[\u001b[49m\u001b[43mi\u001b[49m\u001b[43m]\u001b[49m\u001b[43m[\u001b[49m\u001b[38;5;241;43m0\u001b[39;49m\u001b[43m]\u001b[49m\u001b[43m,\u001b[49m\u001b[38;5;241;43m12\u001b[39;49m\u001b[43m)\u001b[49m\u001b[43m)\u001b[49m\u001b[43m)\u001b[49m \u001b[38;5;28;01mfor\u001b[39;00m i \u001b[38;5;129;01min\u001b[39;00m \u001b[38;5;28mrange\u001b[39m(N)]\n",
      "Cell \u001b[1;32mIn[32], line 27\u001b[0m, in \u001b[0;36mheuristic_problem\u001b[1;34m(on_min, on_max, d, debug, on_opt)\u001b[0m\n\u001b[0;32m     23\u001b[0m     p\u001b[38;5;241m.\u001b[39mwrite(\u001b[38;5;124m\"\u001b[39m\u001b[38;5;124mp\u001b[39m\u001b[38;5;124m\"\u001b[39m, \u001b[38;5;124m\"\u001b[39m\u001b[38;5;124mlp\u001b[39m\u001b[38;5;124m\"\u001b[39m)\n\u001b[0;32m     25\u001b[0m p\u001b[38;5;241m.\u001b[39msolve()\n\u001b[1;32m---> 27\u001b[0m \u001b[38;5;28;01massert\u001b[39;00m p\u001b[38;5;241m.\u001b[39mgetProbStatus()\u001b[38;5;241m==\u001b[39m\u001b[38;5;241m1\u001b[39m\n\u001b[0;32m     29\u001b[0m \u001b[38;5;28;01mreturn\u001b[39;00m p\u001b[38;5;241m.\u001b[39mgetSolution(n,n_plus,n_moins,n_moins_moins)\n",
      "\u001b[1;31mAssertionError\u001b[0m: "
     ]
    }
   ],
   "source": [
    "contraintes_respectées = [heuristic_problem(np.ceil(np.round(itr_1[i][0],12)),bornes_random[i][:,1],delta[i],on_opt=np.ceil(np.round(itr_1[i][0],12))) for i in range(N)]"
   ]
  },
  {
   "cell_type": "code",
   "execution_count": 34,
   "metadata": {},
   "outputs": [
    {
     "name": "stdout",
     "output_type": "stream",
     "text": [
      "1\n"
     ]
    }
   ],
   "source": [
    "print(i)"
   ]
  },
  {
   "cell_type": "markdown",
   "metadata": {},
   "source": [
    "# Heuristique"
   ]
  },
  {
   "cell_type": "code",
   "execution_count": 35,
   "metadata": {},
   "outputs": [],
   "source": [
    "heuristic = [heuristic_problem(np.ceil(np.round(itr_1[i][0],12)),bornes_random[i][:,1],delta[i]) for i in range(N)]"
   ]
  },
  {
   "cell_type": "code",
   "execution_count": 36,
   "metadata": {},
   "outputs": [],
   "source": [
    "for i in range(N):\n",
    "    for j in range(4):\n",
    "        assert np.all(np.abs(np.round(heuristic[i][j])-heuristic[i][j])<=1e-5)"
   ]
  },
  {
   "cell_type": "markdown",
   "metadata": {},
   "source": [
    "# Heuristique sur aléatoire"
   ]
  },
  {
   "cell_type": "code",
   "execution_count": 37,
   "metadata": {},
   "outputs": [],
   "source": [
    "heuristic_on_random = [heuristic_problem(bornes_random[i][:,0],bornes_random[i][:,1],delta[i]) for i in range(N)]"
   ]
  },
  {
   "cell_type": "code",
   "execution_count": 38,
   "metadata": {},
   "outputs": [
    {
     "ename": "AssertionError",
     "evalue": "",
     "output_type": "error",
     "traceback": [
      "\u001b[1;31m---------------------------------------------------------------------------\u001b[0m",
      "\u001b[1;31mAssertionError\u001b[0m                            Traceback (most recent call last)",
      "Cell \u001b[1;32mIn[38], line 3\u001b[0m\n\u001b[0;32m      1\u001b[0m \u001b[38;5;28;01mfor\u001b[39;00m i \u001b[38;5;129;01min\u001b[39;00m \u001b[38;5;28mrange\u001b[39m(N):\n\u001b[0;32m      2\u001b[0m     \u001b[38;5;28;01mfor\u001b[39;00m j \u001b[38;5;129;01min\u001b[39;00m \u001b[38;5;28mrange\u001b[39m(\u001b[38;5;241m4\u001b[39m):\n\u001b[1;32m----> 3\u001b[0m         \u001b[38;5;28;01massert\u001b[39;00m np\u001b[38;5;241m.\u001b[39mall(np\u001b[38;5;241m.\u001b[39mabs(np\u001b[38;5;241m.\u001b[39mround(heuristic_on_random[i][j])\u001b[38;5;241m-\u001b[39mheuristic_on_random[i][j])\u001b[38;5;241m<\u001b[39m\u001b[38;5;241m=\u001b[39m\u001b[38;5;241m1e-5\u001b[39m)\n",
      "\u001b[1;31mAssertionError\u001b[0m: "
     ]
    }
   ],
   "source": [
    "for i in range(N):\n",
    "    for j in range(4):\n",
    "        assert np.all(np.abs(np.round(heuristic_on_random[i][j])-heuristic_on_random[i][j])<=1e-5)"
   ]
  },
  {
   "cell_type": "code",
   "execution_count": 39,
   "metadata": {},
   "outputs": [
    {
     "name": "stdout",
     "output_type": "stream",
     "text": [
      "43 0\n"
     ]
    }
   ],
   "source": [
    "print(i, j)"
   ]
  },
  {
   "cell_type": "code",
   "execution_count": 40,
   "metadata": {},
   "outputs": [
    {
     "data": {
      "text/plain": [
       "(array([166], dtype=int64),)"
      ]
     },
     "execution_count": 40,
     "metadata": {},
     "output_type": "execute_result"
    }
   ],
   "source": [
    "np.where(np.abs(np.round(heuristic_on_random[i][j])-heuristic_on_random[i][j])>1e-5)"
   ]
  },
  {
   "cell_type": "code",
   "execution_count": 41,
   "metadata": {},
   "outputs": [
    {
     "data": {
      "text/plain": [
       "[6.0, 3.5, 4.0]"
      ]
     },
     "execution_count": 41,
     "metadata": {},
     "output_type": "execute_result"
    }
   ],
   "source": [
    "heuristic_on_random[i][j][165:]"
   ]
  },
  {
   "cell_type": "code",
   "execution_count": null,
   "metadata": {},
   "outputs": [],
   "source": []
  }
 ],
 "metadata": {
  "kernelspec": {
   "display_name": ".venv",
   "language": "python",
   "name": "python3"
  },
  "language_info": {
   "codemirror_mode": {
    "name": "ipython",
    "version": 3
   },
   "file_extension": ".py",
   "mimetype": "text/x-python",
   "name": "python",
   "nbconvert_exporter": "python",
   "pygments_lexer": "ipython3",
   "version": "3.9.0"
  }
 },
 "nbformat": 4,
 "nbformat_minor": 2
}
