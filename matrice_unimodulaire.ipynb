{
 "cells": [
  {
   "cell_type": "markdown",
   "metadata": {},
   "source": [
    "# Input"
   ]
  },
  {
   "cell_type": "code",
   "execution_count": 1,
   "metadata": {},
   "outputs": [],
   "source": [
    "import numpy as np\n",
    "import matplotlib.pyplot as plt\n",
    "from random import randint\n",
    "import xpress as xp\n",
    "xp.controls.outputlog = 0"
   ]
  },
  {
   "cell_type": "code",
   "execution_count": 2,
   "metadata": {},
   "outputs": [],
   "source": [
    "T = 168"
   ]
  },
  {
   "cell_type": "code",
   "execution_count": 3,
   "metadata": {},
   "outputs": [],
   "source": [
    "N = 100"
   ]
  },
  {
   "cell_type": "code",
   "execution_count": 4,
   "metadata": {},
   "outputs": [],
   "source": [
    "bornes_random = [np.sort(np.random.randint(low=0,high=10,size=(T,2)),axis=1) for i in range(N)]\n",
    "# for i in range(N):\n",
    "#     bornes_random[i][:,0] = np.zeros(T)"
   ]
  },
  {
   "cell_type": "code",
   "execution_count": 5,
   "metadata": {},
   "outputs": [],
   "source": [
    "production_random = [np.random.rand(T)*10 for i in range(N)]"
   ]
  },
  {
   "cell_type": "code",
   "execution_count": 6,
   "metadata": {},
   "outputs": [],
   "source": [
    "delta = [randint(1,40) for i in range(N)]"
   ]
  },
  {
   "cell_type": "code",
   "execution_count": 7,
   "metadata": {},
   "outputs": [
    {
     "data": {
      "text/plain": [
       "168"
      ]
     },
     "execution_count": 7,
     "metadata": {},
     "output_type": "execute_result"
    }
   ],
   "source": [
    "len(production_random[0])"
   ]
  },
  {
   "cell_type": "code",
   "execution_count": 8,
   "metadata": {},
   "outputs": [],
   "source": [
    "def main_problem(on_min, on_max, d, prod):\n",
    "    p = xp.problem()\n",
    "    p.controls.xslp_log = -1\n",
    "\n",
    "    n = [xp.var(lb=on_min[i],ub=on_max[i]) for i in range(T)]\n",
    "    n_plus = [xp.var(lb=0) for i in range(T)]\n",
    "    n_moins = [xp.var(lb=0) for i in range(T)]\n",
    "    n_moins_moins = [xp.var(lb=0,ub=max(0,on_max[i-1]-on_max[i])) for i in range(T)]\n",
    "    unsupplied = [xp.var(lb=0) for i in range(T)]\n",
    "\n",
    "    p.addVariable(n,n_plus,n_moins,n_moins_moins,unsupplied)\n",
    "\n",
    "    p.addConstraint(n[i]-n[i-1] == n_plus[i]-n_moins[i] for i in range(1,T))\n",
    "    p.addConstraint(n_moins[i]>=n_moins_moins[i] for i in range(T))\n",
    "    p.addConstraint(n[i]>=xp.Sum([n_plus[k]-n_moins_moins[k] for k in range(i-d+1,i+1)]) for i in range(T))\n",
    "    p.addConstraint(n[i]<=on_max[i - d] - xp.Sum([n_moins[k]-max(0,on_max[k]-on_max[k-1]) for k in range(i-d+1,i+1)]) for i in range(T))\n",
    "    p.addConstraint(unsupplied[i]>=prod[i]-n[i] for i in range(T))\n",
    "\n",
    "    p.setObjective(xp.Sum(unsupplied))\n",
    "\n",
    "    p.solve()\n",
    "\n",
    "    assert p.getProbStatus()==1\n",
    "\n",
    "    return p.getSolution(n,n_plus,n_moins,n_moins_moins)"
   ]
  },
  {
   "cell_type": "code",
   "execution_count": 9,
   "metadata": {},
   "outputs": [],
   "source": [
    "def heuristic_problem(on_min, on_max, d,debug=False):\n",
    "    p = xp.problem()\n",
    "    p.controls.xslp_log = -1\n",
    "\n",
    "    n = [xp.var(name=f\"n_{i}\",lb=on_min[i],ub=on_max[i]) for i in range(T)]\n",
    "    n_plus = [xp.var(name=f\"n_plus_{i}\",lb=0) for i in range(T)]\n",
    "    n_moins = [xp.var(name=f\"n_moins_{i}\",lb=0) for i in range(T)]\n",
    "    n_moins_moins = [xp.var(name=f\"n__moins_moins{i}\",lb=0,ub=max(0,on_max[i-1]-on_max[i])) for i in range(T)]\n",
    "\n",
    "    p.addVariable(n,n_plus,n_moins,n_moins_moins)\n",
    "\n",
    "    p.addConstraint(n[i]-n[i-1] == n_plus[i]-n_moins[i] for i in range(1,T))\n",
    "    p.addConstraint(n_moins[i]>=n_moins_moins[i] for i in range(T))\n",
    "    p.addConstraint(n[i]>=xp.Sum([n_plus[k]-n_moins_moins[k] for k in range(i-d+1,i+1)]) for i in range(T))\n",
    "    p.addConstraint(n[i]<=on_max[i - d] - xp.Sum([n_moins[k]-max(0,on_max[k]-on_max[k-1]) for k in range(i-d+1,i+1)]) for i in range(T))\n",
    "\n",
    "    p.setObjective(xp.Sum([n[i] for i in range (T)]))\n",
    "\n",
    "    if debug:\n",
    "        p.write(\"p\", \"lp\")\n",
    "\n",
    "    p.solve()\n",
    "\n",
    "    assert p.getProbStatus()==1\n",
    "\n",
    "    return p.getSolution(n,n_plus,n_moins,n_moins_moins)"
   ]
  },
  {
   "cell_type": "markdown",
   "metadata": {},
   "source": [
    "# Itération 1"
   ]
  },
  {
   "cell_type": "code",
   "execution_count": 10,
   "metadata": {},
   "outputs": [],
   "source": [
    "itr_1 = []\n",
    "for i in range(N):\n",
    "    itr_1.append(main_problem(bornes_random[i][:,0],bornes_random[i][:,1],delta[i], production_random[i]))"
   ]
  },
  {
   "cell_type": "code",
   "execution_count": 11,
   "metadata": {},
   "outputs": [
    {
     "ename": "AssertionError",
     "evalue": "",
     "output_type": "error",
     "traceback": [
      "\u001b[1;31m---------------------------------------------------------------------------\u001b[0m",
      "\u001b[1;31mAssertionError\u001b[0m                            Traceback (most recent call last)",
      "Cell \u001b[1;32mIn[11], line 3\u001b[0m\n\u001b[0;32m      1\u001b[0m \u001b[38;5;28;01mfor\u001b[39;00m i \u001b[38;5;129;01min\u001b[39;00m \u001b[38;5;28mrange\u001b[39m(N):\n\u001b[0;32m      2\u001b[0m     \u001b[38;5;28;01mfor\u001b[39;00m j \u001b[38;5;129;01min\u001b[39;00m \u001b[38;5;28mrange\u001b[39m(\u001b[38;5;241m4\u001b[39m):\n\u001b[1;32m----> 3\u001b[0m         \u001b[38;5;28;01massert\u001b[39;00m np\u001b[38;5;241m.\u001b[39mall(np\u001b[38;5;241m.\u001b[39mabs(np\u001b[38;5;241m.\u001b[39mround(itr_1[i][j])\u001b[38;5;241m-\u001b[39mitr_1[i][j])\u001b[38;5;241m<\u001b[39m\u001b[38;5;241m=\u001b[39m\u001b[38;5;241m1e-5\u001b[39m)\n",
      "\u001b[1;31mAssertionError\u001b[0m: "
     ]
    }
   ],
   "source": [
    "for i in range(N):\n",
    "    for j in range(4):\n",
    "        assert np.all(np.abs(np.round(itr_1[i][j])-itr_1[i][j])<=1e-5)"
   ]
  },
  {
   "cell_type": "code",
   "execution_count": 12,
   "metadata": {},
   "outputs": [
    {
     "name": "stdout",
     "output_type": "stream",
     "text": [
      "0 0\n"
     ]
    }
   ],
   "source": [
    "print(i, j )"
   ]
  },
  {
   "cell_type": "code",
   "execution_count": 13,
   "metadata": {},
   "outputs": [
    {
     "data": {
      "text/plain": [
       "(array([  2,  11,  12,  18,  19,  22,  23,  28,  32,  33,  34,  36,  37,\n",
       "         59,  60,  62,  77,  91,  92,  98,  99, 102, 103, 110, 111, 116,\n",
       "        117, 118, 127, 128, 129, 130, 131, 133, 139, 145, 146, 147, 166,\n",
       "        167], dtype=int64),)"
      ]
     },
     "execution_count": 13,
     "metadata": {},
     "output_type": "execute_result"
    }
   ],
   "source": [
    "np.where(np.abs(np.round(itr_1[i][j])-itr_1[i][j])>1e-5)"
   ]
  },
  {
   "cell_type": "code",
   "execution_count": 14,
   "metadata": {},
   "outputs": [
    {
     "data": {
      "text/plain": [
       "[6.0, 6.0, 7.477442564799435, 7.0, 0.0, 6.0, 5.0, 7.0, 7.0, 8.0]"
      ]
     },
     "execution_count": 14,
     "metadata": {},
     "output_type": "execute_result"
    }
   ],
   "source": [
    "itr_1[i][j][:10]"
   ]
  },
  {
   "cell_type": "markdown",
   "metadata": {},
   "source": [
    "# Ceil itération 1"
   ]
  },
  {
   "cell_type": "code",
   "execution_count": 15,
   "metadata": {},
   "outputs": [],
   "source": [
    "contraintes_respectées = [heuristic_problem(np.ceil(np.round(itr_1[i][0],12)),np.ceil(np.round(itr_1[i][0],12)),delta[i]) for i in range(N)]"
   ]
  },
  {
   "cell_type": "code",
   "execution_count": 16,
   "metadata": {},
   "outputs": [],
   "source": [
    "for i in range(N):\n",
    "    for j in range(4):\n",
    "        assert np.all(np.abs(np.round(contraintes_respectées[i][j],decimals=0)-contraintes_respectées[i][j])<=1e-5)"
   ]
  },
  {
   "cell_type": "markdown",
   "metadata": {},
   "source": [
    "# Heuristique"
   ]
  },
  {
   "cell_type": "code",
   "execution_count": 17,
   "metadata": {},
   "outputs": [],
   "source": [
    "heuristic = [heuristic_problem(np.ceil(np.round(itr_1[i][0],12)),bornes_random[i][:,1],delta[i]) for i in range(N)]"
   ]
  },
  {
   "cell_type": "code",
   "execution_count": 18,
   "metadata": {},
   "outputs": [],
   "source": [
    "for i in range(N):\n",
    "    for j in range(4):\n",
    "        assert np.all(np.abs(np.round(heuristic[i][j])-heuristic[i][j])<=1e-5)"
   ]
  },
  {
   "cell_type": "markdown",
   "metadata": {},
   "source": [
    "# Heuristique sur aléatoire"
   ]
  },
  {
   "cell_type": "code",
   "execution_count": 21,
   "metadata": {},
   "outputs": [],
   "source": [
    "heuristic_on_random = [heuristic_problem(bornes_random[i][:,0],bornes_random[i][:,1],delta[i]) for i in range(N)]"
   ]
  },
  {
   "cell_type": "code",
   "execution_count": 22,
   "metadata": {},
   "outputs": [
    {
     "ename": "AssertionError",
     "evalue": "",
     "output_type": "error",
     "traceback": [
      "\u001b[1;31m---------------------------------------------------------------------------\u001b[0m",
      "\u001b[1;31mAssertionError\u001b[0m                            Traceback (most recent call last)",
      "Cell \u001b[1;32mIn[22], line 3\u001b[0m\n\u001b[0;32m      1\u001b[0m \u001b[38;5;28;01mfor\u001b[39;00m i \u001b[38;5;129;01min\u001b[39;00m \u001b[38;5;28mrange\u001b[39m(N):\n\u001b[0;32m      2\u001b[0m     \u001b[38;5;28;01mfor\u001b[39;00m j \u001b[38;5;129;01min\u001b[39;00m \u001b[38;5;28mrange\u001b[39m(\u001b[38;5;241m4\u001b[39m):\n\u001b[1;32m----> 3\u001b[0m         \u001b[38;5;28;01massert\u001b[39;00m np\u001b[38;5;241m.\u001b[39mall(np\u001b[38;5;241m.\u001b[39mabs(np\u001b[38;5;241m.\u001b[39mround(heuristic_on_random[i][j])\u001b[38;5;241m-\u001b[39mheuristic_on_random[i][j])\u001b[38;5;241m<\u001b[39m\u001b[38;5;241m=\u001b[39m\u001b[38;5;241m1e-5\u001b[39m)\n",
      "\u001b[1;31mAssertionError\u001b[0m: "
     ]
    }
   ],
   "source": [
    "for i in range(N):\n",
    "    for j in range(4):\n",
    "        assert np.all(np.abs(np.round(heuristic_on_random[i][j])-heuristic_on_random[i][j])<=1e-5)"
   ]
  },
  {
   "cell_type": "code",
   "execution_count": 23,
   "metadata": {},
   "outputs": [
    {
     "name": "stdout",
     "output_type": "stream",
     "text": [
      "13 0\n"
     ]
    }
   ],
   "source": [
    "print(i, j)"
   ]
  },
  {
   "cell_type": "code",
   "execution_count": 24,
   "metadata": {},
   "outputs": [
    {
     "data": {
      "text/plain": [
       "(array([105, 120, 121, 123, 126], dtype=int64),)"
      ]
     },
     "execution_count": 24,
     "metadata": {},
     "output_type": "execute_result"
    }
   ],
   "source": [
    "np.where(np.abs(np.round(heuristic_on_random[i][j])-heuristic_on_random[i][j])>1e-5)"
   ]
  },
  {
   "cell_type": "code",
   "execution_count": 26,
   "metadata": {},
   "outputs": [
    {
     "data": {
      "text/plain": [
       "[2.5, 2.5, 8.0, 2.5, 5.0, 7.0, 6.5, 6.0, 4.0, 3.0]"
      ]
     },
     "execution_count": 26,
     "metadata": {},
     "output_type": "execute_result"
    }
   ],
   "source": [
    "heuristic_on_random[i][j][120:130]"
   ]
  },
  {
   "cell_type": "code",
   "execution_count": null,
   "metadata": {},
   "outputs": [],
   "source": []
  }
 ],
 "metadata": {
  "kernelspec": {
   "display_name": ".venv",
   "language": "python",
   "name": "python3"
  },
  "language_info": {
   "codemirror_mode": {
    "name": "ipython",
    "version": 3
   },
   "file_extension": ".py",
   "mimetype": "text/x-python",
   "name": "python",
   "nbconvert_exporter": "python",
   "pygments_lexer": "ipython3",
   "version": "3.9.0"
  }
 },
 "nbformat": 4,
 "nbformat_minor": 2
}
