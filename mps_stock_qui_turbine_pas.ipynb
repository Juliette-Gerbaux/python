{
 "cells": [
  {
   "cell_type": "code",
   "execution_count": 1,
   "metadata": {},
   "outputs": [],
   "source": [
    "import xpress as xp\n",
    "import numpy as np\n",
    "import matplotlib.pyplot as plt\n",
    "import pandas as pd\n",
    "import seaborn as sns"
   ]
  },
  {
   "cell_type": "code",
   "execution_count": 2,
   "metadata": {},
   "outputs": [],
   "source": [
    "%load_ext line_profiler"
   ]
  },
  {
   "cell_type": "code",
   "execution_count": 3,
   "metadata": {},
   "outputs": [],
   "source": [
    "%matplotlib widget"
   ]
  },
  {
   "cell_type": "code",
   "execution_count": 4,
   "metadata": {},
   "outputs": [],
   "source": [
    "xp.controls.outputlog = 0\n",
    "xp.controls.threads = 1\n",
    "xp.controls.scaling = 0\n",
    "xp.controls.presolve = 0\n",
    "xp.controls.feastol = 1.e-7\n",
    "xp.controls.optimalitytol = 1.e-7\n",
    "xp.setOutputEnabled(False)"
   ]
  },
  {
   "cell_type": "code",
   "execution_count": 5,
   "metadata": {},
   "outputs": [],
   "source": [
    "study_path = \"D:/Users/gerbauxjul/Documents/6-Etudes Antares/stock_qui_ne_turbine_pas\"\n",
    "output_path = study_path+\"/output/20240807-0935eco-exportmps_8_8\""
   ]
  },
  {
   "cell_type": "code",
   "execution_count": 6,
   "metadata": {},
   "outputs": [],
   "source": [
    "def retrieve_problem(year,week,output_path,itr=1):\n",
    "    model = xp.problem()\n",
    "    model.read(output_path+f\"/problem-{year}-{week}--optim-nb-{itr}.mps\")\n",
    "    return(model)\n",
    "\n",
    "def modify_objective(model, u):\n",
    "    cst = model.getConstraint()\n",
    "    binding_id = [i for i in range(len(cst)) if \"WeeklyWaterAmount\" in cst[i].name]\n",
    "    model.chgrhs(binding_id,[u])\n",
    "    return(model)\n",
    "\n",
    "def milp_version(model):\n",
    "    vars = model.getVariable()\n",
    "    interger_vars = [i for i in range(len(vars)) if vars[i].name.strip().split(\"::\")[0] in ['NODU', 'NumberBreakingDownDispatchableUnits', 'NumberStartingDispatchableUnits','NumberStoppingDispatchableUnits']]\n",
    "    for i in interger_vars:\n",
    "        model.chgcoltype([vars[i]],'I')\n",
    "    return(model)"
   ]
  },
  {
   "cell_type": "code",
   "execution_count": 8,
   "metadata": {},
   "outputs": [],
   "source": [
    "week = 7297//168+1"
   ]
  },
  {
   "cell_type": "code",
   "execution_count": 9,
   "metadata": {},
   "outputs": [],
   "source": [
    "m = retrieve_problem(25,week,output_path,itr=1)"
   ]
  },
  {
   "cell_type": "code",
   "execution_count": 10,
   "metadata": {},
   "outputs": [
    {
     "data": {
      "text/plain": [
       "450744"
      ]
     },
     "execution_count": 10,
     "metadata": {},
     "output_type": "execute_result"
    }
   ],
   "source": [
    "vars = m.getVariable()\n",
    "len(vars)"
   ]
  },
  {
   "cell_type": "code",
   "execution_count": 11,
   "metadata": {},
   "outputs": [
    {
     "data": {
      "text/plain": [
       "66547"
      ]
     },
     "execution_count": 11,
     "metadata": {},
     "output_type": "execute_result"
    }
   ],
   "source": [
    "cons = m.getConstraint()\n",
    "len(cons)"
   ]
  },
  {
   "cell_type": "code",
   "execution_count": 13,
   "metadata": {},
   "outputs": [
    {
     "data": {
      "text/plain": [
       "2036187145568.7944"
      ]
     },
     "execution_count": 13,
     "metadata": {},
     "output_type": "execute_result"
    }
   ],
   "source": [
    "m.solve()\n",
    "m.getObjVal()"
   ]
  },
  {
   "cell_type": "code",
   "execution_count": 15,
   "metadata": {},
   "outputs": [],
   "source": [
    "df_vars = pd.DataFrame(vars, columns=[\"names\"])\n",
    "df_vars[\"split\"] = df_vars[\"names\"].apply(lambda x:x.name.strip().split(\"::\"))\n",
    "df_vars[\"name_var\"] = df_vars[\"split\"].apply(lambda x:x[0])\n",
    "df_vars[\"antares_object\"] = df_vars[\"split\"].apply(lambda x:x[1].split(\"<\")[0])\n",
    "df_vars[\"name_antares_object\"] = df_vars[\"split\"].apply(lambda x:x[1].split(\"<\")[1].split(\">\")[0])\n",
    "df_vars[\"subobject\"] = df_vars[\"split\"].apply(lambda x:x[2] if len(x)>=4 else \"None\")\n",
    "df_vars[\"time\"] = df_vars[\"split\"].apply(lambda x:int(x[-1].split(\"<\")[1].split(\">\")[0]))\n",
    "df_vars[\"time_type\"] = df_vars[\"split\"].apply(lambda x:x[-1].split(\"<\")[0])\n",
    "coltype = []\n",
    "m.getcoltype(coltype, 0, m.attributes.cols - 1)\n",
    "df_vars['coltype'] = coltype\n",
    "bounds = []\n",
    "m.getlb(bounds, 0, m.attributes.cols - 1)\n",
    "df_vars['lb'] = bounds\n",
    "bounds = []\n",
    "m.getub(bounds, 0, m.attributes.cols - 1)\n",
    "df_vars['ub'] = bounds\n",
    "objcoef = []\n",
    "m.getobj(objcoef,0,m.attributes.cols-1)\n",
    "df_vars= df_vars.assign(coeff=[objcoef[i] for i in range(m.attributes.cols)])\n",
    "# df_vars = df_vars.assign(sol=[m.getSolution(i) for i in range(m.attributes.cols)])\n",
    "# df_vars = df_vars.assign(obj = lambda x: np.round(df_vars['sol'],6)*np.round(df_vars['coeff'],6))"
   ]
  },
  {
   "cell_type": "code",
   "execution_count": 16,
   "metadata": {},
   "outputs": [
    {
     "data": {
      "text/html": [
       "<div>\n",
       "<style scoped>\n",
       "    .dataframe tbody tr th:only-of-type {\n",
       "        vertical-align: middle;\n",
       "    }\n",
       "\n",
       "    .dataframe tbody tr th {\n",
       "        vertical-align: top;\n",
       "    }\n",
       "\n",
       "    .dataframe thead th {\n",
       "        text-align: right;\n",
       "    }\n",
       "</style>\n",
       "<table border=\"1\" class=\"dataframe\">\n",
       "  <thead>\n",
       "    <tr style=\"text-align: right;\">\n",
       "      <th></th>\n",
       "      <th>names</th>\n",
       "      <th>split</th>\n",
       "      <th>name_var</th>\n",
       "      <th>antares_object</th>\n",
       "      <th>name_antares_object</th>\n",
       "      <th>subobject</th>\n",
       "      <th>time</th>\n",
       "      <th>time_type</th>\n",
       "      <th>coltype</th>\n",
       "      <th>lb</th>\n",
       "      <th>ub</th>\n",
       "      <th>coeff</th>\n",
       "    </tr>\n",
       "  </thead>\n",
       "  <tbody>\n",
       "    <tr>\n",
       "      <th>0</th>\n",
       "      <td>NTCDirect::link&lt;0_pump_open$$2_at00_hydro_open...</td>\n",
       "      <td>[NTCDirect, link&lt;0_pump_open$$2_at00_hydro_ope...</td>\n",
       "      <td>NTCDirect</td>\n",
       "      <td>link</td>\n",
       "      <td>0_pump_open$$2_at00_hydro_open</td>\n",
       "      <td>None</td>\n",
       "      <td>7224</td>\n",
       "      <td>hour</td>\n",
       "      <td>C</td>\n",
       "      <td>-2859.0</td>\n",
       "      <td>0.000000</td>\n",
       "      <td>0.000000</td>\n",
       "    </tr>\n",
       "    <tr>\n",
       "      <th>1</th>\n",
       "      <td>NTCDirect::link&lt;0_pump_open$$2_ba00_hydro_open...</td>\n",
       "      <td>[NTCDirect, link&lt;0_pump_open$$2_ba00_hydro_ope...</td>\n",
       "      <td>NTCDirect</td>\n",
       "      <td>link</td>\n",
       "      <td>0_pump_open$$2_ba00_hydro_open</td>\n",
       "      <td>None</td>\n",
       "      <td>7224</td>\n",
       "      <td>hour</td>\n",
       "      <td>C</td>\n",
       "      <td>-440.0</td>\n",
       "      <td>0.000000</td>\n",
       "      <td>0.000000</td>\n",
       "    </tr>\n",
       "    <tr>\n",
       "      <th>2</th>\n",
       "      <td>NTCDirect::link&lt;0_pump_open$$2_bg00_hydro_open...</td>\n",
       "      <td>[NTCDirect, link&lt;0_pump_open$$2_bg00_hydro_ope...</td>\n",
       "      <td>NTCDirect</td>\n",
       "      <td>link</td>\n",
       "      <td>0_pump_open$$2_bg00_hydro_open</td>\n",
       "      <td>None</td>\n",
       "      <td>7224</td>\n",
       "      <td>hour</td>\n",
       "      <td>C</td>\n",
       "      <td>-148.0</td>\n",
       "      <td>0.000000</td>\n",
       "      <td>0.000000</td>\n",
       "    </tr>\n",
       "    <tr>\n",
       "      <th>3</th>\n",
       "      <td>NTCDirect::link&lt;0_pump_open$$2_cz00_hydro_open...</td>\n",
       "      <td>[NTCDirect, link&lt;0_pump_open$$2_cz00_hydro_ope...</td>\n",
       "      <td>NTCDirect</td>\n",
       "      <td>link</td>\n",
       "      <td>0_pump_open$$2_cz00_hydro_open</td>\n",
       "      <td>None</td>\n",
       "      <td>7224</td>\n",
       "      <td>hour</td>\n",
       "      <td>C</td>\n",
       "      <td>-438.0</td>\n",
       "      <td>0.000000</td>\n",
       "      <td>0.000000</td>\n",
       "    </tr>\n",
       "    <tr>\n",
       "      <th>4</th>\n",
       "      <td>NTCDirect::link&lt;0_pump_open$$2_de00_hydro_open...</td>\n",
       "      <td>[NTCDirect, link&lt;0_pump_open$$2_de00_hydro_ope...</td>\n",
       "      <td>NTCDirect</td>\n",
       "      <td>link</td>\n",
       "      <td>0_pump_open$$2_de00_hydro_open</td>\n",
       "      <td>None</td>\n",
       "      <td>7224</td>\n",
       "      <td>hour</td>\n",
       "      <td>C</td>\n",
       "      <td>-1361.0</td>\n",
       "      <td>0.000000</td>\n",
       "      <td>0.000000</td>\n",
       "    </tr>\n",
       "    <tr>\n",
       "      <th>...</th>\n",
       "      <td>...</td>\n",
       "      <td>...</td>\n",
       "      <td>...</td>\n",
       "      <td>...</td>\n",
       "      <td>...</td>\n",
       "      <td>...</td>\n",
       "      <td>...</td>\n",
       "      <td>...</td>\n",
       "      <td>...</td>\n",
       "      <td>...</td>\n",
       "      <td>...</td>\n",
       "      <td>...</td>\n",
       "    </tr>\n",
       "    <tr>\n",
       "      <th>450739</th>\n",
       "      <td>HydProd::area&lt;ro00&gt;::hour&lt;7391&gt;               ...</td>\n",
       "      <td>[HydProd, area&lt;ro00&gt;, hour&lt;7391&gt;]</td>\n",
       "      <td>HydProd</td>\n",
       "      <td>area</td>\n",
       "      <td>ro00</td>\n",
       "      <td>None</td>\n",
       "      <td>7391</td>\n",
       "      <td>hour</td>\n",
       "      <td>C</td>\n",
       "      <td>0.0</td>\n",
       "      <td>1934.804786</td>\n",
       "      <td>0.000672</td>\n",
       "    </tr>\n",
       "    <tr>\n",
       "      <th>450740</th>\n",
       "      <td>HydProd::area&lt;rs00&gt;::hour&lt;7391&gt;               ...</td>\n",
       "      <td>[HydProd, area&lt;rs00&gt;, hour&lt;7391&gt;]</td>\n",
       "      <td>HydProd</td>\n",
       "      <td>area</td>\n",
       "      <td>rs00</td>\n",
       "      <td>None</td>\n",
       "      <td>7391</td>\n",
       "      <td>hour</td>\n",
       "      <td>C</td>\n",
       "      <td>0.0</td>\n",
       "      <td>421.000000</td>\n",
       "      <td>-0.000889</td>\n",
       "    </tr>\n",
       "    <tr>\n",
       "      <th>450741</th>\n",
       "      <td>HydProd::area&lt;se03&gt;::hour&lt;7391&gt;               ...</td>\n",
       "      <td>[HydProd, area&lt;se03&gt;, hour&lt;7391&gt;]</td>\n",
       "      <td>HydProd</td>\n",
       "      <td>area</td>\n",
       "      <td>se03</td>\n",
       "      <td>None</td>\n",
       "      <td>7391</td>\n",
       "      <td>hour</td>\n",
       "      <td>C</td>\n",
       "      <td>0.0</td>\n",
       "      <td>1793.000000</td>\n",
       "      <td>-0.000947</td>\n",
       "    </tr>\n",
       "    <tr>\n",
       "      <th>450742</th>\n",
       "      <td>HydProd::area&lt;se04&gt;::hour&lt;7391&gt;               ...</td>\n",
       "      <td>[HydProd, area&lt;se04&gt;, hour&lt;7391&gt;]</td>\n",
       "      <td>HydProd</td>\n",
       "      <td>area</td>\n",
       "      <td>se04</td>\n",
       "      <td>None</td>\n",
       "      <td>7391</td>\n",
       "      <td>hour</td>\n",
       "      <td>C</td>\n",
       "      <td>0.0</td>\n",
       "      <td>231.000000</td>\n",
       "      <td>0.000906</td>\n",
       "    </tr>\n",
       "    <tr>\n",
       "      <th>450743</th>\n",
       "      <td>HydProd::area&lt;tr00&gt;::hour&lt;7391&gt;               ...</td>\n",
       "      <td>[HydProd, area&lt;tr00&gt;, hour&lt;7391&gt;]</td>\n",
       "      <td>HydProd</td>\n",
       "      <td>area</td>\n",
       "      <td>tr00</td>\n",
       "      <td>None</td>\n",
       "      <td>7391</td>\n",
       "      <td>hour</td>\n",
       "      <td>C</td>\n",
       "      <td>0.0</td>\n",
       "      <td>9859.883436</td>\n",
       "      <td>0.000843</td>\n",
       "    </tr>\n",
       "  </tbody>\n",
       "</table>\n",
       "<p>450744 rows × 12 columns</p>\n",
       "</div>"
      ],
      "text/plain": [
       "                                                    names  \\\n",
       "0       NTCDirect::link<0_pump_open$$2_at00_hydro_open...   \n",
       "1       NTCDirect::link<0_pump_open$$2_ba00_hydro_open...   \n",
       "2       NTCDirect::link<0_pump_open$$2_bg00_hydro_open...   \n",
       "3       NTCDirect::link<0_pump_open$$2_cz00_hydro_open...   \n",
       "4       NTCDirect::link<0_pump_open$$2_de00_hydro_open...   \n",
       "...                                                   ...   \n",
       "450739  HydProd::area<ro00>::hour<7391>               ...   \n",
       "450740  HydProd::area<rs00>::hour<7391>               ...   \n",
       "450741  HydProd::area<se03>::hour<7391>               ...   \n",
       "450742  HydProd::area<se04>::hour<7391>               ...   \n",
       "450743  HydProd::area<tr00>::hour<7391>               ...   \n",
       "\n",
       "                                                    split   name_var  \\\n",
       "0       [NTCDirect, link<0_pump_open$$2_at00_hydro_ope...  NTCDirect   \n",
       "1       [NTCDirect, link<0_pump_open$$2_ba00_hydro_ope...  NTCDirect   \n",
       "2       [NTCDirect, link<0_pump_open$$2_bg00_hydro_ope...  NTCDirect   \n",
       "3       [NTCDirect, link<0_pump_open$$2_cz00_hydro_ope...  NTCDirect   \n",
       "4       [NTCDirect, link<0_pump_open$$2_de00_hydro_ope...  NTCDirect   \n",
       "...                                                   ...        ...   \n",
       "450739                  [HydProd, area<ro00>, hour<7391>]    HydProd   \n",
       "450740                  [HydProd, area<rs00>, hour<7391>]    HydProd   \n",
       "450741                  [HydProd, area<se03>, hour<7391>]    HydProd   \n",
       "450742                  [HydProd, area<se04>, hour<7391>]    HydProd   \n",
       "450743                  [HydProd, area<tr00>, hour<7391>]    HydProd   \n",
       "\n",
       "       antares_object             name_antares_object subobject  time  \\\n",
       "0                link  0_pump_open$$2_at00_hydro_open      None  7224   \n",
       "1                link  0_pump_open$$2_ba00_hydro_open      None  7224   \n",
       "2                link  0_pump_open$$2_bg00_hydro_open      None  7224   \n",
       "3                link  0_pump_open$$2_cz00_hydro_open      None  7224   \n",
       "4                link  0_pump_open$$2_de00_hydro_open      None  7224   \n",
       "...               ...                             ...       ...   ...   \n",
       "450739           area                            ro00      None  7391   \n",
       "450740           area                            rs00      None  7391   \n",
       "450741           area                            se03      None  7391   \n",
       "450742           area                            se04      None  7391   \n",
       "450743           area                            tr00      None  7391   \n",
       "\n",
       "       time_type coltype      lb           ub     coeff  \n",
       "0           hour       C -2859.0     0.000000  0.000000  \n",
       "1           hour       C  -440.0     0.000000  0.000000  \n",
       "2           hour       C  -148.0     0.000000  0.000000  \n",
       "3           hour       C  -438.0     0.000000  0.000000  \n",
       "4           hour       C -1361.0     0.000000  0.000000  \n",
       "...          ...     ...     ...          ...       ...  \n",
       "450739      hour       C     0.0  1934.804786  0.000672  \n",
       "450740      hour       C     0.0   421.000000 -0.000889  \n",
       "450741      hour       C     0.0  1793.000000 -0.000947  \n",
       "450742      hour       C     0.0   231.000000  0.000906  \n",
       "450743      hour       C     0.0  9859.883436  0.000843  \n",
       "\n",
       "[450744 rows x 12 columns]"
      ]
     },
     "execution_count": 16,
     "metadata": {},
     "output_type": "execute_result"
    }
   ],
   "source": [
    "df_vars"
   ]
  },
  {
   "cell_type": "code",
   "execution_count": 17,
   "metadata": {},
   "outputs": [
    {
     "data": {
      "text/plain": [
       "array(['NTCDirect', 'IntercoDirectCost', 'IntercoIndirectCost',\n",
       "       'DispatchableProduction', 'PositiveUnsuppliedEnergy',\n",
       "       'NegativeUnsuppliedEnergy', 'HydProd'], dtype=object)"
      ]
     },
     "execution_count": 17,
     "metadata": {},
     "output_type": "execute_result"
    }
   ],
   "source": [
    "df_vars[\"name_var\"].unique()"
   ]
  },
  {
   "cell_type": "code",
   "execution_count": 19,
   "metadata": {},
   "outputs": [
    {
     "data": {
      "text/html": [
       "<div>\n",
       "<style scoped>\n",
       "    .dataframe tbody tr th:only-of-type {\n",
       "        vertical-align: middle;\n",
       "    }\n",
       "\n",
       "    .dataframe tbody tr th {\n",
       "        vertical-align: top;\n",
       "    }\n",
       "\n",
       "    .dataframe thead th {\n",
       "        text-align: right;\n",
       "    }\n",
       "</style>\n",
       "<table border=\"1\" class=\"dataframe\">\n",
       "  <thead>\n",
       "    <tr style=\"text-align: right;\">\n",
       "      <th></th>\n",
       "      <th>names</th>\n",
       "      <th>split</th>\n",
       "      <th>name_var</th>\n",
       "      <th>antares_object</th>\n",
       "      <th>name_antares_object</th>\n",
       "      <th>subobject</th>\n",
       "      <th>time</th>\n",
       "      <th>time_type</th>\n",
       "      <th>coltype</th>\n",
       "      <th>lb</th>\n",
       "      <th>ub</th>\n",
       "      <th>coeff</th>\n",
       "    </tr>\n",
       "  </thead>\n",
       "  <tbody>\n",
       "    <tr>\n",
       "      <th>2646</th>\n",
       "      <td>HydProd::area&lt;2_nos0_hydro_open&gt;::hour&lt;7224&gt;  ...</td>\n",
       "      <td>[HydProd, area&lt;2_nos0_hydro_open&gt;, hour&lt;7224&gt;]</td>\n",
       "      <td>HydProd</td>\n",
       "      <td>area</td>\n",
       "      <td>2_nos0_hydro_open</td>\n",
       "      <td>None</td>\n",
       "      <td>7224</td>\n",
       "      <td>hour</td>\n",
       "      <td>C</td>\n",
       "      <td>0.0</td>\n",
       "      <td>23600.000000</td>\n",
       "      <td>0.000982</td>\n",
       "    </tr>\n",
       "    <tr>\n",
       "      <th>5329</th>\n",
       "      <td>HydProd::area&lt;2_nos0_hydro_open&gt;::hour&lt;7225&gt;  ...</td>\n",
       "      <td>[HydProd, area&lt;2_nos0_hydro_open&gt;, hour&lt;7225&gt;]</td>\n",
       "      <td>HydProd</td>\n",
       "      <td>area</td>\n",
       "      <td>2_nos0_hydro_open</td>\n",
       "      <td>None</td>\n",
       "      <td>7225</td>\n",
       "      <td>hour</td>\n",
       "      <td>C</td>\n",
       "      <td>0.0</td>\n",
       "      <td>23600.000000</td>\n",
       "      <td>0.000739</td>\n",
       "    </tr>\n",
       "    <tr>\n",
       "      <th>8012</th>\n",
       "      <td>HydProd::area&lt;2_nos0_hydro_open&gt;::hour&lt;7226&gt;  ...</td>\n",
       "      <td>[HydProd, area&lt;2_nos0_hydro_open&gt;, hour&lt;7226&gt;]</td>\n",
       "      <td>HydProd</td>\n",
       "      <td>area</td>\n",
       "      <td>2_nos0_hydro_open</td>\n",
       "      <td>None</td>\n",
       "      <td>7226</td>\n",
       "      <td>hour</td>\n",
       "      <td>C</td>\n",
       "      <td>0.0</td>\n",
       "      <td>23600.000000</td>\n",
       "      <td>0.000697</td>\n",
       "    </tr>\n",
       "    <tr>\n",
       "      <th>10695</th>\n",
       "      <td>HydProd::area&lt;2_nos0_hydro_open&gt;::hour&lt;7227&gt;  ...</td>\n",
       "      <td>[HydProd, area&lt;2_nos0_hydro_open&gt;, hour&lt;7227&gt;]</td>\n",
       "      <td>HydProd</td>\n",
       "      <td>area</td>\n",
       "      <td>2_nos0_hydro_open</td>\n",
       "      <td>None</td>\n",
       "      <td>7227</td>\n",
       "      <td>hour</td>\n",
       "      <td>C</td>\n",
       "      <td>0.0</td>\n",
       "      <td>23600.000000</td>\n",
       "      <td>-0.000796</td>\n",
       "    </tr>\n",
       "    <tr>\n",
       "      <th>13378</th>\n",
       "      <td>HydProd::area&lt;2_nos0_hydro_open&gt;::hour&lt;7228&gt;  ...</td>\n",
       "      <td>[HydProd, area&lt;2_nos0_hydro_open&gt;, hour&lt;7228&gt;]</td>\n",
       "      <td>HydProd</td>\n",
       "      <td>area</td>\n",
       "      <td>2_nos0_hydro_open</td>\n",
       "      <td>None</td>\n",
       "      <td>7228</td>\n",
       "      <td>hour</td>\n",
       "      <td>C</td>\n",
       "      <td>0.0</td>\n",
       "      <td>23600.000000</td>\n",
       "      <td>0.000840</td>\n",
       "    </tr>\n",
       "    <tr>\n",
       "      <th>...</th>\n",
       "      <td>...</td>\n",
       "      <td>...</td>\n",
       "      <td>...</td>\n",
       "      <td>...</td>\n",
       "      <td>...</td>\n",
       "      <td>...</td>\n",
       "      <td>...</td>\n",
       "      <td>...</td>\n",
       "      <td>...</td>\n",
       "      <td>...</td>\n",
       "      <td>...</td>\n",
       "      <td>...</td>\n",
       "    </tr>\n",
       "    <tr>\n",
       "      <th>439975</th>\n",
       "      <td>HydProd::area&lt;2_nos0_hydro_open&gt;::hour&lt;7387&gt;  ...</td>\n",
       "      <td>[HydProd, area&lt;2_nos0_hydro_open&gt;, hour&lt;7387&gt;]</td>\n",
       "      <td>HydProd</td>\n",
       "      <td>area</td>\n",
       "      <td>2_nos0_hydro_open</td>\n",
       "      <td>None</td>\n",
       "      <td>7387</td>\n",
       "      <td>hour</td>\n",
       "      <td>C</td>\n",
       "      <td>0.0</td>\n",
       "      <td>15249.406894</td>\n",
       "      <td>0.000598</td>\n",
       "    </tr>\n",
       "    <tr>\n",
       "      <th>442658</th>\n",
       "      <td>HydProd::area&lt;2_nos0_hydro_open&gt;::hour&lt;7388&gt;  ...</td>\n",
       "      <td>[HydProd, area&lt;2_nos0_hydro_open&gt;, hour&lt;7388&gt;]</td>\n",
       "      <td>HydProd</td>\n",
       "      <td>area</td>\n",
       "      <td>2_nos0_hydro_open</td>\n",
       "      <td>None</td>\n",
       "      <td>7388</td>\n",
       "      <td>hour</td>\n",
       "      <td>C</td>\n",
       "      <td>0.0</td>\n",
       "      <td>15249.406894</td>\n",
       "      <td>0.000581</td>\n",
       "    </tr>\n",
       "    <tr>\n",
       "      <th>445341</th>\n",
       "      <td>HydProd::area&lt;2_nos0_hydro_open&gt;::hour&lt;7389&gt;  ...</td>\n",
       "      <td>[HydProd, area&lt;2_nos0_hydro_open&gt;, hour&lt;7389&gt;]</td>\n",
       "      <td>HydProd</td>\n",
       "      <td>area</td>\n",
       "      <td>2_nos0_hydro_open</td>\n",
       "      <td>None</td>\n",
       "      <td>7389</td>\n",
       "      <td>hour</td>\n",
       "      <td>C</td>\n",
       "      <td>0.0</td>\n",
       "      <td>15249.406894</td>\n",
       "      <td>0.000589</td>\n",
       "    </tr>\n",
       "    <tr>\n",
       "      <th>448024</th>\n",
       "      <td>HydProd::area&lt;2_nos0_hydro_open&gt;::hour&lt;7390&gt;  ...</td>\n",
       "      <td>[HydProd, area&lt;2_nos0_hydro_open&gt;, hour&lt;7390&gt;]</td>\n",
       "      <td>HydProd</td>\n",
       "      <td>area</td>\n",
       "      <td>2_nos0_hydro_open</td>\n",
       "      <td>None</td>\n",
       "      <td>7390</td>\n",
       "      <td>hour</td>\n",
       "      <td>C</td>\n",
       "      <td>0.0</td>\n",
       "      <td>15249.406894</td>\n",
       "      <td>0.000518</td>\n",
       "    </tr>\n",
       "    <tr>\n",
       "      <th>450707</th>\n",
       "      <td>HydProd::area&lt;2_nos0_hydro_open&gt;::hour&lt;7391&gt;  ...</td>\n",
       "      <td>[HydProd, area&lt;2_nos0_hydro_open&gt;, hour&lt;7391&gt;]</td>\n",
       "      <td>HydProd</td>\n",
       "      <td>area</td>\n",
       "      <td>2_nos0_hydro_open</td>\n",
       "      <td>None</td>\n",
       "      <td>7391</td>\n",
       "      <td>hour</td>\n",
       "      <td>C</td>\n",
       "      <td>0.0</td>\n",
       "      <td>15249.406894</td>\n",
       "      <td>0.000760</td>\n",
       "    </tr>\n",
       "  </tbody>\n",
       "</table>\n",
       "<p>168 rows × 12 columns</p>\n",
       "</div>"
      ],
      "text/plain": [
       "                                                    names  \\\n",
       "2646    HydProd::area<2_nos0_hydro_open>::hour<7224>  ...   \n",
       "5329    HydProd::area<2_nos0_hydro_open>::hour<7225>  ...   \n",
       "8012    HydProd::area<2_nos0_hydro_open>::hour<7226>  ...   \n",
       "10695   HydProd::area<2_nos0_hydro_open>::hour<7227>  ...   \n",
       "13378   HydProd::area<2_nos0_hydro_open>::hour<7228>  ...   \n",
       "...                                                   ...   \n",
       "439975  HydProd::area<2_nos0_hydro_open>::hour<7387>  ...   \n",
       "442658  HydProd::area<2_nos0_hydro_open>::hour<7388>  ...   \n",
       "445341  HydProd::area<2_nos0_hydro_open>::hour<7389>  ...   \n",
       "448024  HydProd::area<2_nos0_hydro_open>::hour<7390>  ...   \n",
       "450707  HydProd::area<2_nos0_hydro_open>::hour<7391>  ...   \n",
       "\n",
       "                                                 split name_var  \\\n",
       "2646    [HydProd, area<2_nos0_hydro_open>, hour<7224>]  HydProd   \n",
       "5329    [HydProd, area<2_nos0_hydro_open>, hour<7225>]  HydProd   \n",
       "8012    [HydProd, area<2_nos0_hydro_open>, hour<7226>]  HydProd   \n",
       "10695   [HydProd, area<2_nos0_hydro_open>, hour<7227>]  HydProd   \n",
       "13378   [HydProd, area<2_nos0_hydro_open>, hour<7228>]  HydProd   \n",
       "...                                                ...      ...   \n",
       "439975  [HydProd, area<2_nos0_hydro_open>, hour<7387>]  HydProd   \n",
       "442658  [HydProd, area<2_nos0_hydro_open>, hour<7388>]  HydProd   \n",
       "445341  [HydProd, area<2_nos0_hydro_open>, hour<7389>]  HydProd   \n",
       "448024  [HydProd, area<2_nos0_hydro_open>, hour<7390>]  HydProd   \n",
       "450707  [HydProd, area<2_nos0_hydro_open>, hour<7391>]  HydProd   \n",
       "\n",
       "       antares_object name_antares_object subobject  time time_type coltype  \\\n",
       "2646             area   2_nos0_hydro_open      None  7224      hour       C   \n",
       "5329             area   2_nos0_hydro_open      None  7225      hour       C   \n",
       "8012             area   2_nos0_hydro_open      None  7226      hour       C   \n",
       "10695            area   2_nos0_hydro_open      None  7227      hour       C   \n",
       "13378            area   2_nos0_hydro_open      None  7228      hour       C   \n",
       "...               ...                 ...       ...   ...       ...     ...   \n",
       "439975           area   2_nos0_hydro_open      None  7387      hour       C   \n",
       "442658           area   2_nos0_hydro_open      None  7388      hour       C   \n",
       "445341           area   2_nos0_hydro_open      None  7389      hour       C   \n",
       "448024           area   2_nos0_hydro_open      None  7390      hour       C   \n",
       "450707           area   2_nos0_hydro_open      None  7391      hour       C   \n",
       "\n",
       "         lb            ub     coeff  \n",
       "2646    0.0  23600.000000  0.000982  \n",
       "5329    0.0  23600.000000  0.000739  \n",
       "8012    0.0  23600.000000  0.000697  \n",
       "10695   0.0  23600.000000 -0.000796  \n",
       "13378   0.0  23600.000000  0.000840  \n",
       "...     ...           ...       ...  \n",
       "439975  0.0  15249.406894  0.000598  \n",
       "442658  0.0  15249.406894  0.000581  \n",
       "445341  0.0  15249.406894  0.000589  \n",
       "448024  0.0  15249.406894  0.000518  \n",
       "450707  0.0  15249.406894  0.000760  \n",
       "\n",
       "[168 rows x 12 columns]"
      ]
     },
     "execution_count": 19,
     "metadata": {},
     "output_type": "execute_result"
    }
   ],
   "source": [
    "df_vars[df_vars.name_var.isin(['HydProd'])&df_vars.name_antares_object.isin([\"2_nos0_hydro_open\"])]"
   ]
  },
  {
   "cell_type": "code",
   "execution_count": 21,
   "metadata": {},
   "outputs": [
    {
     "data": {
      "text/plain": [
       "<Axes: xlabel='time', ylabel='ub'>"
      ]
     },
     "execution_count": 21,
     "metadata": {},
     "output_type": "execute_result"
    },
    {
     "data": {
      "application/vnd.jupyter.widget-view+json": {
       "model_id": "beffbc93aa0c4c80bc794695437d7042",
       "version_major": 2,
       "version_minor": 0
      },
      "image/png": "[encoded data removed]",
      "text/html": [
       "\n",
       "            <div style=\"display: inline-block;\">\n",
       "                <div class=\"jupyter-widgets widget-label\" style=\"text-align: center;\">\n",
       "                    Figure\n",
       "                </div>\n",
       "                <img src='data:image/png;base64,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' width=640.0/>\n",
       "            </div>\n",
       "        "
      ],
      "text/plain": [
       "Canvas(toolbar=Toolbar(toolitems=[('Home', 'Reset original view', 'home', 'home'), ('Back', 'Back to previous …"
      ]
     },
     "metadata": {},
     "output_type": "display_data"
    }
   ],
   "source": [
    "plt.figure()\n",
    "sns.lineplot(data=df_vars[df_vars.name_var.isin(['HydProd'])&df_vars.name_antares_object.isin([\"2_nos0_hydro_open\"])],x=\"time\",y=\"ub\")"
   ]
  },
  {
   "cell_type": "code",
   "execution_count": 76,
   "metadata": {},
   "outputs": [],
   "source": [
    "df_cons = pd.DataFrame(cons, columns=[\"names\"])\n",
    "df_cons[\"split\"] = df_cons[\"names\"].apply(lambda x:x.name.strip().split(\"::\"))\n",
    "df_cons[\"name_cons\"] = df_cons[\"split\"].apply(lambda x:x[0])\n",
    "df_cons[\"antares_object\"] = df_cons[\"split\"].apply(lambda x:x[1].split(\"<\")[0])\n",
    "df_cons[\"name_antares_object\"] = df_cons[\"split\"].apply(lambda x:x[1].split(\"<\")[1].split(\">\")[0] if len(x[1].split(\"<\"))>=2 else \"None\")\n",
    "df_cons[\"time\"] = df_cons[\"split\"].apply(lambda x:int(x[-1].split(\"<\")[1].split(\">\")[0]))\n",
    "df_cons[\"time_type\"] = df_cons[\"split\"].apply(lambda x:x[-1].split(\"<\")[0])\n",
    "rhs = []\n",
    "m.getrhs(rhs, 0, m.attributes.rows - 1)\n",
    "df_cons[\"rhs\"] = rhs"
   ]
  },
  {
   "cell_type": "code",
   "execution_count": 77,
   "metadata": {},
   "outputs": [
    {
     "data": {
      "text/html": [
       "<div>\n",
       "<style scoped>\n",
       "    .dataframe tbody tr th:only-of-type {\n",
       "        vertical-align: middle;\n",
       "    }\n",
       "\n",
       "    .dataframe tbody tr th {\n",
       "        vertical-align: top;\n",
       "    }\n",
       "\n",
       "    .dataframe thead th {\n",
       "        text-align: right;\n",
       "    }\n",
       "</style>\n",
       "<table border=\"1\" class=\"dataframe\">\n",
       "  <thead>\n",
       "    <tr style=\"text-align: right;\">\n",
       "      <th></th>\n",
       "      <th>names</th>\n",
       "      <th>split</th>\n",
       "      <th>name_cons</th>\n",
       "      <th>antares_object</th>\n",
       "      <th>name_antares_object</th>\n",
       "      <th>time</th>\n",
       "      <th>time_type</th>\n",
       "      <th>rhs</th>\n",
       "    </tr>\n",
       "  </thead>\n",
       "  <tbody>\n",
       "    <tr>\n",
       "      <th>0</th>\n",
       "      <td>AreaBalance::area&lt;area&gt;::hour&lt;0&gt;              ...</td>\n",
       "      <td>[AreaBalance, area&lt;area&gt;, hour&lt;0&gt;]</td>\n",
       "      <td>AreaBalance</td>\n",
       "      <td>area</td>\n",
       "      <td>area</td>\n",
       "      <td>0</td>\n",
       "      <td>hour</td>\n",
       "      <td>-20.0</td>\n",
       "    </tr>\n",
       "    <tr>\n",
       "      <th>1</th>\n",
       "      <td>FictiveLoads::area&lt;area&gt;::hour&lt;0&gt;             ...</td>\n",
       "      <td>[FictiveLoads, area&lt;area&gt;, hour&lt;0&gt;]</td>\n",
       "      <td>FictiveLoads</td>\n",
       "      <td>area</td>\n",
       "      <td>area</td>\n",
       "      <td>0</td>\n",
       "      <td>hour</td>\n",
       "      <td>0.0</td>\n",
       "    </tr>\n",
       "    <tr>\n",
       "      <th>2</th>\n",
       "      <td>AreaBalance::area&lt;area&gt;::hour&lt;1&gt;              ...</td>\n",
       "      <td>[AreaBalance, area&lt;area&gt;, hour&lt;1&gt;]</td>\n",
       "      <td>AreaBalance</td>\n",
       "      <td>area</td>\n",
       "      <td>area</td>\n",
       "      <td>1</td>\n",
       "      <td>hour</td>\n",
       "      <td>-20.0</td>\n",
       "    </tr>\n",
       "    <tr>\n",
       "      <th>3</th>\n",
       "      <td>FictiveLoads::area&lt;area&gt;::hour&lt;1&gt;             ...</td>\n",
       "      <td>[FictiveLoads, area&lt;area&gt;, hour&lt;1&gt;]</td>\n",
       "      <td>FictiveLoads</td>\n",
       "      <td>area</td>\n",
       "      <td>area</td>\n",
       "      <td>1</td>\n",
       "      <td>hour</td>\n",
       "      <td>0.0</td>\n",
       "    </tr>\n",
       "    <tr>\n",
       "      <th>4</th>\n",
       "      <td>AreaBalance::area&lt;area&gt;::hour&lt;2&gt;              ...</td>\n",
       "      <td>[AreaBalance, area&lt;area&gt;, hour&lt;2&gt;]</td>\n",
       "      <td>AreaBalance</td>\n",
       "      <td>area</td>\n",
       "      <td>area</td>\n",
       "      <td>2</td>\n",
       "      <td>hour</td>\n",
       "      <td>-20.0</td>\n",
       "    </tr>\n",
       "    <tr>\n",
       "      <th>...</th>\n",
       "      <td>...</td>\n",
       "      <td>...</td>\n",
       "      <td>...</td>\n",
       "      <td>...</td>\n",
       "      <td>...</td>\n",
       "      <td>...</td>\n",
       "      <td>...</td>\n",
       "      <td>...</td>\n",
       "    </tr>\n",
       "    <tr>\n",
       "      <th>1511</th>\n",
       "      <td>MinDownTime::area&lt;area&gt;::ThermalCluster&lt;cluste...</td>\n",
       "      <td>[MinDownTime, area&lt;area&gt;, ThermalCluster&lt;clust...</td>\n",
       "      <td>MinDownTime</td>\n",
       "      <td>area</td>\n",
       "      <td>area</td>\n",
       "      <td>163</td>\n",
       "      <td>hour</td>\n",
       "      <td>15.0</td>\n",
       "    </tr>\n",
       "    <tr>\n",
       "      <th>1512</th>\n",
       "      <td>MinDownTime::area&lt;area&gt;::ThermalCluster&lt;cluste...</td>\n",
       "      <td>[MinDownTime, area&lt;area&gt;, ThermalCluster&lt;clust...</td>\n",
       "      <td>MinDownTime</td>\n",
       "      <td>area</td>\n",
       "      <td>area</td>\n",
       "      <td>164</td>\n",
       "      <td>hour</td>\n",
       "      <td>15.0</td>\n",
       "    </tr>\n",
       "    <tr>\n",
       "      <th>1513</th>\n",
       "      <td>MinDownTime::area&lt;area&gt;::ThermalCluster&lt;cluste...</td>\n",
       "      <td>[MinDownTime, area&lt;area&gt;, ThermalCluster&lt;clust...</td>\n",
       "      <td>MinDownTime</td>\n",
       "      <td>area</td>\n",
       "      <td>area</td>\n",
       "      <td>165</td>\n",
       "      <td>hour</td>\n",
       "      <td>15.0</td>\n",
       "    </tr>\n",
       "    <tr>\n",
       "      <th>1514</th>\n",
       "      <td>MinDownTime::area&lt;area&gt;::ThermalCluster&lt;cluste...</td>\n",
       "      <td>[MinDownTime, area&lt;area&gt;, ThermalCluster&lt;clust...</td>\n",
       "      <td>MinDownTime</td>\n",
       "      <td>area</td>\n",
       "      <td>area</td>\n",
       "      <td>166</td>\n",
       "      <td>hour</td>\n",
       "      <td>15.0</td>\n",
       "    </tr>\n",
       "    <tr>\n",
       "      <th>1515</th>\n",
       "      <td>MinDownTime::area&lt;area&gt;::ThermalCluster&lt;cluste...</td>\n",
       "      <td>[MinDownTime, area&lt;area&gt;, ThermalCluster&lt;clust...</td>\n",
       "      <td>MinDownTime</td>\n",
       "      <td>area</td>\n",
       "      <td>area</td>\n",
       "      <td>167</td>\n",
       "      <td>hour</td>\n",
       "      <td>15.0</td>\n",
       "    </tr>\n",
       "  </tbody>\n",
       "</table>\n",
       "<p>1516 rows × 8 columns</p>\n",
       "</div>"
      ],
      "text/plain": [
       "                                                  names  \\\n",
       "0     AreaBalance::area<area>::hour<0>              ...   \n",
       "1     FictiveLoads::area<area>::hour<0>             ...   \n",
       "2     AreaBalance::area<area>::hour<1>              ...   \n",
       "3     FictiveLoads::area<area>::hour<1>             ...   \n",
       "4     AreaBalance::area<area>::hour<2>              ...   \n",
       "...                                                 ...   \n",
       "1511  MinDownTime::area<area>::ThermalCluster<cluste...   \n",
       "1512  MinDownTime::area<area>::ThermalCluster<cluste...   \n",
       "1513  MinDownTime::area<area>::ThermalCluster<cluste...   \n",
       "1514  MinDownTime::area<area>::ThermalCluster<cluste...   \n",
       "1515  MinDownTime::area<area>::ThermalCluster<cluste...   \n",
       "\n",
       "                                                  split     name_cons  \\\n",
       "0                    [AreaBalance, area<area>, hour<0>]   AreaBalance   \n",
       "1                   [FictiveLoads, area<area>, hour<0>]  FictiveLoads   \n",
       "2                    [AreaBalance, area<area>, hour<1>]   AreaBalance   \n",
       "3                   [FictiveLoads, area<area>, hour<1>]  FictiveLoads   \n",
       "4                    [AreaBalance, area<area>, hour<2>]   AreaBalance   \n",
       "...                                                 ...           ...   \n",
       "1511  [MinDownTime, area<area>, ThermalCluster<clust...   MinDownTime   \n",
       "1512  [MinDownTime, area<area>, ThermalCluster<clust...   MinDownTime   \n",
       "1513  [MinDownTime, area<area>, ThermalCluster<clust...   MinDownTime   \n",
       "1514  [MinDownTime, area<area>, ThermalCluster<clust...   MinDownTime   \n",
       "1515  [MinDownTime, area<area>, ThermalCluster<clust...   MinDownTime   \n",
       "\n",
       "     antares_object name_antares_object  time time_type   rhs  \n",
       "0              area                area     0      hour -20.0  \n",
       "1              area                area     0      hour   0.0  \n",
       "2              area                area     1      hour -20.0  \n",
       "3              area                area     1      hour   0.0  \n",
       "4              area                area     2      hour -20.0  \n",
       "...             ...                 ...   ...       ...   ...  \n",
       "1511           area                area   163      hour  15.0  \n",
       "1512           area                area   164      hour  15.0  \n",
       "1513           area                area   165      hour  15.0  \n",
       "1514           area                area   166      hour  15.0  \n",
       "1515           area                area   167      hour  15.0  \n",
       "\n",
       "[1516 rows x 8 columns]"
      ]
     },
     "execution_count": 77,
     "metadata": {},
     "output_type": "execute_result"
    }
   ],
   "source": [
    "df_cons"
   ]
  },
  {
   "cell_type": "code",
   "execution_count": 78,
   "metadata": {},
   "outputs": [
    {
     "data": {
      "text/plain": [
       "array(['AreaBalance', 'FictiveLoads', 'HydroPower', 'MinHydroPower',\n",
       "       'MaxHydroPower', 'MaxPumping', 'AreaHydroLevel',\n",
       "       'PMaxDispatchableGeneration', 'PMinDispatchableGeneration',\n",
       "       'ConsistenceNODU', 'NbUnitsOutageLessThanNbUnitsStop',\n",
       "       'NbDispUnitsMinBoundSinceMinUpTime', 'MinDownTime'], dtype=object)"
      ]
     },
     "execution_count": 78,
     "metadata": {},
     "output_type": "execute_result"
    }
   ],
   "source": [
    "df_cons[\"name_cons\"].unique()"
   ]
  },
  {
   "cell_type": "code",
   "execution_count": 30,
   "metadata": {},
   "outputs": [],
   "source": [
    "m.write(\"problem.lp\",\"l\")"
   ]
  },
  {
   "cell_type": "markdown",
   "metadata": {},
   "source": [
    "## plot"
   ]
  },
  {
   "cell_type": "code",
   "execution_count": 50,
   "metadata": {},
   "outputs": [],
   "source": [
    "load = np.loadtxt(\"load_res.txt\")"
   ]
  },
  {
   "cell_type": "code",
   "execution_count": 51,
   "metadata": {},
   "outputs": [],
   "source": [
    "hours_week = list(range(168))"
   ]
  },
  {
   "cell_type": "code",
   "execution_count": 67,
   "metadata": {},
   "outputs": [],
   "source": [
    "def plot(gas_prod, step):\n",
    "    fig, ax = plt.subplots()\n",
    "    ax.step(hours_week,load,label=\"Residual load\",color=\"black\",where='post')\n",
    "    ax.plot(hours_week,[125]*168,label=\"P_min\")\n",
    "    ax.step(hours_week,[125 if t in [7,8] else 0 for t in range(168)],label=\"Heuristic min gen\",where='post')\n",
    "    ax.stackplot(hours_week,[gas_prod,step],labels=[\"Gas production\",\"Hydro production\"], step='post')\n",
    "    plt.legend()\n",
    "    plt.xlim((0,24))\n",
    "    plt.show()\n",
    "    plt.xlabel(\"Hour\")\n",
    "    plt.ylabel(\"Energy (MWh)\")\n"
   ]
  },
  {
   "cell_type": "code",
   "execution_count": 68,
   "metadata": {},
   "outputs": [
    {
     "data": {
      "text/plain": [
       "-14.0"
      ]
     },
     "execution_count": 68,
     "metadata": {},
     "output_type": "execute_result"
    }
   ],
   "source": [
    "gas_prod = [0]*168\n",
    "gas_prod[7] = 424\n",
    "gas_prod[8] = 125\n",
    "gas_prod[17] = 68\n",
    "step = np.array(load)-np.array(gas_prod)\n",
    "sum(np.where(step>0,step,0))-0.75*sum(np.where(step<0,-step,0))"
   ]
  },
  {
   "cell_type": "code",
   "execution_count": 69,
   "metadata": {},
   "outputs": [
    {
     "data": {
      "application/vnd.jupyter.widget-view+json": {
       "model_id": "fe6f73df2d804ba288ddbabf6f314c2f",
       "version_major": 2,
       "version_minor": 0
      },
      "image/png": "[encoded data removed]",
      "text/html": [
       "\n",
       "            <div style=\"display: inline-block;\">\n",
       "                <div class=\"jupyter-widgets widget-label\" style=\"text-align: center;\">\n",
       "                    Figure\n",
       "                </div>\n",
       "                <img src='data:image/png;base64,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' width=640.0/>\n",
       "            </div>\n",
       "        "
      ],
      "text/plain": [
       "Canvas(toolbar=Toolbar(toolitems=[('Home', 'Reset original view', 'home', 'home'), ('Back', 'Back to previous …"
      ]
     },
     "metadata": {},
     "output_type": "display_data"
    }
   ],
   "source": [
    "plot(gas_prod,step)"
   ]
  },
  {
   "cell_type": "code",
   "execution_count": 70,
   "metadata": {},
   "outputs": [
    {
     "data": {
      "text/plain": [
       "-14.0"
      ]
     },
     "execution_count": 70,
     "metadata": {},
     "output_type": "execute_result"
    }
   ],
   "source": [
    "gas_prod = [0]*168\n",
    "gas_prod[7] = 424\n",
    "gas_prod[8] = 125+68\n",
    "gas_prod[17] = 0\n",
    "step = np.array(load)-np.array(gas_prod)\n",
    "sum(np.where(step>0,step,0))-0.75*sum(np.where(step<0,-step,0))"
   ]
  },
  {
   "cell_type": "code",
   "execution_count": 71,
   "metadata": {},
   "outputs": [
    {
     "data": {
      "application/vnd.jupyter.widget-view+json": {
       "model_id": "8fa05db906614e57837c35f882ea131b",
       "version_major": 2,
       "version_minor": 0
      },
      "image/png": "[encoded data removed]",
      "text/html": [
       "\n",
       "            <div style=\"display: inline-block;\">\n",
       "                <div class=\"jupyter-widgets widget-label\" style=\"text-align: center;\">\n",
       "                    Figure\n",
       "                </div>\n",
       "                <img src='data:image/png;base64,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' width=640.0/>\n",
       "            </div>\n",
       "        "
      ],
      "text/plain": [
       "Canvas(toolbar=Toolbar(toolitems=[('Home', 'Reset original view', 'home', 'home'), ('Back', 'Back to previous …"
      ]
     },
     "metadata": {},
     "output_type": "display_data"
    }
   ],
   "source": [
    "plot(gas_prod,step)"
   ]
  },
  {
   "cell_type": "code",
   "execution_count": null,
   "metadata": {},
   "outputs": [],
   "source": []
  }
 ],
 "metadata": {
  "kernelspec": {
   "display_name": ".venv",
   "language": "python",
   "name": "python3"
  },
  "language_info": {
   "codemirror_mode": {
    "name": "ipython",
    "version": 3
   },
   "file_extension": ".py",
   "mimetype": "text/x-python",
   "name": "python",
   "nbconvert_exporter": "python",
   "pygments_lexer": "ipython3",
   "version": "3.9.0"
  }
 },
 "nbformat": 4,
 "nbformat_minor": 2
}
